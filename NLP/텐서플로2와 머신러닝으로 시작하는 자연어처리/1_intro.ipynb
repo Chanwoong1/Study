{
 "cells": [
  {
   "cell_type": "code",
   "execution_count": 2,
   "metadata": {},
   "outputs": [
    {
     "name": "stderr",
     "output_type": "stream",
     "text": [
      "Cloning into 'tensorflow-ml-nlp-tf2'...\n",
      "Updating files:  76% (67/88)\n",
      "Updating files:  77% (68/88)\n",
      "Updating files:  78% (69/88)\n",
      "Updating files:  79% (70/88)\n",
      "Updating files:  80% (71/88)\n",
      "Updating files:  81% (72/88)\n",
      "Updating files:  82% (73/88)\n",
      "Updating files:  84% (74/88)\n",
      "Updating files:  85% (75/88)\n",
      "Updating files:  86% (76/88)\n",
      "Updating files:  87% (77/88)\n",
      "Updating files:  88% (78/88)\n",
      "Updating files:  89% (79/88)\n",
      "Updating files:  90% (80/88)\n",
      "Updating files:  92% (81/88)\n",
      "Updating files:  93% (82/88)\n",
      "Updating files:  94% (83/88)\n",
      "Updating files:  95% (84/88)\n",
      "Updating files:  96% (85/88)\n",
      "Updating files:  97% (86/88)\n",
      "Updating files:  98% (87/88)\n",
      "Updating files: 100% (88/88)\n",
      "Updating files: 100% (88/88), done.\n"
     ]
    }
   ],
   "source": [
    "!git clone https://github.com/NLP-kr/tensorflow-ml-nlp-tf2.git"
   ]
  },
  {
   "cell_type": "code",
   "execution_count": null,
   "metadata": {},
   "outputs": [],
   "source": []
  }
 ],
 "metadata": {
  "interpreter": {
   "hash": "b3ba2566441a7c06988d0923437866b63cedc61552a5af99d1f4fb67d367b25f"
  },
  "kernelspec": {
   "display_name": "Python 3.8.8 64-bit ('base': conda)",
   "language": "python",
   "name": "python3"
  },
  "language_info": {
   "codemirror_mode": {
    "name": "ipython",
    "version": 3
   },
   "file_extension": ".py",
   "mimetype": "text/x-python",
   "name": "python",
   "nbconvert_exporter": "python",
   "pygments_lexer": "ipython3",
   "version": "3.8.8"
  },
  "orig_nbformat": 4
 },
 "nbformat": 4,
 "nbformat_minor": 2
}
