{
 "cells": [
  {
   "cell_type": "markdown",
   "metadata": {},
   "source": [
    "# 전처리를 위한 라이브러리\n",
    "\n",
    "## numpy"
   ]
  },
  {
   "cell_type": "code",
   "execution_count": 1,
   "metadata": {},
   "outputs": [
    {
     "name": "stdout",
     "output_type": "stream",
     "text": [
      "[1 2 3]\n"
     ]
    }
   ],
   "source": [
    "import numpy as np\n",
    "a = np.array([1, 2, 3])\n",
    "print(a)"
   ]
  },
  {
   "cell_type": "markdown",
   "metadata": {},
   "source": [
    "## re\n",
    "정규 표현식 라이브러리\n",
    "\n",
    ".  : 줄 바꿈을 제외한 모든 문자\n",
    "\n",
    "^  : 문자열의 시작\n",
    "\n",
    "$  : 문자열의 끝\n",
    "\n",
    "*  : 앞에 있는 문자가 0회 이상 반복된 문자열\n",
    "\n",
    "+  : 앞에 있는 문자가 1회 이상 반복된 문자열\n",
    "\n",
    "{m} : 앞 문자를 m회 반복하는 문자열\n",
    "\n",
    "{m, n} : 앞 문자를 m ~ n회 반복하는 문자열\n",
    "\n",
    "?  : 앞 문자가 나오거나 나오지 않는 문자열\n",
    "\n",
    "\\d : 숫자\n",
    "\n",
    "\\D : 숫자가 아닌 문자\n",
    "\n",
    "\\w : 문자 혹은 숫자\n",
    "\n",
    "\\W : 문자 혹은 숫자가 아닌 것\n",
    "\n",
    "( ... ) : 괄호 안의 모든 정규 표현식을 만족하는 문자\n",
    "\n",
    "[abc] : a, b, c 중 한 개의 문자와 일치\n"
   ]
  },
  {
   "cell_type": "code",
   "execution_count": 3,
   "metadata": {},
   "outputs": [],
   "source": [
    "import re\n",
    "pattern = ' \\W+'\n",
    "re_pattern = re.compile(pattern)    # 정규 표현식 객체로 만들어줌"
   ]
  },
  {
   "cell_type": "code",
   "execution_count": 6,
   "metadata": {},
   "outputs": [
    {
     "data": {
      "text/plain": [
       "<re.Match object; span=(0, 3), match='wow'>"
      ]
     },
     "execution_count": 6,
     "metadata": {},
     "output_type": "execute_result"
    }
   ],
   "source": [
    "# 해당 문자열에서 정규 표현식에 해당하는 첫 부분을 찾음\n",
    "re.search( \"(\\w+)\", \"wow, it is awesome\" ) "
   ]
  },
  {
   "cell_type": "code",
   "execution_count": 7,
   "metadata": {},
   "outputs": [
    {
     "data": {
      "text/plain": [
       "['', 'wow', ', ', 'it', ' ', 'is', ' ', 'world', ' ', 'of', ' ', 'word', '']"
      ]
     },
     "execution_count": 7,
     "metadata": {},
     "output_type": "execute_result"
    }
   ],
   "source": [
    "# 해당 문자열에서 특정 패턴으로 문자열을 나눠서 리스트로 만듬\n",
    "re.split(\"(\\w+)\", \"wow, it is world of word\")"
   ]
  },
  {
   "cell_type": "code",
   "execution_count": 8,
   "metadata": {},
   "outputs": [
    {
     "data": {
      "text/plain": [
       "'number candy'"
      ]
     },
     "execution_count": 8,
     "metadata": {},
     "output_type": "execute_result"
    }
   ],
   "source": [
    "# 문자열에서 특정 패턴을 만족시키는 문자를 사용자가 정의한 문자로 치환\n",
    "re.sub(\"\\d\", \"number\", \"7 candy\" )"
   ]
  },
  {
   "cell_type": "markdown",
   "metadata": {},
   "source": [
    "## Beautifulsoup"
   ]
  },
  {
   "cell_type": "code",
   "execution_count": 9,
   "metadata": {},
   "outputs": [],
   "source": [
    "from bs4 import BeautifulSoup"
   ]
  },
  {
   "cell_type": "code",
   "execution_count": 10,
   "metadata": {},
   "outputs": [
    {
     "name": "stdout",
     "output_type": "stream",
     "text": [
      " 이 글은 Beautiful soup 라이브러리를 사용하는 방법에 대한 글입니다.   라이브러리를 사용하면 쉽게 HTML 태그를 제거할 수 있습니다.\n"
     ]
    }
   ],
   "source": [
    "string = '<body> 이 글은 Beautiful soup 라이브러리를 사용하는 방법에 대한 글입니다. <br> </br> 라이브러리를 사용하면 쉽게 HTML 태그를 제거할 수 있습니다.</body>'\n",
    "\n",
    "string = BeautifulSoup(string,\"html5lib\").get_text() # HTML 태그를 제외한 텍스트만 가져온다\n",
    "\n",
    "print(string) # 텍스트 확인"
   ]
  }
 ],
 "metadata": {
  "interpreter": {
   "hash": "b3ba2566441a7c06988d0923437866b63cedc61552a5af99d1f4fb67d367b25f"
  },
  "kernelspec": {
   "display_name": "Python 3.8.8 64-bit ('base': conda)",
   "language": "python",
   "name": "python3"
  },
  "language_info": {
   "codemirror_mode": {
    "name": "ipython",
    "version": 3
   },
   "file_extension": ".py",
   "mimetype": "text/x-python",
   "name": "python",
   "nbconvert_exporter": "python",
   "pygments_lexer": "ipython3",
   "version": "3.8.8"
  },
  "orig_nbformat": 4
 },
 "nbformat": 4,
 "nbformat_minor": 2
}
