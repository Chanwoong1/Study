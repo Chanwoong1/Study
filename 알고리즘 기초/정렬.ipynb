{
 "cells": [
  {
   "cell_type": "markdown",
   "metadata": {},
   "source": [
    "# 정렬이란?\n",
    "\n",
    "## 기본 내용\n",
    "\n",
    "- 정렬 : 데이터를 특정한 기준에 따라서 순서대로 나열하는 것을 의미함.\n",
    "\n",
    "- 뒤에서 나오는 이진탐색에 대해서의 기본적인 기능이 지금 하는 정렬에 관련된 부분임.\n",
    "- 정렬 알고리즘은 상당히 다양함.\n",
    "- 시험적인 관점에서는 상당히 중요한 파트임!!!!!!!\n",
    "\n",
    "## 구현 시 꼭 알아야 하는 swap\n",
    "\n",
    "- 참고) swap  → 아래와 같이 하면, 중간에 temp라는 변수를 사용하지 않고 할 수 있어서임!!!"
   ]
  },
  {
   "cell_type": "code",
   "execution_count": 2,
   "metadata": {},
   "outputs": [
    {
     "name": "stdout",
     "output_type": "stream",
     "text": [
      "[3, 10]\n",
      "--------\n",
      "[10, 3]\n"
     ]
    }
   ],
   "source": [
    "# 일반적으로 swap를 하기위해서는 아래와 같은 temp를 사용해서 처리를 해야한다\n",
    "arr = [3,10]\n",
    "print(arr)\n",
    "print(\"--------\")\n",
    "temp = arr[0]\n",
    "arr[0] = arr[1]\n",
    "arr[1] = temp\n",
    "print(arr)"
   ]
  },
  {
   "cell_type": "code",
   "execution_count": 3,
   "metadata": {},
   "outputs": [
    {
     "name": "stdout",
     "output_type": "stream",
     "text": [
      "[3, 10]\n",
      "------\n",
      "[10, 3]\n"
     ]
    }
   ],
   "source": [
    "# temp 없이 바로 바꾸기 위해서는 아래와 같은 형식을 사용을 함!!!!!\n",
    "arr = [3, 10]\n",
    "print(arr)\n",
    "print(\"------\")\n",
    "arr[0], arr[1] = arr[1], arr[0]\n",
    "print(arr)"
   ]
  },
  {
   "cell_type": "markdown",
   "metadata": {},
   "source": [
    "# 선택정렬\n",
    "\n",
    "ref) [https://www.programiz.com/dsa/selection-sort](https://www.programiz.com/dsa/selection-sort)\n",
    "\n",
    "- 기본 아이디어 : 정렬되지 않은 그룹에서 하나씩 들어다가 다른 곳으로 옮기는 과정에서 순서에 맞게 중간중간 삽입을 하는 방법!\n",
    "- `key` 기준에 맞는 것으로 해서 차례대로 제일 부합하는 것을 찾아서 → 차례대로 하나씩 하게 되면 자연히 정리가 되는 것. 아래의 속담이 그 의미를 정확히 담고 있음!\n",
    "**( 제일 작은 놈이 없는 곳에서는 그 다음 작은 놈이 제일 작은 놈이 된다!!!)**\n",
    "\n",
    "<aside>\n",
    "🛠 일단 주어진 것에서 제일 작은것 or 제일 큰 값을 먼저 찾기!!!\n",
    "→ 그 값을 맨 앞의 값과 교환해서  가서 제일 작은 것 배치 완료(제일 큰것, 맨 오른쪽)\n",
    "→ 남은 것들을 대상으로 다시 제일 작은 or 제일 큰 것을 찾아서 반복 수행!!!\n",
    "\n",
    "그 스텝의 제일 작은 값이 어디에 위치하는지 정보를 잘 관리!!!\n",
    "아래 그림의 진한 파란색은 그 스텝의 제일 작은 값이 어디에 있는지를 알려주고 있는 부분임을 염두하고 아래 그림을 보자!!!\n",
    "\n",
    "</aside>\n",
    "\n",
    "## 구현\n",
    "\n",
    "- 선택정렬 구현"
   ]
  },
  {
   "cell_type": "code",
   "execution_count": 4,
   "metadata": {},
   "outputs": [
    {
     "name": "stdout",
     "output_type": "stream",
     "text": [
      "[2, 10, 12, 15, 20]\n"
     ]
    }
   ],
   "source": [
    "arr = [20,12,10,15,2]\n",
    "\n",
    "for step in range(len(arr)):\n",
    "    min_index = step # 일단 한 번씩 제일 작은 놈, 그 다음 작은 놈 이렇게 하나씩 밀어야 하니...\n",
    "    for i in range(step+1, len(arr)): # 이미 작업한 놈들에 대해서 처리하고, 하나씩 남은 것들 돌아가면서...\n",
    "        if arr[i] < arr[min_index]:\n",
    "            min_index = i\n",
    "        else:\n",
    "            pass\n",
    "    # 각 단계별로 어떻게 되는지 확인하기 위해서는 아래의 주석을 풀면 됨\n",
    "    # print(arr)\n",
    "\n",
    "    # 서로 위치 교환!!!\n",
    "    arr[step], arr[min_index] = arr[min_index], arr[step]\n",
    "print(arr)"
   ]
  },
  {
   "cell_type": "markdown",
   "metadata": {},
   "source": [
    "## 시간 복잡도에 대해서...\n",
    "\n",
    "- 참고) 아래의 글에서는 N개인지 vs N번인지 명확하게 정확히 구분을 해야한다!!!!!\n",
    "- N개의 원소가 있다고 한다면, 우리는 N-1번  만큼의 가장 작은 수들을 계속 찾아서 앞으로 보내야 한다.  → N개 원소 중 작은거 찾기 + N-1개 원소 중에서 작은거 찾기 + ... + 2개 원소 중에서 작은거  찾기 = N + (N-1) +.. + 2 = (N ) (N+1)/ 2정도의 연산을 수행을 함.\n",
    "\n",
    "→ 선택정렬은 기본적인 N^2의 시간복잡도를 가지고 있음 → 간단히 코드를 보면 2중 for 문이 보인다!!!!\n",
    "\n",
    "<aside>\n",
    "💡 선택정렬은 간단히 주어진 것들에 대해서 정리하게에는 용이하지만 \n",
    "시간의 복잡도가 `제곱`의 복잡도를 가지고 있기 때문에 \n",
    "원소의 수가 늘어나게 된다면 시간이 기하급수 적으로 증가를 하는 부분의 리스크가 존재를 한다!!!!!\n",
    "\n",
    "</aside>"
   ]
  },
  {
   "cell_type": "markdown",
   "metadata": {},
   "source": [
    "# 삽입정렬\n",
    "\n",
    "ref) [https://www.programiz.com/dsa/insertion-sort](https://www.programiz.com/dsa/insertion-sort)\n",
    "\n",
    "- 기본 개념 : 1개를 꺼내어서 적당한 위치에 집어 넣는다는 것이 기본 개념임!!!\n",
    "\n",
    "## 구현\n",
    "\n",
    "- 특이 사항1)  시작할 때 앞에서 0번째 원소는 이미 정리되었다고 가정을 하니, 1번째(실은 2번째 원소부터) 가지고 와서 비교를 시작을 한다. → for에서 돌리는 것이 맨 앞부터가 아니라 2번째 부터 돌려야 함. → for i in range(0, len(arr)) 이 아니라 for i in range(1, len(arr) )로 변경!!!\n",
    "- 특이 사항2) 비교를 할 때 바로 앞에 부터 하나씩 앞으로 가면서 비교"
   ]
  },
  {
   "cell_type": "code",
   "execution_count": 8,
   "metadata": {},
   "outputs": [
    {
     "name": "stdout",
     "output_type": "stream",
     "text": [
      "[5, 9, 1, 4, 3]\n",
      "[1, 5, 9, 4, 3]\n",
      "[1, 4, 5, 9, 3]\n",
      "[1, 3, 4, 5, 9]\n",
      "-------------------\n",
      "[1, 3, 4, 5, 9]\n"
     ]
    }
   ],
   "source": [
    "arr = [9,5,1,4,3]\n",
    "\n",
    "# 0번째의  원소는 이미 정리가 되었다고 가정을 하고 하니, 2번째 원소부터 하면 되니까..시작점에서 1로 변경!!!!\n",
    "for step in range(1, len(arr)):\n",
    "    # key = arr[step]\n",
    "    # 이제 앞에 이미 정리된 것들하고 비교를 하는데, --> 문제는 바로 앞에 있는 것부터 비교를 한다.----> 순서에 유의!!!!\n",
    "    for i in range(step, 0, -1): # 지금 위치부터, 맨 앞인 0까지 하나씩 앞으로 가면서.....\n",
    "        if arr[i] < arr [i-1]: # 이미 정리된 것보다 작으면..내 자리를 내주고, 더 앞으로 가서 내가 어디쯤 앞인지 가야함.. -> swap\n",
    "            arr[i], arr[i-1] = arr[i-1], arr[i]\n",
    "        else: # 이미 내가 앞에 비교하면서 가는데 , 내가 크면 앞으로 더 갈 필요가 없으니,,,고만!!!!\n",
    "            break\n",
    "    # 확인용...\n",
    "    print(arr)\n",
    "print('-------------------')\n",
    "print(arr)"
   ]
  },
  {
   "cell_type": "markdown",
   "metadata": {},
   "source": [
    "## 시간 복잡도에 대해서..\n",
    "\n",
    "- 간단히 위의 코드를 봐도 2중 for 문으로 O(N^2)이다. → 선택 정렬과 마찬가지고 속도에서의 문제점이 원소의 수가 늘어나면 시간의 소비가 제곱으로 늘어나는 문제점이 존재함!!!!\n",
    "- 1+2+3+ .. + (N-1) 의 연산을 가지고 있어서 앞에서의 선택정렬과 동일.\n",
    "\n",
    "# 버블 정렬\n",
    "\n",
    "- 기본 개념 : 컨베이어 벨트 처럼, 앞뒤2개를 기준으로 작고 & 큰 것을 계속 비교를 해나가는 것!!!! → 이렇게 교환 swap이 더이상 일어나지 않을 때 까지!!!! 바꿔~~~\n",
    "→ **이렇게 되면 가장 중요한 것은 앞에서 제일 큰 것이 맨 뒤로 가게 된다!!!\n",
    "제일 큰 놈은 맨 뒤로 가라!!!!!!( 이 부분이 핵심임!!!) → 그래서 가면 갈 수록 하는 횟수가 줄어들게 됨!!!( 주어진 것에서 맨 큰 것을 찾아서 맨 뒤로 가니!!!)**\n",
    "\n",
    "## 구현\n",
    "\n",
    "- 주의해야 하는 것이 인덱스!!!"
   ]
  },
  {
   "cell_type": "code",
   "execution_count": 9,
   "metadata": {},
   "outputs": [
    {
     "name": "stdout",
     "output_type": "stream",
     "text": [
      "[-9, -2, 0, 11, 45]\n"
     ]
    }
   ],
   "source": [
    "arr = [ -2, 45, 0 ,11 , -9]\n",
    "\n",
    "# 일단 전체 원소들을 돌려가면서 하자...\n",
    "for i in range(0, len(arr)):\n",
    "    # 인덱스에서 주의\n",
    "    # +1로 다음 칸을 볼 수 있고, 맨 마지막은 하나씩 제일 큰 애들이 오니..-i - 1\n",
    "    for j in range(0, len(arr) -i -1):\n",
    "        if arr[j] > arr[j+1]:\n",
    "            arr[j], arr[j+1] = arr[j+1], arr[j]\n",
    "        else:\n",
    "            pass\n",
    "print(arr)"
   ]
  },
  {
   "cell_type": "markdown",
   "metadata": {},
   "source": [
    "# 퀵 정렬\n",
    "\n",
    "## 기본과정\n",
    "\n",
    "기본 개념 : 기준을 가지고 그 기준을 중심으로 UP, Down으로 구분 → 다시 또 기준을 가지고 다시 Up , Down으로 구분 등등등...\n",
    "\n",
    "참고) 기준을 보통 pivot으로 이야기를 하고, 보통은 크게 맨앞, 중간, 맨뒤를 한다. → 응용이 다양하게 된다. → pivot에 대한 선정에 대해서도 여러가지 방법이 있음.\n",
    "\n",
    "## 구현\n",
    "\n",
    "- 일단 계속 하는 것이 반복이 되는 것이고, 이러한 것은 바로 앞에서 한 재귀함수에 대한 것을 다시 돌리면 된다!!! → 재귀함수의 재등장!!!!"
   ]
  },
  {
   "cell_type": "code",
   "execution_count": 10,
   "metadata": {},
   "outputs": [
    {
     "name": "stdout",
     "output_type": "stream",
     "text": [
      "[0, 1, 2, 3, 4, 5, 6, 7, 8, 9]\n"
     ]
    }
   ],
   "source": [
    "arr = [ 5, 7, 9, 0, 3, 1, 6, 2, 4, 8]\n",
    "\n",
    "# 반복성에 대한 것을 재귀함수로..\n",
    "def quick_sort(array, start, end):\n",
    "    # 원소의 갯수가 1개인 경우 종료\n",
    "    if start >= end:\n",
    "        return\n",
    "    else:\n",
    "        pivot = start # 왼쪽을 기준으로 하려고 하니...\n",
    "        left = start + 1    # pivot 이후 -> 밀려고 하는 순서\n",
    "        right = end         # pivot 이후 <- 밀려고 하는 순서\n",
    "        \n",
    "        while (left <= right) :\n",
    "            # pivot 보다 큰 데이터를 찾을 때 까지 반복\n",
    "            while (left <= end and array[left] <= array[pivot]):\n",
    "                left += 1\n",
    "            # pivot 보다 작은 데이터를 찾을 때 까지 반복\n",
    "            while (right > start and array[right] >= array[pivot]):\n",
    "                right -= 1\n",
    "            \n",
    "            # 서로 위치가 뒤집어 지는지...\n",
    "            if left > right :\n",
    "                # 뒤집어졌으니,,,,값을 swap\n",
    "                array[right], array[pivot] = array[pivot], array[right]\n",
    "            else:\n",
    "                array[left], array[right] = array[right], array[left]\n",
    "        # 분할이 이후에 분할의 왼쪽, 오른쪽에 대해서 다시 수행...-> 재귀함수\n",
    "        quick_sort( array, start, right -1)\n",
    "        quick_sort( array, right +1, end )\n",
    "\n",
    "######\n",
    "quick_sort(arr, 0, len(arr) - 1)\n",
    "print(arr)"
   ]
  },
  {
   "cell_type": "code",
   "execution_count": 11,
   "metadata": {},
   "outputs": [
    {
     "name": "stdout",
     "output_type": "stream",
     "text": [
      "[0, 1, 2, 3, 4, 5, 6, 7, 8, 9]\n"
     ]
    }
   ],
   "source": [
    "# 수정\n",
    "arr = [5, 7, 9, 0, 3, 1, 6, 2, 4, 8]\n",
    "\n",
    "def quick_sort(array):\n",
    "    # 리스트가 하나 이하의 원소만을 담고 있다면 종료\n",
    "    if len(array) <= 1:\n",
    "        return array\n",
    "\n",
    "    pivot = array[0] # 피벗은 첫 번째 원소\n",
    "    tail = array[1:] # 피벗을 제외한 리스트\n",
    "\n",
    "    left_side = [x for x in tail if x <= pivot] # 분할된 왼쪽 부분\n",
    "    right_side = [x for x in tail if x > pivot] # 분할된 오른쪽 부분\n",
    "\n",
    "    # 분할 이후 왼쪽 부분과 오른쪽 부분에서 각각 정렬을 수행하고, 전체 리스트를 반환\n",
    "    return quick_sort(left_side) + [pivot] + quick_sort(right_side)\n",
    "\n",
    "####\n",
    "print(quick_sort(arr))"
   ]
  },
  {
   "cell_type": "markdown",
   "metadata": {},
   "source": [
    "# 기타 사항들\n",
    "\n",
    "- 물론 이 외에도 상당히 여러가지 알고리즘이 존재를 하고 있음.\n",
    "- 신입사원 면접이라는 기준으로 본다면, 최신의 것이 아니라 기본이 되는 알고리즘에 대한 이해가 중요하고, 기본적인 정리 및 나머지는 응용으로 좀 더 개인적으로 확인을 하면 될 듯.\n",
    "\n",
    "<aside>\n",
    "💡 [ 정렬 관련 패턴 ]\n",
    "- 파이썬의 sort(), sorted() 같은 기능으로 NlogN의 속도를 제한적으로 보장을 받으면서, 기본적인 정렬이라는 것을 활용하는 문제\n",
    "- 정렬 알고리즘의 기본적인 이해에 관련된 문제\n",
    "- 속도 향상에 관련된 문제\n",
    "\n",
    "</aside>"
   ]
  },
  {
   "cell_type": "code",
   "execution_count": null,
   "metadata": {},
   "outputs": [],
   "source": []
  }
 ],
 "metadata": {
  "interpreter": {
   "hash": "b3ba2566441a7c06988d0923437866b63cedc61552a5af99d1f4fb67d367b25f"
  },
  "kernelspec": {
   "display_name": "Python 3.8.8 64-bit ('base': conda)",
   "language": "python",
   "name": "python3"
  },
  "language_info": {
   "codemirror_mode": {
    "name": "ipython",
    "version": 3
   },
   "file_extension": ".py",
   "mimetype": "text/x-python",
   "name": "python",
   "nbconvert_exporter": "python",
   "pygments_lexer": "ipython3",
   "version": "3.8.8"
  },
  "orig_nbformat": 4
 },
 "nbformat": 4,
 "nbformat_minor": 2
}
