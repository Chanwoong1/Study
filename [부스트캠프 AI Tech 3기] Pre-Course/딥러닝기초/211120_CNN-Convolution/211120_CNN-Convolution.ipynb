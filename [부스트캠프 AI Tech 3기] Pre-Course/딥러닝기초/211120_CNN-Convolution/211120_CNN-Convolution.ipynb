{
 "cells": [
  {
   "cell_type": "markdown",
   "metadata": {},
   "source": [
    "# Convolution\n",
    "![](2021-11-20-10-12-52.png)\n",
    "![](2021-11-20-10-13-11.png)\n",
    "![](2021-11-20-10-17-21.png)"
   ]
  },
  {
   "cell_type": "markdown",
   "metadata": {},
   "source": [
    "## RGB Image Convolution\n",
    "![](2021-11-20-10-17-43.png)\n",
    "![](2021-11-20-10-17-55.png)"
   ]
  },
  {
   "cell_type": "markdown",
   "metadata": {},
   "source": [
    "## Stack of Convolution\n",
    "![](2021-11-20-10-18-15.png)"
   ]
  },
  {
   "cell_type": "markdown",
   "metadata": {},
   "source": [
    "# Convolutional Neural Networks\n",
    "![](2021-11-20-10-18-56.png)\n",
    "\n",
    "## Convolution Arithmetic (of GoogLeNet)\n",
    "![](2021-11-20-10-21-12.png)"
   ]
  },
  {
   "cell_type": "markdown",
   "metadata": {},
   "source": [
    "# Stride\n",
    "![](2021-11-20-10-21-55.png)"
   ]
  },
  {
   "cell_type": "markdown",
   "metadata": {},
   "source": [
    "# Padding\n",
    "![](2021-11-20-10-22-40.png)"
   ]
  },
  {
   "cell_type": "markdown",
   "metadata": {},
   "source": [
    "# Convolution Arithmetic\n",
    "![](2021-11-20-10-27-12.png)"
   ]
  }
 ],
 "metadata": {
  "language_info": {
   "name": "python"
  },
  "orig_nbformat": 4
 },
 "nbformat": 4,
 "nbformat_minor": 2
}
