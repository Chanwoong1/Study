{
 "cells": [
  {
   "cell_type": "markdown",
   "metadata": {},
   "source": [
    "# 조건부 확률이란?\n",
    "- 조건부 확률 $$ P(A \\bigcap B) = P(B)P(A|B) $$ \n",
    "\n",
    "- 사건 B가 일어난 상황에서 사건 A가 발생활 확률"
   ]
  },
  {
   "cell_type": "markdown",
   "metadata": {},
   "source": [
    "![](2021-11-19-11-55-47.png)\n",
    "- 데이터를 관찰한 이후 발생한 확률로 사후확률\n",
    "- 데이터를 관찰하기 이전 발생한 확률 사전확률\n",
    "\n",
    "사전확률과 LIKELIHOOD, EVIDENCE를 이용해 사후확률을 구할 수 있다."
   ]
  },
  {
   "cell_type": "markdown",
   "metadata": {},
   "source": [
    "# 베이즈 정리 예제\n",
    "- COVID-99의 발병률이 10%로 알려져 있다. COVID-99에 실제로 걸렸을 때 검진될 확률은 99%, 실제로 걸리지 않았을 때 오검진될 확률이 1%라고 할 때, 어떤 사람이 질병에 걸렸다고 검진결과가 나왔을 때 정말로 COVID-99에 감염되었을 확률은 ?\n",
    "\n",
    "![](2021-11-19-12-04-19.png)\n",
    "# 가능도가 바뀌는 경우\n",
    "![](2021-11-19-12-05-15.png)"
   ]
  },
  {
   "cell_type": "markdown",
   "metadata": {},
   "source": [
    "# 조건부확률의 시각화\n",
    "![](2021-11-19-12-07-45.png)"
   ]
  },
  {
   "cell_type": "markdown",
   "metadata": {},
   "source": [
    "# 베이즈 정리를 통한 정보의 갱신\n",
    "- 베이즈 정리를 통해 새로운 데이터가 들어왔을 때 앞서 계산한 사후확률을 사전확률로 사용하여 갱신된 사후확률을 계산할 수 있다.\n",
    "\n",
    "앞서 COVID-99 판정을 받은 사람이 두 번째 검진을 받았을 때도 양성이 나왔을 때 진짜 COVID-99에 걸렸을 확률은 ?\n",
    "\n",
    "![](2021-11-19-12-11-51.png)"
   ]
  },
  {
   "cell_type": "markdown",
   "metadata": {},
   "source": [
    "# 조건부 확률 -> 인과관계 ?\n",
    "- 조건부 확률은 유용한 통계적 해석을 제공하지만 인과관계를 추론할 때 함부로 사용해서는 안된다.\n",
    "- 인과관계는 데이터 분포의 변화에 강건한 예측모형을 만들 때 필요하다.\n",
    "- 인과관계를 알아내기 위해서는 중첨요인의 효과를 제거하고 원인에 해당하는 변수만의 인과관계를 계산해야 한다."
   ]
  }
 ],
 "metadata": {
  "interpreter": {
   "hash": "b3ba2566441a7c06988d0923437866b63cedc61552a5af99d1f4fb67d367b25f"
  },
  "kernelspec": {
   "display_name": "Python 3.8.8 64-bit ('base': conda)",
   "language": "python",
   "name": "python3"
  },
  "language_info": {
   "name": "python",
   "version": "3.8.8"
  },
  "orig_nbformat": 4
 },
 "nbformat": 4,
 "nbformat_minor": 2
}
