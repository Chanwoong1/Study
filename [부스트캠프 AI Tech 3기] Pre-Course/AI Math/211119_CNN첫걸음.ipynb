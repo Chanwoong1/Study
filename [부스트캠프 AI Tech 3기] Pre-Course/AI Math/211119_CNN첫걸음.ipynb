{
 "cells": [
  {
   "cell_type": "markdown",
   "metadata": {},
   "source": [
    "# CNN 첫걸음"
   ]
  },
  {
   "cell_type": "markdown",
   "metadata": {},
   "source": [
    "# Convolution 연산 이해하기\n",
    "- 지금까지 배운 다층신경망은 각 뉴런들이 선형모델과 활성함수로 모두 연결된 'fully connected' 구조였다.\n",
    "\n",
    "- convolution 연산은 이와달리 커널(kernel)을 입력벡터 상에서 움직여가면서 선형모델과 합성함수가 적용되는 구조이다.\n",
    "\n",
    "- convolution 연산의 수학적인 의미는 신호(signal)를 커널을 이용해 국소적으로 증폭 또는 감소시켜서 정보를 추출 또는 필터링 하는 것이다.\n",
    "\n",
    "![](2021-11-19-12-37-54.png)\n",
    "\n",
    "- 커널은 정의역 내에서 움직여도 변하지 않고 주어진 신호에 국소적으로 적용된다."
   ]
  },
  {
   "cell_type": "markdown",
   "metadata": {},
   "source": [
    "# 다양한 차원에서의 Convolution\n",
    "- convolution 연산은 1차원뿐만 아니라 다양한 차원에서 계산 가능하다\n",
    "![](2021-11-19-12-40-41.png)\n",
    "- 여기서 i, j, k 값이 바뀌어도 커널의 값은 바뀌지 않는다.\n"
   ]
  },
  {
   "cell_type": "markdown",
   "metadata": {},
   "source": [
    "# 2차원 Convolution 연산 이해하기\n",
    "- 2D-Conv 연산은 이와 달리 커널(kernel)을 입력벡터 상에서 움직여 가면서 선형 모델과 합성함수가 적용되는 구조이다.\n",
    "![](2021-11-19-12-42-26.png)\n",
    "![](2021-11-19-12-47-21.png)\n",
    "- 채널이 여러개인 2차원 입력의 경우 2차원 Convolution을 채널 개수만큼 적용한다고 생각하면 된다.\n"
   ]
  },
  {
   "cell_type": "markdown",
   "metadata": {},
   "source": [
    "# Convolution 연산의 역전파 이해하기\n",
    "- convolution 연산은 커널이 모든 입력데이터에 공통으로 적용되기 때문에 역전파를 계산할 때도 convolution 연산이 나오게 된다.\n",
    "![](2021-11-19-12-50-23.png)\n"
   ]
  }
 ],
 "metadata": {
  "language_info": {
   "name": "python"
  },
  "orig_nbformat": 4
 },
 "nbformat": 4,
 "nbformat_minor": 2
}
