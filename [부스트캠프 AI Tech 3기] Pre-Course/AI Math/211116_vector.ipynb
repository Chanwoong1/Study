{
 "cells": [
  {
   "cell_type": "markdown",
   "metadata": {},
   "source": [
    "# 벡터\n",
    "- 벡터는 숫자를 원소로 가지는 리스트(list) 또는 배열 (array)"
   ]
  },
  {
   "cell_type": "markdown",
   "metadata": {},
   "source": [
    "## 벡터가 뭔가요 ?\n",
    "- 벡터는 공간에서 한 점을 나타낸다.\n",
    "- 벡터는 원점으로부터 상대적 위치를 표현한다.\n",
    "- 벡터에 숫자를 곱해주면 길이만 변한다.\n",
    "- 벡터끼리 같은 모양을 가지면 덧셈, 뺄셈을 계산할 수 있다.\n",
    "- 벡터끼리 같은 모양을 가지면 성분곱을 계산할 수 있다."
   ]
  },
  {
   "cell_type": "code",
   "execution_count": 1,
   "metadata": {},
   "outputs": [
    {
     "name": "stdout",
     "output_type": "stream",
     "text": [
      "x + y = [6 9 3]\n",
      "x - y = [-4  5  1]\n",
      "x * y = [ 5 14  2]\n"
     ]
    }
   ],
   "source": [
    "# 성분곱이란\n",
    "import numpy as np\n",
    "x = np.array([1, 7, 2])\n",
    "y = np.array([5, 2, 1])\n",
    "print('x + y =', x + y)\n",
    "print('x - y =',x - y)\n",
    "print('x * y =',x * y)"
   ]
  },
  {
   "cell_type": "markdown",
   "metadata": {},
   "source": [
    "## 벡터의 덧셈\n",
    "- 두 벡터의 덧셈은 다른 벡터로부터 상대적 위치 이동을 표현한다."
   ]
  },
  {
   "cell_type": "markdown",
   "metadata": {},
   "source": [
    "## 벡터의 노름(norm)\n",
    "- norm : 원점에서부터의 거리\n",
    "- L1노름은 각 성분의 변화량의 절대값을 모두 더한다.\n",
    "- L2노름은 피타고라스 정리를 이용해 유클리드 거리를 계산한다."
   ]
  },
  {
   "cell_type": "code",
   "execution_count": 2,
   "metadata": {},
   "outputs": [
    {
     "name": "stdout",
     "output_type": "stream",
     "text": [
      "l1 norm of x : 10\n",
      "l2 norm of x : 7.3484692283495345\n"
     ]
    }
   ],
   "source": [
    "# norm of vector\n",
    "def l1_norm(x) : \n",
    "    x_norm = np.abs(x)\n",
    "    x_norm = np.sum(x_norm)\n",
    "    return x_norm\n",
    "\n",
    "def l2_norm(x) :\n",
    "    x_norm = x * x\n",
    "    x_norm = np.sum(x_norm)\n",
    "    x_norm = np.sqrt(x_norm)\n",
    "    return x_norm\n",
    "\n",
    "print('l1 norm of x :', l1_norm(x))\n",
    "print('l2 norm of x :', l2_norm(x))"
   ]
  },
  {
   "cell_type": "markdown",
   "metadata": {},
   "source": [
    "- 노름의 종류에 따라 기하학적 성질이 달라진다.\n",
    "- 머신러닝에선 각 성질들이 필요할 때가 있으므로 둘 다 사용한다\n",
    "- L1, L2 노름을 이용해 두 벡터 사이의 거리를 구할 수 있다.\n",
    "- 두 벡터 사이의 거리를 계산할 경우 벡터의 뺄셈을 이용한다"
   ]
  },
  {
   "cell_type": "markdown",
   "metadata": {},
   "source": [
    "## 두 벡터 사이의 각\n",
    "- 두 벡터 사이의 거리를 이용하여 벡터 사이의 각을 구할 수 있다.\n",
    "- 제 2 코사인 법칙에 의해 두 벡터 사이의 각도를 구할 수 있다.\n",
    "- 분자를 쉽게 계산하는 방법이 내적이다."
   ]
  },
  {
   "cell_type": "code",
   "execution_count": 3,
   "metadata": {},
   "outputs": [
    {
     "name": "stdout",
     "output_type": "stream",
     "text": [
      "1.0218962578343371\n"
     ]
    }
   ],
   "source": [
    "# 두 벡터 사이의 각\n",
    "def angle(x, y) :\n",
    "    v = np.inner(x, y) / (l2_norm(x) * l2_norm(y))\n",
    "    theta = np.arccos(v)\n",
    "    return theta\n",
    "\n",
    "print(angle(x, y))"
   ]
  },
  {
   "cell_type": "markdown",
   "metadata": {},
   "source": [
    "## 내적이란 ?\n",
    "- 내적은 정사영된 벡터의 길이와 관련이 있다.\n",
    "    - 정사영 :도형의 각 점에서 한 평면에 내린 수선의 발이 그리는 도형.\n",
    "- 내적은 정사영의 길이를 벡터 y의 길이 ||y||만큼 조정한 값이다"
   ]
  }
 ],
 "metadata": {
  "interpreter": {
   "hash": "b3ba2566441a7c06988d0923437866b63cedc61552a5af99d1f4fb67d367b25f"
  },
  "kernelspec": {
   "display_name": "Python 3.8.8 64-bit ('base': conda)",
   "language": "python",
   "name": "python3"
  },
  "language_info": {
   "codemirror_mode": {
    "name": "ipython",
    "version": 3
   },
   "file_extension": ".py",
   "mimetype": "text/x-python",
   "name": "python",
   "nbconvert_exporter": "python",
   "pygments_lexer": "ipython3",
   "version": "3.8.8"
  },
  "orig_nbformat": 4
 },
 "nbformat": 4,
 "nbformat_minor": 2
}
