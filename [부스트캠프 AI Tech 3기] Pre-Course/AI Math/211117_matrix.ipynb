{
 "cells": [
  {
   "cell_type": "markdown",
   "metadata": {},
   "source": [
    "# Matrix\n",
    "- 행렬은 벡터를 원소로 가지는 2차원 배열이다.\n",
    "- 행렬은 행과 열이라는 인덱스를 가진다.\n",
    "- 행렬의 특정 행(열)을 고정하면 행(열)벡터라고 부른다.\n",
    "- 벡터가 공간에서 한 점을 의미한다면 행렬은 여러 점들을 나타낸다."
   ]
  },
  {
   "cell_type": "code",
   "execution_count": 5,
   "metadata": {},
   "outputs": [
    {
     "data": {
      "text/plain": [
       "array([[-8,  6],\n",
       "       [ 5,  2],\n",
       "       [-5,  1]])"
      ]
     },
     "execution_count": 5,
     "metadata": {},
     "output_type": "execute_result"
    }
   ],
   "source": [
    "# 행렬 곱셈 - 행렬 곱셈은 i번째 행벡터와 j번째 열벡터 사이의 내적을 성분으로 가지는 행렬을 계산한다.\n",
    "import numpy as np\n",
    "x = np.array([[1, -2, 3],\n",
    "              [7, 5, 0],\n",
    "              [-2, -1, 2]])\n",
    "\n",
    "y = np.array([[0, 1],\n",
    "              [1, -1],\n",
    "              [-2, 1]])\n",
    "\n",
    "# numpy에선 @ 연산을 사용한다\n",
    "x @ y"
   ]
  },
  {
   "cell_type": "code",
   "execution_count": 7,
   "metadata": {},
   "outputs": [
    {
     "data": {
      "text/plain": [
       "array([[-5,  3],\n",
       "       [ 5,  2],\n",
       "       [-3, -1]])"
      ]
     },
     "execution_count": 7,
     "metadata": {},
     "output_type": "execute_result"
    }
   ],
   "source": [
    "# 행렬의 내적\n",
    "# np.inner - i번째 행벡터와 j번째 행벡터 사이의 내적을 성분으로 가지는 행렬을 계산\n",
    "# 수학에서 말하는 내적과 다르다.\n",
    "x = np.array([[1, -2, 3],\n",
    "              [7, 5, 0],\n",
    "              [-2, -1, 2]])\n",
    "\n",
    "y = np.array([[0, 1, -1], \n",
    "              [1, -1, 0]])\n",
    "              \n",
    "np.inner(x, y)"
   ]
  },
  {
   "cell_type": "markdown",
   "metadata": {},
   "source": [
    "## 행렬을 이해하는 방법\n",
    "- 행렬은 벡터공간에서 사용되는 연산자로 이해한다.\n",
    "- 행렬곱을 통해 벡터를 다른 차원의 공간으로 보낼 수 있다.\n",
    "- 행렬곱을 통해 패턴을 추출할 수 있고 데이터를 압축할 수도 있다.\n"
   ]
  },
  {
   "cell_type": "code",
   "execution_count": 14,
   "metadata": {},
   "outputs": [
    {
     "name": "stdout",
     "output_type": "stream",
     "text": [
      "행렬 x의 역행렬\n",
      " [[ 0.21276596  0.0212766  -0.31914894]\n",
      " [-0.29787234  0.17021277  0.44680851]\n",
      " [ 0.06382979  0.10638298  0.40425532]]\n",
      "행렬 x의 역행렬과 행렬 x의 곱\n",
      " [[ 1.00000000e+00 -1.38777878e-17  0.00000000e+00]\n",
      " [-2.22044605e-16  1.00000000e+00 -5.55111512e-17]\n",
      " [-2.77555756e-17  0.00000000e+00  1.00000000e+00]]\n",
      "행렬 x의 역행렬과 행렬 x의 곱(깔끔하게)\n",
      " [[ 1. -0.  0.]\n",
      " [-0.  1. -0.]\n",
      " [-0.  0.  1.]]\n"
     ]
    }
   ],
   "source": [
    "# 역행렬\n",
    "x = np.array([[1, -2, 3],\n",
    "              [7, 5, 0],\n",
    "              [-2, -1, 2]])\n",
    "\n",
    "print('행렬 x의 역행렬\\n', np.linalg.inv(x))\n",
    "print('행렬 x의 역행렬과 행렬 x의 곱\\n', x @ np.linalg.inv(x))\n",
    "print('행렬 x의 역행렬과 행렬 x의 곱(깔끔하게)\\n', np.round(x @ np.linalg.inv(x)))"
   ]
  },
  {
   "cell_type": "code",
   "execution_count": null,
   "metadata": {},
   "outputs": [],
   "source": [
    "# 행렬의 역행렬을 이용한 계산은 선형회귀식을 찾는것에 도움이 된다.\n",
    "# Scikit learn을 활용한 회귀분석\n",
    "from sklearn.linear_model import LinearRegression\n",
    "model = LinearRegression()\n",
    "model.fit(x, y)\n",
    "y_test = model.predict(x_test)\n",
    "\n",
    "# 역행렬\n",
    "beta = np.linalg.pinv(x) @ y\n",
    "y_test = np.append(x_test) @ beta"
   ]
  }
 ],
 "metadata": {
  "interpreter": {
   "hash": "b3ba2566441a7c06988d0923437866b63cedc61552a5af99d1f4fb67d367b25f"
  },
  "kernelspec": {
   "display_name": "Python 3.8.8 64-bit ('base': conda)",
   "language": "python",
   "name": "python3"
  },
  "language_info": {
   "codemirror_mode": {
    "name": "ipython",
    "version": 3
   },
   "file_extension": ".py",
   "mimetype": "text/x-python",
   "name": "python",
   "nbconvert_exporter": "python",
   "pygments_lexer": "ipython3",
   "version": "3.8.8"
  },
  "orig_nbformat": 4
 },
 "nbformat": 4,
 "nbformat_minor": 2
}
