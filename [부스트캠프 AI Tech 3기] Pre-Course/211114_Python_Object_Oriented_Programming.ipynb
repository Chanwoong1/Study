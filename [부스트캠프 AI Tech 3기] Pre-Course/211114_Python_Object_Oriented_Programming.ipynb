{
 "cells": [
  {
   "cell_type": "markdown",
   "metadata": {},
   "source": [
    "# Python Object Oriented Programming"
   ]
  },
  {
   "cell_type": "markdown",
   "metadata": {},
   "source": [
    "## 클래스와 객체\n",
    "- 객체 지향 언어의 이해"
   ]
  },
  {
   "cell_type": "markdown",
   "metadata": {},
   "source": [
    "### 수강신청 프로그램 작성해보기\n",
    "1. 수강신청이 시작부터 끝까지 순서대로 작성\n",
    "2. 수강신청 관련 주체들(교수, 학생, 관리자)의 행동과 데이터(수강과목, 강의 과목)들을 중심으로 프로그램 작성 후 연결\n",
    "\n",
    "- 2번 방식이 주류이고, 이 기법을 객체 지향 프로그램이라고 한다."
   ]
  },
  {
   "cell_type": "markdown",
   "metadata": {},
   "source": [
    "- Object-Oriented Programming, OOP = 객체지향 프로그래밍(OO)\n",
    "- 객체 : 실생활에서 일종의 물건, 속성(Attribute)와 행동(Action)을 가진다.\n",
    "- OOP는 이러한 객체 개념을 프로그램으로 표현, 속성은 변수(Variable), 행동은 함수(Method)로 표현된다.\n",
    "- 파이썬 역시 객체 지향 프로그램 언어이며, 파이썬의  integer, list 등등 모두 객체이다."
   ]
  },
  {
   "cell_type": "markdown",
   "metadata": {},
   "source": [
    "- 인공지능 축구 프로그램을 작성한다고 가정하면 객체는 팀, 선수, 심판, 공 모두가 되고\n",
    "\n",
    "- Action : 선수 -공을 차다, 패스하다. / 심판 - 휘슬을 불다, 경고를 주다\n",
    "\n",
    "- Attribute : 선수 - 선수 이름, 포지션, 소속팀 / 팀 - 팀이름, 팀 연고지 , 팀소속 선수 등이 된다."
   ]
  },
  {
   "cell_type": "markdown",
   "metadata": {},
   "source": [
    "- OOP는 설계도에 해당하는 클래스와 실제 구현체인 인스턴스(instance)로 나눔.\n",
    "\n",
    "Ex) 붕어빵틀(Class) , 붕어빵(instance)"
   ]
  },
  {
   "cell_type": "markdown",
   "metadata": {},
   "source": [
    "# Object in Python\n",
    "\n",
    "## class in python"
   ]
  },
  {
   "cell_type": "code",
   "execution_count": 6,
   "metadata": {},
   "outputs": [],
   "source": [
    "# 축구선수 정보를 class로 구현하기\n",
    "class SoccerPlayer(object) : # class : 예약어, SoccerPlayer : 이름(class의 이름은 CamelCase로 짓는다.), object : 객체명\n",
    "    # Attribute 의 추가는 __init__, self와 함께 사용해야한다\n",
    "    # __init__은 객체 초기화 예약 함수\n",
    "    # __는 특수한 예약함수나 변수 그리고 함수명 변경(맨글링)으로 사용\n",
    "    # ex) __main__, __add__, __str__, __eq__\n",
    "    def __init__(self, name : str, position : str, back_number : int) :\n",
    "        self.name = name\n",
    "        self.position = position\n",
    "        self.back_number = back_number\n",
    "    \n",
    "    # -method(Action) 추가는 기존 함수와 같으나, 반드시 self를 추가해야만 class 함수로 인정됨\n",
    "    def change_back_number(self, new_number) :\n",
    "        print('선수의 등번호를 변경합니다 : From %d to %d' % \\\n",
    "            (self.back_number, new_number))\n",
    "        self.back_number = new_number\n",
    "\n",
    "    def __str__(self) :\n",
    "        return 'Hello. My name is %s. My back number is %d' %(self.name, self.back_number)\n"
   ]
  },
  {
   "cell_type": "code",
   "execution_count": 10,
   "metadata": {},
   "outputs": [],
   "source": [
    "abc = SoccerPlayer('son', 'FW' ,7)\n",
    "park = SoccerPlayer('park', 'WF', 13)\n",
    "# eee = SoccerPlayer()"
   ]
  },
  {
   "cell_type": "code",
   "execution_count": 11,
   "metadata": {},
   "outputs": [
    {
     "data": {
      "text/plain": [
       "False"
      ]
     },
     "execution_count": 11,
     "metadata": {},
     "output_type": "execute_result"
    }
   ],
   "source": [
    "abc is park"
   ]
  },
  {
   "cell_type": "code",
   "execution_count": 9,
   "metadata": {},
   "outputs": [
    {
     "name": "stdout",
     "output_type": "stream",
     "text": [
      "Hello. My name is son. My back number is 7\n"
     ]
    }
   ],
   "source": [
    "print(abc)"
   ]
  },
  {
   "cell_type": "code",
   "execution_count": 12,
   "metadata": {},
   "outputs": [
    {
     "name": "stdout",
     "output_type": "stream",
     "text": [
      "Hello. My name is chanwoong. My back number is 10\n"
     ]
    }
   ],
   "source": [
    "chanwoong = SoccerPlayer('chanwoong', 'MF', 10)\n",
    "print(chanwoong)"
   ]
  },
  {
   "cell_type": "code",
   "execution_count": 13,
   "metadata": {},
   "outputs": [
    {
     "name": "stdout",
     "output_type": "stream",
     "text": [
      "선수의 등번호를 변경합니다 : From 10 to 7\n",
      "Hello. My name is chanwoong. My back number is 7\n"
     ]
    }
   ],
   "source": [
    "chanwoong.change_back_number(7)\n",
    "print(chanwoong)"
   ]
  },
  {
   "cell_type": "markdown",
   "metadata": {},
   "source": [
    "# OOP Implementation Example\n",
    "구현 가능한 OOP 만들기 - 노트북\n",
    "- Note를 정리하는 프로그램\n",
    "- 사용자는 Note에 뭔가를 적을 수 있다.\n",
    "- Note에는 Content가 있고, 내용을 제거할 수 있다.\n",
    "- 두 개의 노트북을 합쳐 하나로 만들 수 있다.\n",
    "- Note는 Notebook에 삽입된다.\n",
    "- Notebook은 Note가 삽입될 때 페이지(Attribute)를 생성하며, 최고 300페이지까지 저장 가능하다\n",
    "- 300 페이지가 넘으면 더 이상 노트를 삽입하지 못한다"
   ]
  },
  {
   "cell_type": "code",
   "execution_count": null,
   "metadata": {},
   "outputs": [],
   "source": [
    "class Note(object) :\n",
    "    def __init__(self, content = None) :\n",
    "        self.content = content\n",
    "\n",
    "    def write_content(self, content) :\n",
    "        self.content = content\n",
    "\n",
    "    def remove_all(self) :\n",
    "        self.content = ''\n",
    "\n",
    "    def __add__(self, other) :\n",
    "        return self.content + other.content\n",
    "\n",
    "    def __str__(self) :\n",
    "        return self.content"
   ]
  },
  {
   "cell_type": "code",
   "execution_count": null,
   "metadata": {},
   "outputs": [],
   "source": []
  },
  {
   "cell_type": "code",
   "execution_count": null,
   "metadata": {},
   "outputs": [],
   "source": []
  },
  {
   "cell_type": "code",
   "execution_count": null,
   "metadata": {},
   "outputs": [],
   "source": []
  }
 ],
 "metadata": {
  "interpreter": {
   "hash": "b3ba2566441a7c06988d0923437866b63cedc61552a5af99d1f4fb67d367b25f"
  },
  "kernelspec": {
   "display_name": "Python 3.8.8 64-bit ('base': conda)",
   "language": "python",
   "name": "python3"
  },
  "language_info": {
   "codemirror_mode": {
    "name": "ipython",
    "version": 3
   },
   "file_extension": ".py",
   "mimetype": "text/x-python",
   "name": "python",
   "nbconvert_exporter": "python",
   "pygments_lexer": "ipython3",
   "version": "3.8.8"
  },
  "orig_nbformat": 4
 },
 "nbformat": 4,
 "nbformat_minor": 2
}
