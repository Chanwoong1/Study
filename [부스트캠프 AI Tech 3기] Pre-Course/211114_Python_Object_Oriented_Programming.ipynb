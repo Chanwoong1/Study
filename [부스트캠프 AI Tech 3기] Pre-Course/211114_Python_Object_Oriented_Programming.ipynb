{
 "cells": [
  {
   "cell_type": "markdown",
   "metadata": {},
   "source": [
    "# Python Object Oriented Programming"
   ]
  },
  {
   "cell_type": "markdown",
   "metadata": {},
   "source": [
    "## 클래스와 객체\n",
    "- 객체 지향 언어의 이해"
   ]
  },
  {
   "cell_type": "markdown",
   "metadata": {},
   "source": [
    "### 수강신청 프로그램 작성해보기\n",
    "1. 수강신청이 시작부터 끝까지 순서대로 작성\n",
    "2. 수강신청 관련 주체들(교수, 학생, 관리자)의 행동과 데이터(수강과목, 강의 과목)들을 중심으로 프로그램 작성 후 연결\n",
    "\n",
    "- 2번 방식이 주류이고, 이 기법을 객체 지향 프로그램이라고 한다."
   ]
  },
  {
   "cell_type": "markdown",
   "metadata": {},
   "source": [
    "- Object-Oriented Programming, OOP = 객체지향 프로그래밍(OO)\n",
    "- 객체 : 실생활에서 일종의 물건, 속성(Attribute)와 행동(Action)을 가진다.\n",
    "- OOP는 이러한 객체 개념을 프로그램으로 표현, 속성은 변수(Variable), 행동은 함수(Method)로 표현된다.\n",
    "- 파이썬 역시 객체 지향 프로그램 언어이며, 파이썬의  integer, list 등등 모두 객체이다."
   ]
  },
  {
   "cell_type": "markdown",
   "metadata": {},
   "source": [
    "- 인공지능 축구 프로그램을 작성한다고 가정하면 객체는 팀, 선수, 심판, 공 모두가 되고\n",
    "\n",
    "- Action : 선수 -공을 차다, 패스하다. / 심판 - 휘슬을 불다, 경고를 주다\n",
    "\n",
    "- Attribute : 선수 - 선수 이름, 포지션, 소속팀 / 팀 - 팀이름, 팀 연고지 , 팀소속 선수 등이 된다."
   ]
  },
  {
   "cell_type": "markdown",
   "metadata": {},
   "source": [
    "- OOP는 설계도에 해당하는 클래스와 실제 구현체인 인스턴스(instance)로 나눔.\n",
    "\n",
    "Ex) 붕어빵틀(Class) , 붕어빵(instance)"
   ]
  },
  {
   "cell_type": "markdown",
   "metadata": {},
   "source": [
    "# Object in Python\n",
    "\n",
    "## class in python"
   ]
  },
  {
   "cell_type": "code",
   "execution_count": 6,
   "metadata": {},
   "outputs": [],
   "source": [
    "# 축구선수 정보를 class로 구현하기\n",
    "class SoccerPlayer(object) : # class : 예약어, SoccerPlayer : 이름(class의 이름은 CamelCase로 짓는다.), object : 객체명\n",
    "    # Attribute 의 추가는 __init__, self와 함께 사용해야한다\n",
    "    # __init__은 객체 초기화 예약 함수\n",
    "    # __는 특수한 예약함수나 변수 그리고 함수명 변경(맨글링)으로 사용\n",
    "    # ex) __main__, __add__, __str__, __eq__\n",
    "    def __init__(self, name : str, position : str, back_number : int) :\n",
    "        self.name = name\n",
    "        self.position = position\n",
    "        self.back_number = back_number\n",
    "    \n",
    "    # -method(Action) 추가는 기존 함수와 같으나, 반드시 self를 추가해야만 class 함수로 인정됨\n",
    "    def change_back_number(self, new_number) :\n",
    "        print('선수의 등번호를 변경합니다 : From %d to %d' % \\\n",
    "            (self.back_number, new_number))\n",
    "        self.back_number = new_number\n",
    "\n",
    "    def __str__(self) :\n",
    "        return 'Hello. My name is %s. My back number is %d' %(self.name, self.back_number)\n"
   ]
  },
  {
   "cell_type": "code",
   "execution_count": 10,
   "metadata": {},
   "outputs": [],
   "source": [
    "abc = SoccerPlayer('son', 'FW' ,7)\n",
    "park = SoccerPlayer('park', 'WF', 13)\n",
    "# eee = SoccerPlayer()"
   ]
  },
  {
   "cell_type": "code",
   "execution_count": 11,
   "metadata": {},
   "outputs": [
    {
     "data": {
      "text/plain": [
       "False"
      ]
     },
     "execution_count": 11,
     "metadata": {},
     "output_type": "execute_result"
    }
   ],
   "source": [
    "abc is park"
   ]
  },
  {
   "cell_type": "code",
   "execution_count": 9,
   "metadata": {},
   "outputs": [
    {
     "name": "stdout",
     "output_type": "stream",
     "text": [
      "Hello. My name is son. My back number is 7\n"
     ]
    }
   ],
   "source": [
    "print(abc)"
   ]
  },
  {
   "cell_type": "code",
   "execution_count": 12,
   "metadata": {},
   "outputs": [
    {
     "name": "stdout",
     "output_type": "stream",
     "text": [
      "Hello. My name is chanwoong. My back number is 10\n"
     ]
    }
   ],
   "source": [
    "chanwoong = SoccerPlayer('chanwoong', 'MF', 10)\n",
    "print(chanwoong)"
   ]
  },
  {
   "cell_type": "code",
   "execution_count": 13,
   "metadata": {},
   "outputs": [
    {
     "name": "stdout",
     "output_type": "stream",
     "text": [
      "선수의 등번호를 변경합니다 : From 10 to 7\n",
      "Hello. My name is chanwoong. My back number is 7\n"
     ]
    }
   ],
   "source": [
    "chanwoong.change_back_number(7)\n",
    "print(chanwoong)"
   ]
  },
  {
   "cell_type": "markdown",
   "metadata": {},
   "source": [
    "# OOP Implementation Example\n",
    "구현 가능한 OOP 만들기 - 노트북\n",
    "- Note를 정리하는 프로그램\n",
    "- 사용자는 Note에 뭔가를 적을 수 있다.\n",
    "- Note에는 Content가 있고, 내용을 제거할 수 있다.\n",
    "- 두 개의 노트북을 합쳐 하나로 만들 수 있다.\n",
    "- Note는 Notebook에 삽입된다.\n",
    "- Notebook은 Note가 삽입될 때 페이지(Attribute)를 생성하며, 최고 300페이지까지 저장 가능하다\n",
    "- 300 페이지가 넘으면 더 이상 노트를 삽입하지 못한다"
   ]
  },
  {
   "cell_type": "markdown",
   "metadata": {},
   "source": [
    "![](2021-11-14-23-36-49.png)"
   ]
  },
  {
   "cell_type": "code",
   "execution_count": 14,
   "metadata": {},
   "outputs": [],
   "source": [
    "# Note class\n",
    "class Note(object) :\n",
    "    def __init__(self, content = None) :\n",
    "        self.content = content\n",
    "\n",
    "    def write_content(self, content) :\n",
    "        self.content = content\n",
    "\n",
    "    def remove_all(self) :\n",
    "        self.content = ''\n",
    "\n",
    "    def __add__(self, other) :\n",
    "        return self.content + other.content\n",
    "\n",
    "    def __str__(self) :\n",
    "        return self.content"
   ]
  },
  {
   "cell_type": "code",
   "execution_count": 15,
   "metadata": {},
   "outputs": [],
   "source": [
    "# NoteBook class\n",
    "class NoteBook(object) :\n",
    "    def __init__(self, title) :\n",
    "        self.title = title\n",
    "        self.page_number = 1\n",
    "        self.notes = {}\n",
    "\n",
    "    def add_note(self, note, page = 0) :\n",
    "        if self.page_number < 300 :\n",
    "            if page == 0 :\n",
    "                self.notes[self.page_number] = note\n",
    "                self.page_number += 1\n",
    "            else :\n",
    "                self.notes = {page : note}\n",
    "                self.page_number += 1\n",
    "        else :\n",
    "            print('Page가 모두 채워졌습니다.')\n",
    "\n",
    "    def remove_note(self, page_number) :\n",
    "        if page_number in self.notes.keys() :\n",
    "            return self.notes.pop(page_number)\n",
    "        else :\n",
    "            print('해당 페이지는 존재하지 않습니다.')\n",
    "    \n",
    "    def get_number_of_pages(self) :\n",
    "        return len(self.notes.keys())\n"
   ]
  },
  {
   "cell_type": "code",
   "execution_count": 18,
   "metadata": {},
   "outputs": [
    {
     "data": {
      "text/plain": [
       "<__main__.NoteBook at 0x1b3d890c820>"
      ]
     },
     "execution_count": 18,
     "metadata": {},
     "output_type": "execute_result"
    }
   ],
   "source": [
    "my_notebook = NoteBook('[부스트캠프 AI Tech 3기] Pre-Course')\n",
    "my_notebook"
   ]
  },
  {
   "cell_type": "code",
   "execution_count": 19,
   "metadata": {},
   "outputs": [
    {
     "data": {
      "text/plain": [
       "'[부스트캠프 AI Tech 3기] Pre-Course'"
      ]
     },
     "execution_count": 19,
     "metadata": {},
     "output_type": "execute_result"
    }
   ],
   "source": [
    "my_notebook.title"
   ]
  },
  {
   "cell_type": "code",
   "execution_count": 20,
   "metadata": {},
   "outputs": [
    {
     "name": "stdout",
     "output_type": "stream",
     "text": [
      "1일차\n"
     ]
    }
   ],
   "source": [
    "new_note = Note('1일차')\n",
    "print(new_note)"
   ]
  },
  {
   "cell_type": "code",
   "execution_count": 21,
   "metadata": {},
   "outputs": [
    {
     "name": "stdout",
     "output_type": "stream",
     "text": [
      "객체 지향\n"
     ]
    }
   ],
   "source": [
    "new_note_2 = Note('객체 지향')\n",
    "print(new_note_2)"
   ]
  },
  {
   "cell_type": "code",
   "execution_count": 22,
   "metadata": {},
   "outputs": [],
   "source": [
    "# note 내용 notebook에 추가\n",
    "my_notebook.add_note(new_note)\n",
    "my_notebook.add_note(new_note_2)"
   ]
  },
  {
   "cell_type": "code",
   "execution_count": 27,
   "metadata": {},
   "outputs": [
    {
     "name": "stdout",
     "output_type": "stream",
     "text": [
      "{1: <__main__.Note object at 0x000001B3D890C6D0>, 2: <__main__.Note object at 0x000001B3D890C8E0>}\n",
      "1일차\n",
      "객체 지향\n"
     ]
    }
   ],
   "source": [
    "print(my_notebook.notes)\n",
    "print(my_notebook.notes[1])\n",
    "print(my_notebook.notes[2])"
   ]
  },
  {
   "cell_type": "markdown",
   "metadata": {},
   "source": [
    "# OOP characteristics\n",
    "객체 지향 언어의 특징은 실제 세상을 모델링 한 것\n",
    "\n",
    "Inheritance(상속) , Polymorphism(다형성) , Visibility(가시성)"
   ]
  },
  {
   "cell_type": "markdown",
   "metadata": {},
   "source": [
    "## Inheritance\n",
    "- 부모클래스로부터 속성과 Method를 물려받은 자식 클래스를 생성 하는 것"
   ]
  },
  {
   "cell_type": "code",
   "execution_count": 4,
   "metadata": {},
   "outputs": [],
   "source": [
    "# 부모 클래스 Person 선언\n",
    "class Person(object) :\n",
    "    def __init__(self, name : str, age : int, gender : str) :\n",
    "        self.name = name # 속성값 지정. 해당 변수가 클래스의 attribute임을 명확히 하기 위해\n",
    "        self.age = age\n",
    "        self.gender = gender\n",
    "    \n",
    "    def about_me(self) : # Method 선언\n",
    "        print('저의 이름은', self.name, '이구요. 제 나이는', str(self.age), '살 입니다.')\n",
    "\n",
    "    def __str__(self) : \n",
    "        return '저의 이름은 {0} 입니다. 나이는 {1} 입니다.'.format(self.name, self.age)\n",
    "\n",
    "# 부모클래스 Person으로부터 상속\n",
    "class Employee(Person) :\n",
    "    def __init__(self, name, age, gender, salary : int, hire_date : str) :\n",
    "        super().__init__(name, age, gender) # super : 부모객체 사용\n",
    "        self.salary = salary\n",
    "        self.hire_date = hire_date\n",
    "    \n",
    "    def do_work(self) : # 새로운 Method 추가\n",
    "        print('열심히 일을 합니다.')\n",
    "    \n",
    "    def about_me(self) : # 부모 클래스 함수 재정의\n",
    "        super().about_me() # 부모 클래스 함수 사용\n",
    "        print('제 급여는', self.salary, '원 입니다. 입사일은', self.hire_date, '입니다.')\n",
    "\n"
   ]
  },
  {
   "cell_type": "code",
   "execution_count": 5,
   "metadata": {},
   "outputs": [
    {
     "name": "stdout",
     "output_type": "stream",
     "text": [
      "저의 이름은 chanwoong 이구요. 제 나이는 27 살 입니다.\n"
     ]
    }
   ],
   "source": [
    "# 부모클래스\n",
    "myPerson = Person('chanwoong', 27, 'Male')\n",
    "myPerson.about_me()"
   ]
  },
  {
   "cell_type": "code",
   "execution_count": 6,
   "metadata": {},
   "outputs": [
    {
     "name": "stdout",
     "output_type": "stream",
     "text": [
      "저의 이름은 chanwoong 이구요. 제 나이는 27 살 입니다.\n",
      "제 급여는 3000000 원 입니다. 입사일은 2022/07/01 입니다.\n"
     ]
    }
   ],
   "source": [
    "# 상속받은 클래스\n",
    "myPerson = Employee('chanwoong', 27, 'Male', 3000000, '2022/07/01')\n",
    "myPerson.about_me()"
   ]
  },
  {
   "cell_type": "markdown",
   "metadata": {},
   "source": [
    "## Polymorphism\n",
    "- 같은 이름 메소드의 내부 로직을 다르게 작성\n",
    "- Dynamic Typing 특성으로 인해 파이썬에서는 같은 부모클래스의 상속에서 주로 발생함\n",
    "- 중요한 OOP의 개념\n"
   ]
  },
  {
   "cell_type": "code",
   "execution_count": 7,
   "metadata": {},
   "outputs": [],
   "source": [
    "class Animal :\n",
    "    def __init__(self, name) :\n",
    "        self.name = name\n",
    "\n",
    "    def talk(self) :\n",
    "        raise NotImplementedError('Subclass must implement abstract method')\n",
    "\n",
    "class Cat(Animal) :\n",
    "    def talk(self):\n",
    "        return 'Meow!'\n",
    "\n",
    "class Dog(Animal) :\n",
    "    def talk(self):\n",
    "        return 'Woof! Woof!'"
   ]
  },
  {
   "cell_type": "code",
   "execution_count": 8,
   "metadata": {},
   "outputs": [
    {
     "name": "stdout",
     "output_type": "stream",
     "text": [
      "Missy: Meow!\n",
      "Mr. Mistoffelees: Meow!\n",
      "Lassie: Woof! Woof!\n"
     ]
    }
   ],
   "source": [
    "animals = [Cat('Missy'), Cat('Mr. Mistoffelees'), Dog('Lassie')]\n",
    "\n",
    "for animal in animals :\n",
    "    print(animal.name + ': ' + animal.talk())"
   ]
  },
  {
   "cell_type": "markdown",
   "metadata": {},
   "source": [
    "## Visibility\n",
    "- 객체의 정보를 볼 수 있는 레벨을 조절하는 것\n",
    "- 누구나 객체 안에 모든 변수를 볼 필요가 없음\n",
    "    - 객체를 사용하는 사용자가 임의로 정보 수정\n",
    "    - 필요 없는 정보에는 접근 할 필요가 없음\n",
    "    - 만약 제품으로 판매한다면? 소스의 보호"
   ]
  },
  {
   "cell_type": "markdown",
   "metadata": {},
   "source": [
    "- Encapsulation\n",
    "    - 캡슐화 또는 정보 은닉(Information Hiding)\n",
    "    - class를 설계할 때, class 간 간섭/정보공유의 최소화\n",
    "    - 심판 클래스가 축구선수 클래스 가족 정보를 알아야 하나?\n",
    "    - 캡슐을 던지듯, 인터페이스만 알아서 써야함"
   ]
  },
  {
   "cell_type": "markdown",
   "metadata": {},
   "source": [
    "- Visibility Example\n",
    "    - Product 객체를 Inventory 객체에 추가\n",
    "    - Inventory에는 오직 Product 객체만 들어감\n",
    "    - Inventory에 Product 가 몇 개인지 확인이 필요\n",
    "    - Inventory에 Product items는 직접 접근이 불가"
   ]
  },
  {
   "cell_type": "code",
   "execution_count": 9,
   "metadata": {},
   "outputs": [],
   "source": [
    "class Product(object) :\n",
    "    pass\n",
    "\n",
    "class Inventory(object) :\n",
    "    def __init__(self) :\n",
    "        self.__items = []   # Private 변수로 선언. 타객체가 접근하지 못함\n",
    "        self.test = 'abc'\n",
    "\n",
    "\n",
    "    def add_new_item(self, product) :\n",
    "        if type(product) == Product :\n",
    "            self.__items.append(product)\n",
    "            print('new item added')\n",
    "        else :\n",
    "            raise ValueError('Invalid Item')\n",
    "\n",
    "    def get_number_of_items(self) :\n",
    "        return len(self.__items)"
   ]
  },
  {
   "cell_type": "code",
   "execution_count": 10,
   "metadata": {},
   "outputs": [
    {
     "name": "stdout",
     "output_type": "stream",
     "text": [
      "new item added\n",
      "new item added\n"
     ]
    },
    {
     "data": {
      "text/plain": [
       "<__main__.Inventory at 0x1b76d9ae610>"
      ]
     },
     "execution_count": 10,
     "metadata": {},
     "output_type": "execute_result"
    }
   ],
   "source": [
    "my_inventory = Inventory()\n",
    "my_inventory.add_new_item(Product())\n",
    "my_inventory.add_new_item(Product())\n",
    "my_inventory"
   ]
  },
  {
   "cell_type": "code",
   "execution_count": 14,
   "metadata": {},
   "outputs": [
    {
     "ename": "AttributeError",
     "evalue": "'Inventory' object has no attribute 'items'",
     "output_type": "error",
     "traceback": [
      "\u001b[1;31m---------------------------------------------------------------------------\u001b[0m",
      "\u001b[1;31mAttributeError\u001b[0m                            Traceback (most recent call last)",
      "\u001b[1;32m<ipython-input-14-bb1165a45756>\u001b[0m in \u001b[0;36m<module>\u001b[1;34m\u001b[0m\n\u001b[0;32m      1\u001b[0m \u001b[1;31m# items로 접근하지 못함\u001b[0m\u001b[1;33m\u001b[0m\u001b[1;33m\u001b[0m\u001b[1;33m\u001b[0m\u001b[0m\n\u001b[1;32m----> 2\u001b[1;33m \u001b[0mmy_inventory\u001b[0m\u001b[1;33m.\u001b[0m\u001b[0mitems\u001b[0m\u001b[1;33m.\u001b[0m\u001b[0mappend\u001b[0m\u001b[1;33m(\u001b[0m\u001b[1;34m'abc'\u001b[0m\u001b[1;33m)\u001b[0m\u001b[1;33m\u001b[0m\u001b[1;33m\u001b[0m\u001b[0m\n\u001b[0m",
      "\u001b[1;31mAttributeError\u001b[0m: 'Inventory' object has no attribute 'items'"
     ]
    }
   ],
   "source": [
    "# items로 접근하지 못함\n",
    "my_inventory.items.append('abc')"
   ]
  },
  {
   "cell_type": "code",
   "execution_count": 15,
   "metadata": {},
   "outputs": [
    {
     "ename": "AttributeError",
     "evalue": "'Inventory' object has no attribute '__items'",
     "output_type": "error",
     "traceback": [
      "\u001b[1;31m---------------------------------------------------------------------------\u001b[0m",
      "\u001b[1;31mAttributeError\u001b[0m                            Traceback (most recent call last)",
      "\u001b[1;32m<ipython-input-15-11cc93e1f4f4>\u001b[0m in \u001b[0;36m<module>\u001b[1;34m\u001b[0m\n\u001b[1;32m----> 1\u001b[1;33m \u001b[0mmy_inventory\u001b[0m\u001b[1;33m.\u001b[0m\u001b[0m__items\u001b[0m\u001b[1;33m\u001b[0m\u001b[1;33m\u001b[0m\u001b[0m\n\u001b[0m",
      "\u001b[1;31mAttributeError\u001b[0m: 'Inventory' object has no attribute '__items'"
     ]
    }
   ],
   "source": [
    "my_inventory.__items"
   ]
  },
  {
   "cell_type": "code",
   "execution_count": 16,
   "metadata": {},
   "outputs": [],
   "source": [
    "# items에 접근을 허용하는 방법 - decorator\n",
    "class Product(object) :\n",
    "    pass\n",
    "\n",
    "class Inventory(object) :\n",
    "    def __init__(self) :\n",
    "        self.__items = []   # Private 변수로 선언. 타객체가 접근하지 못함\n",
    "\n",
    "    def add_new_item(self, product) :\n",
    "        if type(product) == Product :\n",
    "            self.__items.append(product)\n",
    "            print('new item added')\n",
    "        else :\n",
    "            raise ValueError('Invalid Item')\n",
    "\n",
    "    def get_number_of_items(self) :\n",
    "        return len(self.__items)\n",
    "    \n",
    "    @property       # 숨겨진 변수를 반환하게 해준다\n",
    "    def items(self) :\n",
    "        return self.__items"
   ]
  },
  {
   "cell_type": "code",
   "execution_count": 17,
   "metadata": {},
   "outputs": [
    {
     "name": "stdout",
     "output_type": "stream",
     "text": [
      "new item added\n",
      "new item added\n",
      "2\n"
     ]
    }
   ],
   "source": [
    "my_inventory = Inventory()\n",
    "my_inventory.add_new_item(Product())\n",
    "my_inventory.add_new_item(Product())\n",
    "print(my_inventory.get_number_of_items())"
   ]
  },
  {
   "cell_type": "code",
   "execution_count": 19,
   "metadata": {},
   "outputs": [
    {
     "name": "stdout",
     "output_type": "stream",
     "text": [
      "4\n"
     ]
    }
   ],
   "source": [
    "items = my_inventory.items  # Property decorator로 함수를 변수처럼 호출\n",
    "items.append(Product())\n",
    "print(my_inventory.get_number_of_items())"
   ]
  },
  {
   "cell_type": "markdown",
   "metadata": {},
   "source": [
    "# decorate\n",
    "\n",
    "## 이해하기 위한 개념들\n",
    "\n",
    "### First-class object\n",
    "- 일등함수 또는 일급 객체\n",
    "- 변수나 데이터 구조에 할당이 가능한 객체\n",
    "- 파라미터로 전달이 가능 + 리턴 값으로 사용\n",
    "\n",
    "`` 파이썬의 함수는 일급함수 ``"
   ]
  },
  {
   "cell_type": "code",
   "execution_count": 21,
   "metadata": {},
   "outputs": [
    {
     "data": {
      "text/plain": [
       "25"
      ]
     },
     "execution_count": 21,
     "metadata": {},
     "output_type": "execute_result"
    }
   ],
   "source": [
    "def square(x) :\n",
    "    return x * x\n",
    "\n",
    "f = square  # 함수를 변수로 사용\n",
    "\n",
    "f(5)"
   ]
  },
  {
   "cell_type": "code",
   "execution_count": 25,
   "metadata": {},
   "outputs": [
    {
     "name": "stdout",
     "output_type": "stream",
     "text": [
      "square : [1, 4, 9, 16, 25]\n",
      "cube : [1, 8, 27, 64, 125]\n"
     ]
    }
   ],
   "source": [
    "def square(x) :\n",
    "    return x * x\n",
    "\n",
    "def cube(x) :\n",
    "    return x * x * x\n",
    "\n",
    "def formula(method, argument_list) :    # 함수를 파라미터로 사용\n",
    "    return [method(value) for value in argument_list]\n",
    "\n",
    "print('square :', formula(square, [1, 2, 3, 4,5]))\n",
    "print('cube :', formula(cube, [1, 2, 3, 4,5]))"
   ]
  },
  {
   "cell_type": "markdown",
   "metadata": {},
   "source": [
    "### Inner function\n",
    "- 함수 내에 또 다른 함수가 존재"
   ]
  },
  {
   "cell_type": "code",
   "execution_count": 26,
   "metadata": {},
   "outputs": [
    {
     "name": "stdout",
     "output_type": "stream",
     "text": [
      "Hello, Python\n"
     ]
    }
   ],
   "source": [
    "def print_msg(msg) :\n",
    "    def printer() :\n",
    "        print(msg)\n",
    "    printer()\n",
    "\n",
    "print_msg('Hello, Python')"
   ]
  },
  {
   "cell_type": "code",
   "execution_count": 29,
   "metadata": {},
   "outputs": [
    {
     "name": "stdout",
     "output_type": "stream",
     "text": [
      "Hello, Python\n"
     ]
    }
   ],
   "source": [
    "# closures : inner function을 return값으로 반환\n",
    "def print_msg(msg) :\n",
    "    def printer() :\n",
    "        print(msg)\n",
    "    return printer\n",
    "another = print_msg('Hello, Python')\n",
    "another()"
   ]
  },
  {
   "cell_type": "markdown",
   "metadata": {},
   "source": [
    "### closure example"
   ]
  },
  {
   "cell_type": "code",
   "execution_count": 30,
   "metadata": {},
   "outputs": [],
   "source": [
    "# closure example\n",
    "def tag_func(tag, text) :\n",
    "    text = text\n",
    "    tag = tag\n",
    "    \n",
    "    def inner_func() :\n",
    "        return '<{0}>{1}<{0}>'.format(tag, text)\n",
    "\n",
    "    return inner_func\n",
    "\n",
    "h1_func = tag_func('title', 'This is Python Class')\n",
    "p_func = tag_func('p', 'Data Academy')"
   ]
  },
  {
   "cell_type": "code",
   "execution_count": 33,
   "metadata": {},
   "outputs": [
    {
     "name": "stdout",
     "output_type": "stream",
     "text": [
      "<function tag_func.<locals>.inner_func at 0x000001B76DA6EB80>\n",
      "<function tag_func.<locals>.inner_func at 0x000001B76CCFE430>\n"
     ]
    }
   ],
   "source": [
    "print(h1_func)\n",
    "print(p_func)"
   ]
  },
  {
   "cell_type": "markdown",
   "metadata": {},
   "source": [
    "### decorator function\n",
    "- 복잡한 클로져 함수를 간단하게"
   ]
  },
  {
   "cell_type": "code",
   "execution_count": 34,
   "metadata": {},
   "outputs": [
    {
     "name": "stdout",
     "output_type": "stream",
     "text": [
      "******************************\n",
      "Hello\n",
      "******************************\n"
     ]
    }
   ],
   "source": [
    "def star(func) :\n",
    "    def inner(*args, **kwargs) :\n",
    "        print('*' * 30)\n",
    "        func(*args, **kwargs)\n",
    "        print('*' * 30)\n",
    "    return inner\n",
    "\n",
    "@star\n",
    "def printer(msg) :\n",
    "    print(msg)\n",
    "printer('Hello')"
   ]
  },
  {
   "cell_type": "code",
   "execution_count": 35,
   "metadata": {},
   "outputs": [
    {
     "name": "stdout",
     "output_type": "stream",
     "text": [
      "******************************\n",
      "%%%%%%%%%%%%%%%%%%%%%%%%%%%%%%\n",
      "Hello\n",
      "%%%%%%%%%%%%%%%%%%%%%%%%%%%%%%\n",
      "******************************\n"
     ]
    }
   ],
   "source": [
    "def star(func) :\n",
    "    def inner(*args, **kwargs) :\n",
    "        print('*' * 30)\n",
    "        func(*args, **kwargs)\n",
    "        print('*' * 30)\n",
    "    return inner\n",
    "\n",
    "def percent(func) :\n",
    "    def inner(*args, **kwargs) :\n",
    "        print('%' * 30)\n",
    "        func(*args, **kwargs)\n",
    "        print('%' * 30)\n",
    "    return inner\n",
    "\n",
    "@star\n",
    "@percent\n",
    "def printer(msg) :\n",
    "    print(msg)\n",
    "printer('Hello')"
   ]
  },
  {
   "cell_type": "code",
   "execution_count": 2,
   "metadata": {},
   "outputs": [
    {
     "name": "stdout",
     "output_type": "stream",
     "text": [
      "exponent : 2\n",
      "result : 49\n",
      "562949953421312\n",
      "562949953421312\n"
     ]
    }
   ],
   "source": [
    "def generate_power(exponent) :  # 데코레이터에서 (2) 했으므로 exponent = 2\n",
    "    def wrapper(f) :    # raise_two() 들어감\n",
    "        print('exponent :', exponent)\n",
    "        def inner(*args) :  # 7이 들어감\n",
    "            result = f(*args)   # 7 ** 2 = 49\n",
    "            print('result :', result)\n",
    "            return exponent**result # 2 ** 49 = 562949953421312\n",
    "        return inner\n",
    "    return wrapper\n",
    "\n",
    "@generate_power(2)\n",
    "def raise_two(n) :\n",
    "    return n ** 2\n",
    "\n",
    "print(raise_two(7))\n",
    "print(2 ** 49)"
   ]
  }
 ],
 "metadata": {
  "interpreter": {
   "hash": "b3ba2566441a7c06988d0923437866b63cedc61552a5af99d1f4fb67d367b25f"
  },
  "kernelspec": {
   "display_name": "Python 3.8.8 64-bit ('base': conda)",
   "language": "python",
   "name": "python3"
  },
  "language_info": {
   "codemirror_mode": {
    "name": "ipython",
    "version": 3
   },
   "file_extension": ".py",
   "mimetype": "text/x-python",
   "name": "python",
   "nbconvert_exporter": "python",
   "pygments_lexer": "ipython3",
   "version": "3.8.8"
  },
  "orig_nbformat": 4
 },
 "nbformat": 4,
 "nbformat_minor": 2
}
