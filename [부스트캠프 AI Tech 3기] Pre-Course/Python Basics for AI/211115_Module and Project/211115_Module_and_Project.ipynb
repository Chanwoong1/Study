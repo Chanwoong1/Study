{
 "cells": [
  {
   "cell_type": "markdown",
   "metadata": {},
   "source": [
    "# Module and Project\n",
    " \n",
    "\n",
    "- 만든 코드를 남들에게 공개를 하거나, 남이 만든 코드를 가져다쓸 때 기본적인 체계는 모듈과 프로젝트로 구성됨\n",
    "\n",
    "- 파이썬은 대부분의 라이브러리가 이미 다른 사용자에 의해 구현됨\n",
    "    - 레고 블록, 자동차 부품 = 모듈\n",
    "    - 레고로 완성된 제품, 자동차 = 프로젝트\n",
    "\n",
    "\n",
    "- 모듈 : 작은 프로그램 조각들, 프로그램을 모듈화 시키면 다른 프로그램이 사용하기 쉬움"
   ]
  },
  {
   "cell_type": "markdown",
   "metadata": {},
   "source": [
    "# Module\n",
    "## Module 만들기\n",
    "- 파이썬의 Module == py파일을 의미\n",
    "- 같은 폴더에 Module에 해당하는 .py 파일과 사용하는 .py을 저장한 후\n",
    "- import 문을 사용해서 module을 호출"
   ]
  },
  {
   "cell_type": "markdown",
   "metadata": {},
   "source": [
    "far_converter.py, module_ex.py 파일 작성\n",
    "\n"
   ]
  },
  {
   "cell_type": "code",
   "execution_count": 2,
   "metadata": {},
   "outputs": [
    {
     "data": {
      "text/plain": [
       "108.68"
      ]
     },
     "execution_count": 2,
     "metadata": {},
     "output_type": "execute_result"
    }
   ],
   "source": [
    "import fah_converter\n",
    "fah_converter.convert_c_to_f(42.6)"
   ]
  },
  {
   "cell_type": "code",
   "execution_count": 12,
   "metadata": {},
   "outputs": [
    {
     "name": "stdout",
     "output_type": "stream",
     "text": [
      "Enter a celsius value : 42.6\n",
      "That's, 108.68 degrees Fahrenheit.\n"
     ]
    }
   ],
   "source": [
    "!python module_ex.py"
   ]
  },
  {
   "cell_type": "markdown",
   "metadata": {},
   "source": [
    "## namespace\n",
    "- 모듈을 호출할 때 범위 정하는 방법\n",
    "- 모듈 안에는 함수와 클래스 등이 존재 가능\n",
    "- 필요한 내용만 골라서 호출 할 수 있음\n",
    "- from과 import 키워드를 사용함"
   ]
  },
  {
   "cell_type": "code",
   "execution_count": 13,
   "metadata": {},
   "outputs": [
    {
     "name": "stdout",
     "output_type": "stream",
     "text": [
      "106.88000000000001\n"
     ]
    }
   ],
   "source": [
    "# Alias 설정하기 - 모듈명을 별칭으로 써서\n",
    "import fah_converter as fah\n",
    "print(fah.convert_c_to_f(41.6))"
   ]
  },
  {
   "cell_type": "code",
   "execution_count": 14,
   "metadata": {},
   "outputs": [
    {
     "name": "stdout",
     "output_type": "stream",
     "text": [
      "106.88000000000001\n"
     ]
    }
   ],
   "source": [
    "# 모듈에서 특정 함수 또는 클래스만 호출하기\n",
    "from fah_converter import convert_c_to_f\n",
    "print(convert_c_to_f(41.6))"
   ]
  },
  {
   "cell_type": "code",
   "execution_count": 15,
   "metadata": {},
   "outputs": [
    {
     "name": "stdout",
     "output_type": "stream",
     "text": [
      "106.88000000000001\n"
     ]
    }
   ],
   "source": [
    "# 모듈에서 모든 함수 또는 클래스를 호출하기\n",
    "from fah_converter import *\n",
    "print(convert_c_to_f(41.6))"
   ]
  },
  {
   "cell_type": "markdown",
   "metadata": {},
   "source": [
    "## Built-in Modules\n",
    "- 파이썬이 기본 제공하는 라이브러리\n",
    "- 문자처리, 웹, 수학 등 다양한 모듈이 제공\n",
    "- 별다른 조치없이 import 문으로 활용 가능"
   ]
  },
  {
   "cell_type": "code",
   "execution_count": 20,
   "metadata": {},
   "outputs": [
    {
     "name": "stdout",
     "output_type": "stream",
     "text": [
      "55\n",
      "0.6450630817732488\n",
      "time.struct_time(tm_year=2021, tm_mon=11, tm_mday=15, tm_hour=1, tm_min=5, tm_sec=14, tm_wday=0, tm_yday=319, tm_isdst=0)\n",
      "b'\\n\\n<!DOCTYP'\n"
     ]
    }
   ],
   "source": [
    "# 난수\n",
    "import random\n",
    "print(random.randint(0, 100))\n",
    "print(random.random())\n",
    "\n",
    "# 시간\n",
    "import time\n",
    "print(time.localtime())\n",
    "\n",
    "# 웹\n",
    "import urllib.request\n",
    "response = urllib.request.urlopen('https://github.com/Chanwoong1')\n",
    "print(response.read()[ : 10])"
   ]
  },
  {
   "cell_type": "markdown",
   "metadata": {},
   "source": [
    "- 수많은 파이썬 모듈을 어떻게 검색할 것인가?\n",
    "    - 구글링\n",
    "    - 모듈을 import 한 후 구글링 or help\n",
    "    - 공식 문서 읽기"
   ]
  },
  {
   "cell_type": "markdown",
   "metadata": {},
   "source": [
    "# Package\n",
    "\n",
    "## package overview\n",
    "- 하나의 대형 프로젝트를 만드는 코드의 묶음\n",
    "- 다양한 모듈의 합, 폴더로 연결됨\n",
    "- __init__, __main__ 등 키워드 파일명이 사용됨\n",
    "- 다양한 오픈 소스들이 모두 패키지로 관리됨"
   ]
  },
  {
   "cell_type": "markdown",
   "metadata": {},
   "source": [
    "# package 구현\n",
    "각 폴더별로 필요한 모듈을 구현함\n",
    "- package_example\n",
    "    - game\n",
    "        - \\_\\_init\\_\\_.py\n",
    "        - \\_\\_main\\_\\_.py\n",
    "        - image\n",
    "            - \\_\\_init\\_\\_.py\n",
    "            - character.py\n",
    "            - object_type.py\n",
    "        - sound\n",
    "            - \\_\\_init\\_\\_.py\n",
    "            - echo.py\n",
    "            - bgm.py\n",
    "        - stage\n",
    "            - \\_\\_init\\_\\_.py\n",
    "            - main.py\n",
    "            - sub.py"
   ]
  },
  {
   "cell_type": "code",
   "execution_count": 26,
   "metadata": {},
   "outputs": [
    {
     "name": "stdout",
     "output_type": "stream",
     "text": [
      "echo 10 number start\n"
     ]
    }
   ],
   "source": [
    "from package_example.game.sound import echo\n",
    "echo.echo_play(10)"
   ]
  },
  {
   "cell_type": "markdown",
   "metadata": {},
   "source": [
    "폴더별로 \\_\\_init\\_\\_.py 구성하기\n",
    "\n",
    "- 현재 폴더가 패키지임을 알리는 초기화 스크립트\n",
    "- 없을 경우 패키지로 간주하지 않음\n",
    "- 하위 폴더와 py 파일(모듈)을 모두 포함함\n",
    "- import와 \\_\\_all\\_\\_ keyword 사용"
   ]
  },
  {
   "cell_type": "markdown",
   "metadata": {},
   "source": [
    "# Python Virtual Environment Overview\n",
    "프로젝트 진행 시 필요한 패키지만 설치하는 환경\n",
    "\n",
    "기본 인터프리터 + 프로젝트 종류별 패키지 설치\n",
    "- ex) 웹 프로젝트, 데이터 분석 프로젝트\n",
    "- 각각 패키지 관리할 수 있는 기능\n",
    "\n",
    "다양한 패키지 관리 도구를 사용함\n",
    "- 대표적인 도구 virtualenv, conda\n",
    "    - virtualenv + pip\n",
    "        - 가장 대표적인 가상환경 관리 도구\n",
    "        - 레퍼런스 + 패키지 개수\n",
    "\n",
    "    - conda\n",
    "        - 상용 가상환경 도구\n",
    "        - miniconda 기본 도구\n",
    "        - 설치 용이\n",
    "        - windows에서 쓰기 좋음\n"
   ]
  },
  {
   "cell_type": "code",
   "execution_count": null,
   "metadata": {},
   "outputs": [],
   "source": [
    "# !conda install matplotlib\n",
    "# !conda install tqdm"
   ]
  },
  {
   "cell_type": "markdown",
   "metadata": {},
   "source": [
    "## conda 가상환경 예시\n",
    "matplotlib 활용한 그래프 표시\n",
    "- 대표적인 파이썬 그래프 관리 패키지\n",
    "- 엑셀과 같은 그래프들을 화면에 표시함\n",
    "- 다양한 데이터 분석 도구들과 함께 사용됨"
   ]
  },
  {
   "cell_type": "code",
   "execution_count": 30,
   "metadata": {},
   "outputs": [
    {
     "data": {
      "image/png": "[encoded data removed]",
      "text/plain": [
       "<Figure size 432x288 with 1 Axes>"
      ]
     },
     "metadata": {
      "needs_background": "light"
     },
     "output_type": "display_data"
    }
   ],
   "source": [
    "import matplotlib.pyplot as plt\n",
    "\n",
    "plt.plot([1, 2, 3, 4])\n",
    "plt.ylabel('some numbers')\n",
    "plt.show()"
   ]
  },
  {
   "cell_type": "code",
   "execution_count": 31,
   "metadata": {},
   "outputs": [
    {
     "name": "stdout",
     "output_type": "stream",
     "text": [
      "^C\n"
     ]
    }
   ],
   "source": [
    "# !python tqdm_example.py"
   ]
  },
  {
   "cell_type": "code",
   "execution_count": 33,
   "metadata": {},
   "outputs": [
    {
     "name": "stderr",
     "output_type": "stream",
     "text": [
      "100%|██████████| 10000/10000 [00:10<00:00, 999.31it/s]\n",
      "\n",
      "  0%|          | 0/100000 [00:00<?, ?it/s]\n",
      "  0%|          | 1/100000 [00:01<27:47:45,  1.00s/it]\n",
      "  1%|          | 1001/100000 [00:02<02:48, 588.44it/s]\n",
      "  2%|▏         | 2001/100000 [00:03<02:06, 776.26it/s]\n",
      "  3%|▎         | 3001/100000 [00:04<01:52, 864.20it/s]\n",
      "  4%|▍         | 4001/100000 [00:05<01:45, 912.92it/s]\n",
      "  5%|▌         | 5001/100000 [00:06<01:40, 942.47it/s]\n",
      "  6%|▌         | 6001/100000 [00:07<01:37, 961.07it/s]\n",
      "  7%|▋         | 7001/100000 [00:08<01:35, 973.26it/s]\n",
      "  8%|▊         | 8001/100000 [00:09<01:33, 981.41it/s]\n",
      "  9%|▉         | 9001/100000 [00:10<01:32, 987.11it/s]\n",
      " 10%|█         | 10001/100000 [00:11<01:30, 990.85it/s]\n",
      " 11%|█         | 11001/100000 [00:12<01:29, 993.44it/s]\n",
      " 12%|█▏        | 12001/100000 [00:13<01:28, 995.23it/s]\n",
      " 13%|█▎        | 13001/100000 [00:14<01:27, 996.63it/s]\n",
      " 14%|█▍        | 14001/100000 [00:15<01:26, 997.44it/s]\n",
      " 15%|█▌        | 15001/100000 [00:16<01:25, 998.02it/s]\n",
      " 16%|█▌        | 16001/100000 [00:17<01:24, 998.56it/s]\n",
      " 17%|█▋        | 17001/100000 [00:18<01:23, 998.81it/s]\n",
      " 18%|█▊        | 18001/100000 [00:19<01:22, 998.96it/s]\n",
      " 19%|█▉        | 19001/100000 [00:20<01:21, 999.24it/s]\n",
      " 20%|██        | 20001/100000 [00:21<01:20, 999.27it/s]\n",
      " 21%|██        | 21001/100000 [00:22<01:19, 999.30it/s]\n",
      " 22%|██▏       | 22001/100000 [00:23<01:18, 999.31it/s]\n",
      " 23%|██▎       | 23001/100000 [00:24<01:17, 999.48it/s]\n",
      " 24%|██▍       | 24001/100000 [00:25<01:16, 999.43it/s]\n",
      " 25%|██▌       | 25001/100000 [00:26<01:15, 999.41it/s]\n",
      " 26%|██▌       | 26001/100000 [00:27<01:14, 999.39it/s]\n",
      " 27%|██▋       | 27001/100000 [00:28<01:13, 999.54it/s]\n",
      " 28%|██▊       | 28001/100000 [00:29<01:12, 999.48it/s]\n",
      " 29%|██▉       | 29001/100000 [00:30<01:11, 999.44it/s]\n",
      " 30%|███       | 30001/100000 [00:31<01:10, 999.41it/s]\n",
      " 31%|███       | 31001/100000 [00:32<01:09, 999.54it/s]\n",
      " 32%|███▏      | 32001/100000 [00:33<01:08, 999.49it/s]\n",
      " 33%|███▎      | 33001/100000 [00:34<01:07, 999.44it/s]\n",
      " 34%|███▍      | 34001/100000 [00:35<01:06, 999.42it/s]\n",
      " 35%|███▌      | 35001/100000 [00:36<01:05, 999.55it/s]\n",
      " 36%|███▌      | 36001/100000 [00:37<01:04, 999.63it/s]\n",
      " 37%|███▋      | 37001/100000 [00:38<01:03, 999.69it/s]\n",
      " 38%|███▊      | 38001/100000 [00:39<01:02, 999.60it/s]\n",
      " 39%|███▉      | 39001/100000 [00:40<01:01, 999.67it/s]\n",
      " 40%|████      | 40001/100000 [00:41<01:00, 999.72it/s]\n",
      " 41%|████      | 41001/100000 [00:42<00:59, 999.76it/s]\n",
      " 42%|████▏     | 42001/100000 [00:43<00:58, 999.78it/s]\n",
      " 43%|████▎     | 43001/100000 [00:44<00:57, 999.66it/s]\n",
      " 44%|████▍     | 44001/100000 [00:45<00:56, 999.56it/s]\n",
      " 45%|████▌     | 45001/100000 [00:46<00:55, 999.50it/s]\n",
      " 46%|████▌     | 46001/100000 [00:47<00:54, 999.46it/s]\n",
      " 47%|████▋     | 47001/100000 [00:48<00:53, 999.59it/s]\n",
      " 48%|████▊     | 48001/100000 [00:49<00:52, 999.51it/s]\n",
      " 49%|████▉     | 49001/100000 [00:50<00:51, 999.47it/s]\n",
      " 50%|█████     | 50001/100000 [00:51<00:50, 999.58it/s]\n",
      " 51%|█████     | 51001/100000 [00:52<00:49, 999.51it/s]\n",
      " 52%|█████▏    | 52001/100000 [00:53<00:48, 999.46it/s]\n",
      " 53%|█████▎    | 53001/100000 [00:54<00:47, 999.59it/s]\n",
      " 54%|█████▍    | 54001/100000 [00:55<00:46, 999.51it/s]\n",
      " 55%|█████▌    | 55001/100000 [00:56<00:45, 999.47it/s]\n",
      " 56%|█████▌    | 56001/100000 [00:57<00:44, 999.43it/s]\n",
      " 57%|█████▋    | 57001/100000 [00:58<00:43, 999.56it/s]\n",
      " 58%|█████▊    | 58001/100000 [00:59<00:42, 999.49it/s]\n",
      " 59%|█████▉    | 59001/100000 [01:00<00:41, 999.46it/s]\n",
      " 60%|██████    | 60001/100000 [01:01<00:40, 999.42it/s]\n",
      " 61%|██████    | 61001/100000 [01:02<00:39, 999.56it/s]\n",
      " 62%|██████▏   | 62001/100000 [01:03<00:38, 999.49it/s]\n",
      " 63%|██████▎   | 63001/100000 [01:04<00:37, 999.45it/s]\n",
      " 64%|██████▍   | 64001/100000 [01:05<00:36, 999.42it/s]\n",
      " 65%|██████▌   | 65001/100000 [01:06<00:35, 999.56it/s]\n",
      " 66%|██████▌   | 66001/100000 [01:07<00:34, 999.49it/s]\n",
      " 67%|██████▋   | 67001/100000 [01:08<00:33, 999.45it/s]\n",
      " 68%|██████▊   | 68001/100000 [01:09<00:32, 999.42it/s]\n",
      " 69%|██████▉   | 69001/100000 [01:10<00:31, 999.40it/s]\n",
      " 70%|███████   | 70001/100000 [01:11<00:30, 999.53it/s]\n",
      " 71%|███████   | 71001/100000 [01:12<00:29, 999.62it/s]\n",
      " 72%|███████▏  | 72001/100000 [01:13<00:28, 999.69it/s]\n",
      " 73%|███████▎  | 73001/100000 [01:14<00:27, 999.74it/s]\n",
      " 74%|███████▍  | 74001/100000 [01:15<00:26, 999.63it/s]\n",
      " 75%|███████▌  | 75001/100000 [01:16<00:25, 999.54it/s]\n",
      " 76%|███████▌  | 76001/100000 [01:17<00:24, 999.49it/s]\n",
      " 77%|███████▋  | 77001/100000 [01:18<00:23, 999.44it/s]\n",
      " 78%|███████▊  | 78001/100000 [01:19<00:22, 999.57it/s]\n",
      " 79%|███████▉  | 79001/100000 [01:20<00:21, 999.64it/s]\n",
      " 80%|████████  | 80001/100000 [01:21<00:20, 999.57it/s]\n",
      " 81%|████████  | 81001/100000 [01:22<00:19, 999.64it/s]\n",
      " 82%|████████▏ | 82001/100000 [01:23<00:18, 999.71it/s]\n",
      " 83%|████████▎ | 83001/100000 [01:24<00:17, 999.74it/s]\n",
      " 84%|████████▍ | 84001/100000 [01:25<00:16, 999.78it/s]\n",
      " 85%|████████▌ | 85001/100000 [01:26<00:15, 999.78it/s]\n",
      " 86%|████████▌ | 86001/100000 [01:27<00:14, 999.81it/s]\n",
      " 87%|████████▋ | 87001/100000 [01:28<00:13, 999.67it/s]\n",
      " 88%|████████▊ | 88001/100000 [01:29<00:12, 999.58it/s]\n",
      " 89%|████████▉ | 89001/100000 [01:30<00:11, 999.51it/s]\n",
      " 90%|█████████ | 90001/100000 [01:31<00:10, 999.62it/s]\n",
      " 91%|█████████ | 91001/100000 [01:32<00:09, 999.53it/s]\n",
      " 92%|█████████▏| 92001/100000 [01:33<00:08, 999.48it/s]\n",
      " 93%|█████████▎| 93001/100000 [01:34<00:07, 999.44it/s]\n",
      " 94%|█████████▍| 94001/100000 [01:35<00:06, 999.57it/s]\n",
      " 95%|█████████▌| 95001/100000 [01:36<00:05, 999.50it/s]\n",
      " 96%|█████████▌| 96001/100000 [01:37<00:04, 999.46it/s]\n",
      " 97%|█████████▋| 97001/100000 [01:38<00:03, 999.42it/s]\n",
      " 98%|█████████▊| 98001/100000 [01:39<00:01, 999.56it/s]\n",
      " 99%|█████████▉| 99001/100000 [01:40<00:00, 999.49it/s]\n",
      "100%|██████████| 100000/100000 [01:40<00:00, 999.53it/s]\n"
     ]
    }
   ],
   "source": [
    "from tqdm import tqdm\n",
    "import time\n",
    "\n",
    "for i in tqdm(range(10000)) :\n",
    "    if i % 1000 == 0 :\n",
    "        time.sleep(1)"
   ]
  }
 ],
 "metadata": {
  "interpreter": {
   "hash": "b3ba2566441a7c06988d0923437866b63cedc61552a5af99d1f4fb67d367b25f"
  },
  "kernelspec": {
   "display_name": "Python 3.8.8 64-bit ('base': conda)",
   "language": "python",
   "name": "python3"
  },
  "language_info": {
   "codemirror_mode": {
    "name": "ipython",
    "version": 3
   },
   "file_extension": ".py",
   "mimetype": "text/x-python",
   "name": "python",
   "nbconvert_exporter": "python",
   "pygments_lexer": "ipython3",
   "version": "3.8.8"
  },
  "orig_nbformat": 4
 },
 "nbformat": 4,
 "nbformat_minor": 2
}
