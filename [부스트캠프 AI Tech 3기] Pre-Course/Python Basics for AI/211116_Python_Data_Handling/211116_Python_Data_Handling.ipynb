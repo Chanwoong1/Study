{
 "cells": [
  {
   "cell_type": "markdown",
   "metadata": {},
   "source": [
    "# Python data handling\n",
    "다양한 저장 방식들\n",
    "- csv, html, xml, json 등\n",
    "\n",
    "## Comma Separate Value\n",
    "- CSV, 필드를 쉼표(,)로 구분한 텍스트 파일\n",
    "- 엑셀 양식의 데이터를 프로그램에 상관없이 쓰기 위한\n",
    "데이터 형식이라고 생각하면 쉬움\n",
    "- 탭(TSV), 빈칸(SSV) 등으로 구분해서 만들기도 함\n",
    "- 통칭하여 character-separated values (CSV) 부름\n",
    "- 엑셀에서는 “다름 이름 저장” 기능으로 사용 가능"
   ]
  },
  {
   "cell_type": "code",
   "execution_count": 1,
   "metadata": {},
   "outputs": [
    {
     "name": "stdout",
     "output_type": "stream",
     "text": [
      "Header :\t ['customerNumber', 'customerName', 'contactLastName', 'contactFirstName', 'phone', 'addressLine1', 'addressLine2', 'city', 'state', 'postalCode', 'country', 'salesRepEmployeeNumber', 'creditLimit\\n']\n",
      "Data 0 :\t\t ['103', '\"Atelier graphique\"', 'Schmitt', '\"Carine \"', '40.32.2555', '\"54', ' rue Royale\"', 'NULL', 'Nantes', 'NULL', '44000', 'France', '1370', '21000\\n']\n",
      "Data 1 :\t\t ['112', '\"Signal Gift Stores\"', 'King', 'Jean', '7025551838', '\"8489 Strong St.\"', 'NULL', '\"Las Vegas\"', 'NV', '83030', 'USA', '1166', '71800\\n']\n",
      "Data 2 :\t\t ['114', '\"Australian Collectors', ' Co.\"', 'Ferguson', 'Peter', '\"03 9520 4555\"', '\"636 St Kilda Road\"', '\"Level 3\"', 'Melbourne', 'Victoria', '3004', 'Australia', '1611', '117300\\n']\n",
      "Data 3 :\t\t ['119', '\"La Rochelle Gifts\"', 'Labrune', '\"Janine \"', '40.67.8555', '\"67', ' rue des Cinquante Otages\"', 'NULL', 'Nantes', 'NULL', '44000', 'France', '1370', '118200\\n']\n",
      "Data 4 :\t\t ['121', '\"Baane Mini Imports\"', 'Bergulfsen', '\"Jonas \"', '\"07-98 9555\"', '\"Erling Skakkes gate 78\"', 'NULL', 'Stavern', 'NULL', '4110', 'Norway', '1504', '81700\\n']\n",
      "Data 5 :\t\t ['124', '\"Mini Gifts Distributors Ltd.\"', 'Nelson', 'Susan', '4155551450', '\"5677 Strong St.\"', 'NULL', '\"San Rafael\"', 'CA', '97562', 'USA', '1165', '210500\\n']\n",
      "Data 6 :\t\t ['125', '\"Havel & Zbyszek Co\"', 'Piestrzeniewicz', '\"Zbyszek \"', '\"(26) 642-7555\"', '\"ul. Filtrowa 68\"', 'NULL', 'Warszawa', 'NULL', '01-012', 'Poland', 'NULL', '0\\n']\n",
      "Data 7 :\t\t ['128', '\"Blauer See Auto', ' Co.\"', 'Keitel', 'Roland', '\"+49 69 66 90 2555\"', '\"Lyonerstr. 34\"', 'NULL', 'Frankfurt', 'NULL', '60528', 'Germany', '1504', '59700\\n']\n",
      "Data 8 :\t\t ['129', '\"Mini Wheels Co.\"', 'Murphy', 'Julie', '6505555787', '\"5557 North Pendale Street\"', 'NULL', '\"San Francisco\"', 'CA', '94217', 'USA', '1165', '64600\\n']\n",
      "Data 9 :\t\t ['131', '\"Land of Toys Inc.\"', 'Lee', 'Kwai', '2125557818', '\"897 Long Airport Avenue\"', 'NULL', 'NYC', 'NY', '10022', 'USA', '1323', '114900\\n']\n",
      "122\n"
     ]
    }
   ],
   "source": [
    "# csv\n",
    "line_counter = 0 #파일의 총 줄수를 세는 변수\n",
    "data_header = [] #data의 필드값을 저장하는 list\n",
    "customer_list = [] #cutomer 개별 List를 저장하는 List\n",
    "with open (\"customers.csv\") as customer_data: #customer.csv 파일을 customer_data 객체에 저장\n",
    "    while True:\n",
    "        data = customer_data.readline() #customer.csv에 한줄씩 data 변수에 저장\n",
    "        if not data: break #데이터가 없을 때, Loop 종료\n",
    "        if line_counter==0: #첫번째 데이터는 데이터의 필드\n",
    "            data_header = data.split(\",\") #데이터의 필드는 data_header List에 저장, 데이터 저장시 “,”로 분리\n",
    "        else:\n",
    "            customer_list.append(data.split(\",\")) #일반 데이터는 customer_list 객체에 저장, 데이터 저장시 “,”로 분리\n",
    "        line_counter += 1\n",
    "\n",
    "print(\"Header :\\t\", data_header) #데이터 필드 값 출력\n",
    "for i in range(0,10): #데이터 출력 (샘플 10개만)\n",
    "    print (\"Data\",i,\":\\t\\t\",customer_list[i])\n",
    "print (len(customer_list)) #전체 데이터 크기 출력"
   ]
  },
  {
   "cell_type": "markdown",
   "metadata": {},
   "source": [
    "## CSV 객체로 CSV 처리\n",
    "- Text 파일 형태로 데이터 처리시 문장 내에 들어가 있는“,” 등에 대해 전처리 과정이 필요\n",
    "- 파이썬에서는 간단히CSV파일을 처리하기 위해csv 객체를제공함\n",
    "- 예제 데이터: korea_foot_traffic_data.csv (from http://www.data.go.kr)\n",
    "- 예제 데이터는 국내 주요 상권의 유동인구 현황 정보\n",
    "- 한글로 되어 있어 한글 처리가 필요\n",
    "- 시간대/조사일자/행정구역/날씨등을 기준으로 연령별/성별 유동인가 해당 지역에몇명인가 표시"
   ]
  },
  {
   "cell_type": "code",
   "execution_count": null,
   "metadata": {},
   "outputs": [],
   "source": []
  }
 ],
 "metadata": {
  "interpreter": {
   "hash": "b3ba2566441a7c06988d0923437866b63cedc61552a5af99d1f4fb67d367b25f"
  },
  "kernelspec": {
   "display_name": "Python 3.8.8 64-bit ('base': conda)",
   "language": "python",
   "name": "python3"
  },
  "language_info": {
   "codemirror_mode": {
    "name": "ipython",
    "version": 3
   },
   "file_extension": ".py",
   "mimetype": "text/x-python",
   "name": "python",
   "nbconvert_exporter": "python",
   "pygments_lexer": "ipython3",
   "version": "3.8.8"
  },
  "orig_nbformat": 4
 },
 "nbformat": 4,
 "nbformat_minor": 2
}
