{
 "cells": [
  {
   "cell_type": "markdown",
   "metadata": {},
   "source": [
    "# Exception / File / Log Handling"
   ]
  },
  {
   "cell_type": "markdown",
   "metadata": {},
   "source": [
    "# Exception\n",
    "- 예상 가능한 예외\n",
    "    - 발생 여부를 사전에 인지할 수 있는 예외\n",
    "    - 사용자의 잘못된 입력, 파일 호출 시 파일 없음\n",
    "    - 개발자가 반드시 명시적으로 정의 해야함\n",
    "- 예상 불가능한 예외\n",
    "    - 인터프리터 과정에서 발생하는 예외. 개발자 실수가 대다수\n",
    "    - 리스트의 범위를 넘어가는 값 호출, 정수 0으로 나눔\n",
    "    - 수행 불가시 인터프리터가 자동 호출"
   ]
  },
  {
   "cell_type": "markdown",
   "metadata": {},
   "source": [
    "## 예외처리 (Exception Handling)\n",
    "예외가 발생할 경우 후속 조치 등 대처 필요\n",
    "- 없는 파일 호출 -> 파일 없음을 알림\n",
    "- 게임 이상 종료 -> 게임 정보 저장\n",
    "\n",
    "    프로그램 = 제품, 모든 잘못된 상황에 대처가 필요하다"
   ]
  },
  {
   "cell_type": "code",
   "execution_count": null,
   "metadata": {},
   "outputs": [],
   "source": [
    "# try ~ exception\n",
    "try : # 예외 발생 가능 코드\n",
    "\n",
    "except <Exception Type> : # 예외 발생 시 대응하는 코드 "
   ]
  },
  {
   "cell_type": "code",
   "execution_count": 1,
   "metadata": {},
   "outputs": [
    {
     "name": "stdout",
     "output_type": "stream",
     "text": [
      "Not divided by 0\n",
      "10.0\n",
      "5.0\n",
      "3.3333333333333335\n",
      "2.5\n",
      "2.0\n",
      "1.6666666666666667\n",
      "1.4285714285714286\n",
      "1.25\n",
      "1.1111111111111112\n"
     ]
    }
   ],
   "source": [
    "# 0으로 숫자를 나눌 때 예외처리\n",
    "for i in range(10) :\n",
    "    try :\n",
    "        print(10 / i)\n",
    "    except ZeroDivisionError :\n",
    "        print('Not divided by 0')"
   ]
  },
  {
   "cell_type": "markdown",
   "metadata": {},
   "source": [
    "## exception의 종류\n",
    "- Built-in Exception : 기본적으로 제공하는 예외\n",
    "    - IndexError : List의 Index 범위를 넘어갈 때\n",
    "    - NameError : 존재하지 않은 변수를 호출할 때\n",
    "    - ZeroDivisionError : 0으로 숫자를 나눌 때\n",
    "    - ValueError : 변환할 수 없는 문자/숫자를 변환할 때\n",
    "    - FileNotFoundError : 존재하지 않는 파일을 호출할 때"
   ]
  },
  {
   "cell_type": "code",
   "execution_count": 2,
   "metadata": {},
   "outputs": [
    {
     "name": "stdout",
     "output_type": "stream",
     "text": [
      "Error\n",
      "Not divided 0\n",
      "1 10\n",
      "2\n",
      "2 5\n",
      "3\n",
      "3 3\n",
      "4\n",
      "4 2\n",
      "5\n",
      "5 2\n"
     ]
    },
    {
     "ename": "IndexError",
     "evalue": "list index out of range",
     "output_type": "error",
     "traceback": [
      "\u001b[1;31m---------------------------------------------------------------------------\u001b[0m",
      "\u001b[1;31mIndexError\u001b[0m                                Traceback (most recent call last)",
      "\u001b[1;32m<ipython-input-2-933ec0d62670>\u001b[0m in \u001b[0;36m<module>\u001b[1;34m\u001b[0m\n\u001b[0;32m      3\u001b[0m     \u001b[1;32mtry\u001b[0m \u001b[1;33m:\u001b[0m\u001b[1;33m\u001b[0m\u001b[1;33m\u001b[0m\u001b[0m\n\u001b[0;32m      4\u001b[0m         \u001b[0mprint\u001b[0m\u001b[1;33m(\u001b[0m\u001b[0mi\u001b[0m\u001b[1;33m,\u001b[0m \u001b[1;36m10\u001b[0m \u001b[1;33m//\u001b[0m \u001b[0mi\u001b[0m\u001b[1;33m)\u001b[0m\u001b[1;33m\u001b[0m\u001b[1;33m\u001b[0m\u001b[0m\n\u001b[1;32m----> 5\u001b[1;33m         \u001b[0mprint\u001b[0m\u001b[1;33m(\u001b[0m\u001b[0ma\u001b[0m\u001b[1;33m[\u001b[0m\u001b[0mi\u001b[0m\u001b[1;33m]\u001b[0m\u001b[1;33m)\u001b[0m\u001b[1;33m\u001b[0m\u001b[1;33m\u001b[0m\u001b[0m\n\u001b[0m\u001b[0;32m      6\u001b[0m     \u001b[1;32mexcept\u001b[0m \u001b[0mZeroDivisionError\u001b[0m \u001b[1;33m:\u001b[0m\u001b[1;33m\u001b[0m\u001b[1;33m\u001b[0m\u001b[0m\n\u001b[0;32m      7\u001b[0m         \u001b[0mprint\u001b[0m\u001b[1;33m(\u001b[0m\u001b[1;34m'Error'\u001b[0m\u001b[1;33m)\u001b[0m\u001b[1;33m\u001b[0m\u001b[1;33m\u001b[0m\u001b[0m\n",
      "\u001b[1;31mIndexError\u001b[0m: list index out of range"
     ]
    }
   ],
   "source": [
    "a = [1, 2, 3, 4, 5]\n",
    "for i in range(10) :\n",
    "    try :\n",
    "        print(i, 10 // i)\n",
    "        print(a[i])\n",
    "    except ZeroDivisionError :\n",
    "        print('Error')\n",
    "        print('Not divided 0')"
   ]
  },
  {
   "cell_type": "code",
   "execution_count": 3,
   "metadata": {},
   "outputs": [
    {
     "name": "stdout",
     "output_type": "stream",
     "text": [
      "Error\n",
      "Not divided 0\n",
      "1 10\n",
      "2\n",
      "2 5\n",
      "3\n",
      "3 3\n",
      "4\n",
      "4 2\n",
      "5\n",
      "5 2\n",
      "list index out of range\n",
      "6 1\n",
      "list index out of range\n",
      "7 1\n",
      "list index out of range\n",
      "8 1\n",
      "list index out of range\n",
      "9 1\n",
      "list index out of range\n"
     ]
    }
   ],
   "source": [
    "# 위의 코드는 IndexError가 뜨게 된다\n",
    "# 그래서 exception을 하나 더 추가한다\n",
    "a = [1, 2, 3, 4, 5]\n",
    "for i in range(10) :\n",
    "    try :\n",
    "        print(i, 10 // i)\n",
    "        print(a[i])\n",
    "    except ZeroDivisionError :\n",
    "        print('Error')\n",
    "        print('Not divided 0')\n",
    "    except IndexError as e :\n",
    "        print(e)"
   ]
  },
  {
   "cell_type": "code",
   "execution_count": 4,
   "metadata": {},
   "outputs": [
    {
     "name": "stdout",
     "output_type": "stream",
     "text": [
      "Error\n",
      "Not divided 0\n",
      "1 10\n",
      "2\n",
      "name 'v' is not defined\n",
      "2 5\n",
      "3\n",
      "name 'v' is not defined\n",
      "3 3\n",
      "4\n",
      "name 'v' is not defined\n",
      "4 2\n",
      "5\n",
      "name 'v' is not defined\n",
      "5 2\n",
      "list index out of range\n",
      "6 1\n",
      "list index out of range\n",
      "7 1\n",
      "list index out of range\n",
      "8 1\n",
      "list index out of range\n",
      "9 1\n",
      "list index out of range\n"
     ]
    }
   ],
   "source": [
    "# 마지막에 Exception을 추가하면 미처 고려하지 못한 에러들을 표시할 수 있다.\n",
    "a = [1, 2, 3, 4, 5]\n",
    "for i in range(10) :\n",
    "    try :\n",
    "        print(i, 10 // i)\n",
    "        print(a[i])\n",
    "        print(v)\n",
    "    except ZeroDivisionError :\n",
    "        print('Error')\n",
    "        print('Not divided 0')\n",
    "    except IndexError as e :\n",
    "        print(e)\n",
    "    except Exception as e :\n",
    "        print(e)"
   ]
  },
  {
   "cell_type": "markdown",
   "metadata": {},
   "source": [
    "하지만 위와같은 방식으로 전체 에러를 출력하면 에러의 위치를 특정할 수 없기 때문에 좋은 표현은 되지 못한다"
   ]
  },
  {
   "cell_type": "code",
   "execution_count": 5,
   "metadata": {},
   "outputs": [
    {
     "name": "stdout",
     "output_type": "stream",
     "text": [
      "Not divided by 0\n",
      "10\n",
      "5\n",
      "3\n",
      "2\n",
      "2\n",
      "1\n",
      "1\n",
      "1\n",
      "1\n"
     ]
    }
   ],
   "source": [
    "# try ~ except ~ else\n",
    "for i in range(10) :\n",
    "    try :   # 예외 발생 가능 코드\n",
    "        result = 10 // i\n",
    "    except ZeroDivisionError :  # 예외 발생 시 동작하는 코드\n",
    "        print('Not divided by 0')\n",
    "    else :  # 예외가 발생하지 않을 때 동작하는 코드\n",
    "        print(10 // i)"
   ]
  },
  {
   "cell_type": "code",
   "execution_count": 6,
   "metadata": {},
   "outputs": [
    {
     "name": "stdout",
     "output_type": "stream",
     "text": [
      "Not divided by 0\n",
      "종료되었습니다.\n",
      "10\n",
      "종료되었습니다.\n",
      "5\n",
      "종료되었습니다.\n",
      "3\n",
      "종료되었습니다.\n",
      "2\n",
      "종료되었습니다.\n",
      "2\n",
      "종료되었습니다.\n",
      "1\n",
      "종료되었습니다.\n",
      "1\n",
      "종료되었습니다.\n",
      "1\n",
      "종료되었습니다.\n",
      "1\n",
      "종료되었습니다.\n"
     ]
    }
   ],
   "source": [
    "# try ~ except ~ finally\n",
    "for i in range(10) :\n",
    "    try :   # 예외 발생 가능 코드\n",
    "        result = 10 // i\n",
    "        print(result)\n",
    "    except ZeroDivisionError :  # 예외 발생 시 동작하는 코드\n",
    "        print('Not divided by 0')\n",
    "    finally :  # 예외 발생 여부와 상관없이 실행됨\n",
    "        print('종료되었습니다.')"
   ]
  },
  {
   "cell_type": "markdown",
   "metadata": {},
   "source": [
    "## raise 구문\n",
    "필요에 따라 강제로 Exception을 발생"
   ]
  },
  {
   "cell_type": "code",
   "execution_count": 7,
   "metadata": {},
   "outputs": [
    {
     "name": "stdout",
     "output_type": "stream",
     "text": [
      "정수값으로 변환된 숫자 - 3\n",
      "정수값으로 변환된 숫자 - 5\n",
      "정수값으로 변환된 숫자 - 6\n",
      "정수값으로 변환된 숫자 - 45423\n"
     ]
    },
    {
     "ename": "ValueError",
     "evalue": "숫자값을 입력하지 않으셨습니다.",
     "output_type": "error",
     "traceback": [
      "\u001b[1;31m---------------------------------------------------------------------------\u001b[0m",
      "\u001b[1;31mValueError\u001b[0m                                Traceback (most recent call last)",
      "\u001b[1;32m<ipython-input-7-18ba3a98ba5b>\u001b[0m in \u001b[0;36m<module>\u001b[1;34m\u001b[0m\n\u001b[0;32m      4\u001b[0m     \u001b[1;32mfor\u001b[0m \u001b[0mdigit\u001b[0m \u001b[1;32min\u001b[0m \u001b[0mvalue\u001b[0m \u001b[1;33m:\u001b[0m\u001b[1;33m\u001b[0m\u001b[1;33m\u001b[0m\u001b[0m\n\u001b[0;32m      5\u001b[0m         \u001b[1;32mif\u001b[0m \u001b[0mdigit\u001b[0m \u001b[1;32mnot\u001b[0m \u001b[1;32min\u001b[0m \u001b[1;34m'0123456789'\u001b[0m \u001b[1;33m:\u001b[0m\u001b[1;33m\u001b[0m\u001b[1;33m\u001b[0m\u001b[0m\n\u001b[1;32m----> 6\u001b[1;33m             \u001b[1;32mraise\u001b[0m \u001b[0mValueError\u001b[0m\u001b[1;33m(\u001b[0m\u001b[1;34m'숫자값을 입력하지 않으셨습니다.'\u001b[0m\u001b[1;33m)\u001b[0m\u001b[1;33m\u001b[0m\u001b[1;33m\u001b[0m\u001b[0m\n\u001b[0m\u001b[0;32m      7\u001b[0m     \u001b[0mprint\u001b[0m\u001b[1;33m(\u001b[0m\u001b[1;34m'정수값으로 변환된 숫자 -'\u001b[0m\u001b[1;33m,\u001b[0m \u001b[0mint\u001b[0m\u001b[1;33m(\u001b[0m\u001b[0mvalue\u001b[0m\u001b[1;33m)\u001b[0m\u001b[1;33m)\u001b[0m\u001b[1;33m\u001b[0m\u001b[1;33m\u001b[0m\u001b[0m\n",
      "\u001b[1;31mValueError\u001b[0m: 숫자값을 입력하지 않으셨습니다."
     ]
    }
   ],
   "source": [
    "# raise <Exception Type> (예외 정보)\n",
    "while True :\n",
    "    value = input('변환할 정수 값을 입력해주세요')\n",
    "    for digit in value :\n",
    "        if digit not in '0123456789' :\n",
    "            raise ValueError('숫자값을 입력하지 않으셨습니다.')\n",
    "    print('정수값으로 변환된 숫자 -', int(value))"
   ]
  },
  {
   "cell_type": "markdown",
   "metadata": {},
   "source": [
    "## assert 구문\n",
    "특정 조건에 만족하지 않을 경우 예외 발생"
   ]
  },
  {
   "cell_type": "code",
   "execution_count": 9,
   "metadata": {},
   "outputs": [
    {
     "name": "stdout",
     "output_type": "stream",
     "text": [
      "0b1010\n"
     ]
    }
   ],
   "source": [
    "def get_binary_number(decimal_number) :\n",
    "    assert isinstance(decimal_number, int)\n",
    "    return bin(decimal_number)\n",
    "\n",
    "print(get_binary_number(10))"
   ]
  },
  {
   "cell_type": "markdown",
   "metadata": {},
   "source": [
    "# File Handling\n",
    "File System\n",
    "- os에서 파일을 저장하는 트리구조 저장 체계\n",
    "\n",
    "File from wiki\n",
    "- 컴퓨터 등의 기기에서 의미 있는 정보를 담는 논리적인 단위. 모든 프로그램은 파일로 구성되어 있고, 파일을 사용한다.\n",
    "\n",
    "## 파일의 종류\n",
    "- 기본적인 파일 종류로 text파일과 binary 파일로 나눔\n",
    "- 컴퓨터는 text파일을 처리하기 위해 binary 파일로 변환시킴\n",
    "- 모든 text파일도 실제는 binary 파일이다.\n",
    "    (ASCII/Unicode 문자열 집합으로 저장되어 사람이 읽을 수 있음)\n",
    "\n",
    "    - binary 파일\n",
    "        - 컴퓨터만 이해할 수 있는 형태인 이진법형식으로 저장된 파일\n",
    "        - 일반적으로 메모장으로 열면 내용이 깨져보임(메모장 해설 불가)\n",
    "        - 엑셀파일, 워드파일 등\n",
    "\n",
    "    - text 파일\n",
    "        - 인간도 이해할 수 있는 형태인 문자열 형식으로 저장된 파일\n",
    "        - 메모장으로 열면 내용 확인 가능\n",
    "        - 메모장에 저장된 파일, HTML파일, 파이썬 코드 파일 등\n",
    "\n",
    "## Python File I/O\n",
    "- 파이썬은 파일 처리를 위해 'open' 키워드를 사용한다\n",
    "f = open('<file name>', 'accept mode')\n",
    "f.close()\n",
    "\n",
    "- file open mode\n",
    "    - r : read mode (only read)\n",
    "    - w : write mode \n",
    "    - a : add mode - add new things where file's last things\n",
    "\n",
    "## 파이썬의 File Read\n",
    "read() txt 파일 안에 있는 내용을 문자열로 변환\n",
    "\n",
    "f = open('i_have_a_dream.txt', 'r')\n",
    "\n",
    "contents = f.read()\n",
    "\n",
    "print(contents)\n",
    "\n",
    "f.close()\n",
    "\n",
    "- with 구문과 함께 사용하기\n",
    "\n",
    "with open('i_have_a_dream.txt', 'r') as my_file :\n",
    "\n",
    "        contents = my_file.read()\n",
    "\n",
    "        print(type(contents), contents)"
   ]
  },
  {
   "cell_type": "markdown",
   "metadata": {},
   "source": [
    "## 파이썬의 dictionary 다루기"
   ]
  },
  {
   "cell_type": "code",
   "execution_count": 1,
   "metadata": {},
   "outputs": [],
   "source": [
    "import os\n",
    "os.mkdir('log')"
   ]
  },
  {
   "cell_type": "code",
   "execution_count": 2,
   "metadata": {},
   "outputs": [],
   "source": [
    "# 디렉토리가 있는지 확인하기\n",
    "if not os.path.isdir('log') :\n",
    "    os.mkdir('log')"
   ]
  },
  {
   "cell_type": "code",
   "execution_count": 3,
   "metadata": {},
   "outputs": [
    {
     "data": {
      "text/plain": [
       "WindowsPath('c:/Users/jcw74/Study/[부스트캠프 AI Tech 3기] Pre-Course/Python Basics for AI/211115_File_Exception_LogHandling')"
      ]
     },
     "execution_count": 3,
     "metadata": {},
     "output_type": "execute_result"
    }
   ],
   "source": [
    "# 최근에는 pathlib모듈을 사용하여 path를 객체로 다룸\n",
    "import pathlib\n",
    "cwd = pathlib.Path.cwd()\n",
    "cwd"
   ]
  },
  {
   "cell_type": "code",
   "execution_count": 4,
   "metadata": {},
   "outputs": [
    {
     "data": {
      "text/plain": [
       "WindowsPath('c:/Users/jcw74/Study/[부스트캠프 AI Tech 3기] Pre-Course/Python Basics for AI')"
      ]
     },
     "execution_count": 4,
     "metadata": {},
     "output_type": "execute_result"
    }
   ],
   "source": [
    "cwd.parent"
   ]
  },
  {
   "cell_type": "code",
   "execution_count": 5,
   "metadata": {},
   "outputs": [
    {
     "data": {
      "text/plain": [
       "[WindowsPath('c:/Users/jcw74/Study/[부스트캠프 AI Tech 3기] Pre-Course/Python Basics for AI'),\n",
       " WindowsPath('c:/Users/jcw74/Study/[부스트캠프 AI Tech 3기] Pre-Course'),\n",
       " WindowsPath('c:/Users/jcw74/Study'),\n",
       " WindowsPath('c:/Users/jcw74'),\n",
       " WindowsPath('c:/Users'),\n",
       " WindowsPath('c:/')]"
      ]
     },
     "execution_count": 5,
     "metadata": {},
     "output_type": "execute_result"
    }
   ],
   "source": [
    "list(cwd.parents)"
   ]
  },
  {
   "cell_type": "code",
   "execution_count": 6,
   "metadata": {},
   "outputs": [
    {
     "data": {
      "text/plain": [
       "[WindowsPath('c:/Users/jcw74/Study/[부스트캠프 AI Tech 3기] Pre-Course/Python Basics for AI/211115_File_Exception_LogHandling/211115_File_Exception_LogHandling.ipynb'),\n",
       " WindowsPath('c:/Users/jcw74/Study/[부스트캠프 AI Tech 3기] Pre-Course/Python Basics for AI/211115_File_Exception_LogHandling/log')]"
      ]
     },
     "execution_count": 6,
     "metadata": {},
     "output_type": "execute_result"
    }
   ],
   "source": [
    "list(cwd.glob(\"*\"))"
   ]
  },
  {
   "cell_type": "markdown",
   "metadata": {},
   "source": [
    "## Log 파일 생성하기\n",
    "- 디렉토리가 있는지\n",
    "- 파일이 있는지 확인 후"
   ]
  },
  {
   "cell_type": "code",
   "execution_count": 7,
   "metadata": {},
   "outputs": [],
   "source": [
    "import os\n",
    "if not os.path.isdir(\"log\"):\n",
    "    os.mkdir(\"log\")\n",
    "if not os.path.exists(\"log/count_log.txt\"):\n",
    "    f = open(\"log/count_log.txt\", 'w', encoding=\"utf8\")\n",
    "    f.write(\"기록이 시작됩니다\\n\")\n",
    "    f.close()\n",
    "\n",
    "with open(\"log/count_log.txt\", 'a', encoding=\"utf8\") as f:\n",
    "    import random, datetime\n",
    "    for i in range(1, 11):\n",
    "        stamp = str(datetime.datetime.now())\n",
    "        value = random.random() * 1000000\n",
    "        log_line = stamp + \"\\t\" + str(value) +\"값이 생성되었습니다\" + \"\\n\"\n",
    "        f.write(log_line)"
   ]
  },
  {
   "cell_type": "code",
   "execution_count": 8,
   "metadata": {},
   "outputs": [
    {
     "name": "stdout",
     "output_type": "stream",
     "text": [
      "기록이 시작됩니다\n",
      "2021-11-15 23:31:36.474036\t38153.427593405344값이 생성되었습니다\n",
      "2021-11-15 23:31:36.474036\t706642.2202646718값이 생성되었습니다\n",
      "2021-11-15 23:31:36.474036\t821007.39281874값이 생성되었습니다\n",
      "2021-11-15 23:31:36.474036\t320176.66773529875값이 생성되었습니다\n",
      "2021-11-15 23:31:36.474036\t547934.4357154429값이 생성되었습니다\n",
      "2021-11-15 23:31:36.474036\t12613.465843935744값이 생성되었습니다\n",
      "2021-11-15 23:31:36.474036\t34049.38796631029값이 생성되었습니다\n",
      "2021-11-15 23:31:36.474036\t842907.3123100448값이 생성되었습니다\n",
      "2021-11-15 23:31:36.474036\t291945.66186186654값이 생성되었습니다\n",
      "2021-11-15 23:31:36.474036\t284323.8789045528값이 생성되었습니다\n",
      "\n"
     ]
    }
   ],
   "source": [
    "f = open(\"log/count_log.txt\", 'r', encoding=\"utf8\")\n",
    "contents = f.read()\n",
    "print(contents)\n",
    "f.close()"
   ]
  },
  {
   "cell_type": "markdown",
   "metadata": {},
   "source": [
    "## Pickle\n",
    "- 파이썬의 객체를 영속화(persistence)하는 built-in 객체\n",
    "- 데이터, object 등 실행중 정보를 저장 -> 불러와서 사용\n",
    "- 저장해야하는 정보, 계산 결과(모델) 등 활용이 많음"
   ]
  },
  {
   "cell_type": "code",
   "execution_count": 9,
   "metadata": {},
   "outputs": [
    {
     "name": "stdout",
     "output_type": "stream",
     "text": [
      "[1, 2, 3, 4, 5]\n"
     ]
    }
   ],
   "source": [
    "import pickle\n",
    "f = open(\"list.pickle\", \"wb\")\n",
    "test = [1, 2, 3, 4, 5]\n",
    "pickle.dump(test, f)\n",
    "f.close()\n",
    "\n",
    "f = open(\"list.pickle\", \"rb\")\n",
    "test_pickle = pickle.load(f)\n",
    "print(test_pickle)\n",
    "f.close()"
   ]
  },
  {
   "cell_type": "code",
   "execution_count": 11,
   "metadata": {},
   "outputs": [
    {
     "data": {
      "text/plain": [
       "50"
      ]
     },
     "execution_count": 11,
     "metadata": {},
     "output_type": "execute_result"
    }
   ],
   "source": [
    "import pickle\n",
    "class Mutltiply(object):\n",
    "    def __init__(self, multiplier):\n",
    "        self.multiplier = multiplier\n",
    "\n",
    "    def multiply(self, number):\n",
    "        return number * self.multiplier\n",
    "\n",
    "muliply = Mutltiply(5)\n",
    "muliply.multiply(10)"
   ]
  },
  {
   "cell_type": "code",
   "execution_count": 12,
   "metadata": {},
   "outputs": [
    {
     "data": {
      "text/plain": [
       "25"
      ]
     },
     "execution_count": 12,
     "metadata": {},
     "output_type": "execute_result"
    }
   ],
   "source": [
    "f = open(\"multiply_object.pickle\", \"wb\")\n",
    "pickle.dump(muliply, f)\n",
    "f.close()\n",
    "\n",
    "f = open(\"multiply_object.pickle\", \"rb\")\n",
    "multiply_pickle = pickle.load(f)\n",
    "multiply_pickle.multiply(5)"
   ]
  },
  {
   "cell_type": "markdown",
   "metadata": {},
   "source": [
    "# Logging Handling\n",
    "## 로그 남기기 - Logging\n",
    "- 프로그램이 실행되는 동안 일어나는 정보를 기록을 남기기\n",
    "- 유저의 접근, 프로그램의 Exception, 특정 함수의 사용\n",
    "- Console 화면에 출력, 파일에 남기기, DB에 남기기 등등\n",
    "- 기록된 로그를 분석하여 의미있는 결과를 도출 할 수 있음\n",
    "- 실행시점에서 남겨야 하는 기록, 개발시점에서 남겨야하는 기록\n",
    "\n",
    "## print vs logging\n",
    "- 기록을 print로 남기는 것도 가능함\n",
    "- 그러나 Console 창에만 남기는 기록은 분석시 사용불가\n",
    "- 때로는 레벨별(개발, 운영)로 기록을 남길 필요도 있음\n",
    "- 모듈별로 별도의 logging을 남길필요도 있음\n",
    "- 이러한 기능을 체계적으로 지원하는 모듈이 필요함\n",
    "\n",
    "## loging 모듈\n",
    "- python의 기본 Log 관리 모듈"
   ]
  },
  {
   "cell_type": "code",
   "execution_count": 13,
   "metadata": {},
   "outputs": [
    {
     "name": "stderr",
     "output_type": "stream",
     "text": [
      "WARNING:root:조심해!\n",
      "ERROR:root:에러났어!!!\n",
      "CRITICAL:root:망했다...\n"
     ]
    }
   ],
   "source": [
    "import logging\n",
    "\n",
    "logging.debug(\"틀렸잖아!\")\n",
    "logging.info(\"확인해\")\n",
    "logging.warning(\"조심해!\")\n",
    "logging.error(\"에러났어!!!\")\n",
    "logging.critical (\"망했다...\")"
   ]
  },
  {
   "cell_type": "markdown",
   "metadata": {},
   "source": [
    "## logging level\n",
    "- 프로그램 진행 상황에 따라 다른 Level의 Log를 출력함\n",
    "- 개발 시점, 운영 시점 마다 다른 Log가 남을 수 있도록 지원함\n",
    "- DEBUG > INFO > WARNING > ERROR > Critical\n",
    "- Log 관리시 가장 기본이 되는 설정 정보"
   ]
  },
  {
   "cell_type": "code",
   "execution_count": 14,
   "metadata": {},
   "outputs": [
    {
     "name": "stderr",
     "output_type": "stream",
     "text": [
      "틀렸잖아!\n",
      "DEBUG:main:틀렸잖아!\n",
      "확인해\n",
      "INFO:main:확인해\n",
      "조심해!\n",
      "WARNING:main:조심해!\n",
      "에러났어!!!\n",
      "ERROR:main:에러났어!!!\n",
      "망했다...\n",
      "CRITICAL:main:망했다...\n",
      "망했다...\n",
      "CRITICAL:main:망했다...\n"
     ]
    }
   ],
   "source": [
    "import logging\n",
    "\n",
    "logger = logging.getLogger(\"main\")      # Logger 선언\n",
    "stream_hander = logging.StreamHandler() # Logger의 output 방법 선언\n",
    "logger.addHandler(stream_hander)        # Logger의 output 등록\n",
    "\n",
    "logger.setLevel(logging.DEBUG)\n",
    "logger.debug(\"틀렸잖아!\")\n",
    "logger.info(\"확인해\")\n",
    "logger.warning(\"조심해!\")\n",
    "logger.error(\"에러났어!!!\")\n",
    "logger.critical(\"망했다...\")\n",
    "logger.setLevel(logging.CRITICAL)\n",
    "logger.debug(\"틀렸잖아!\")\n",
    "logger.info(\"확인해\")\n",
    "logger.warning(\"조심해!\")\n",
    "logger.error(\"에러났어!!!\")\n",
    "logger.critical(\"망했다...\")"
   ]
  },
  {
   "cell_type": "markdown",
   "metadata": {},
   "source": [
    "# configparser\n",
    "- 프로그램의 실행 설정을 file에 저장함\n",
    "- Section, Key, Value 값의 형태로 설정된 설정 파일을 사용\n",
    "- 설정파일을 Dict Type으로 호출후 사용\n",
    "\n",
    "## configparser file"
   ]
  },
  {
   "cell_type": "code",
   "execution_count": 17,
   "metadata": {},
   "outputs": [
    {
     "name": "stdout",
     "output_type": "stream",
     "text": [
      "status\n",
      "name\n",
      "value\n",
      "age\n",
      "single\n"
     ]
    },
    {
     "data": {
      "text/plain": [
       "'Single'"
      ]
     },
     "execution_count": 17,
     "metadata": {},
     "output_type": "execute_result"
    }
   ],
   "source": [
    "import configparser\n",
    "config = configparser.ConfigParser()\n",
    "config.sections()\n",
    "\n",
    "config.read('example.cfg')\n",
    "config.sections()\n",
    "\n",
    "for key in config['SectionOne']:\n",
    "    print(key)\n",
    "config['SectionOne'][\"status\"]"
   ]
  },
  {
   "cell_type": "markdown",
   "metadata": {},
   "source": [
    "# argparger\n",
    "- Console 창에서 프로그램 실행시 Setting 정보를 저장함\n",
    "- 거의 모든 Console 기반 Python 프로그램 기본으로 제공\n",
    "- 특수 모듈도 많이 존재하지만(TF), 일반적으로 argparse를 사용\n",
    "- Command-Line Option 이라고 부름"
   ]
  },
  {
   "cell_type": "code",
   "execution_count": null,
   "metadata": {},
   "outputs": [],
   "source": [
    "import argparse\n",
    "parser = argparse.ArgumentParser(description='Sum two integers.')\n",
    "parser.add_argument('-a', \"--a_value\", dest=\"A_value\", help=\"A integers\", type=int)\n",
    "parser.add_argument('-b', \"--b_value\", dest=\"B_value\", help=\"B integers\", type=int)\n",
    "args = parser.parse_args()\n",
    "\n",
    "print(args)\n",
    "print(args.a)\n",
    "print(args.b)\n",
    "print(args.a + args.b)"
   ]
  },
  {
   "cell_type": "code",
   "execution_count": null,
   "metadata": {},
   "outputs": [],
   "source": [
    "def main() :\n",
    "    parser = argparse.ArgumentParser(description='PyTorch MNIST Example')\n",
    "    parser.add_argument('--batch-size', type=int, default=64, metavar='N', help='input batch size for training (default:64)')\n",
    "    parser.add_argument('--test-batch-size', type=int, default=1000, metavar='N', help='input batch size for testing (default: 1000)')\n",
    "    parser.add_argument('--epochs', type=int, default=10, metavar='N', help='number of epochs to train (default: 10)')\n",
    "    parser.add_argument('--lr', type=float, default=0.01, metavar='LR', help='learning rate (default: 0.01)')\n",
    "    parser.add_argument('--momentum', type=float, default=0.5, metavar='M', help='SGD momentum (default: 0.5)')\n",
    "    parser.add_argument('--no-cuda', action='store_true', default=False, help='disables CUDA training')\n",
    "    parser.add_argument('--seed', type=int, default=1, metavar='S', help='random seed (default: 1)')\n",
    "    parser.add_argument('--save-model', action='store_true', default=False, help='For Saving the current Model')\n",
    "    args = parser.parse_args()\n",
    "\n",
    "if __name__ == '__main__' :\n",
    "    main()"
   ]
  }
 ],
 "metadata": {
  "interpreter": {
   "hash": "b3ba2566441a7c06988d0923437866b63cedc61552a5af99d1f4fb67d367b25f"
  },
  "kernelspec": {
   "display_name": "Python 3.8.8 64-bit ('base': conda)",
   "language": "python",
   "name": "python3"
  },
  "language_info": {
   "codemirror_mode": {
    "name": "ipython",
    "version": 3
   },
   "file_extension": ".py",
   "mimetype": "text/x-python",
   "name": "python",
   "nbconvert_exporter": "python",
   "pygments_lexer": "ipython3",
   "version": "3.8.8"
  },
  "orig_nbformat": 4
 },
 "nbformat": 4,
 "nbformat_minor": 2
}
