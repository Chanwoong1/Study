{
 "cells": [
  {
   "cell_type": "markdown",
   "metadata": {},
   "source": [
    "# 힙 & 힙정렬\n",
    "\n",
    "## 우선순위 큐\n",
    "요소들 집합 S를 구현하는 자료구조\n",
    "\n",
    "각 요소들은 키와 관련이 있고, 다음 작업들을 지원한다.\n",
    "\n",
    "insert(S, x) : 요소 x 를 집합 S에 삽입\n",
    "\n",
    "max(S) : 최대 키인 S의 요소를 반환\n",
    "\n",
    "extract_max(S) : 최대 키인 S의 요소를 반환하고 집합 S에서 제거\n",
    "\n",
    "increase_key(S, x, k) : 요소 x의 키를 새로운 값 k로 증가시킴 (k가 현재 값만큼 크다고 가정)\n",
    "\n"
   ]
  },
  {
   "cell_type": "markdown",
   "metadata": {},
   "source": [
    "## 힙\n",
    "- 우선순위 큐의 구현\n",
    "- 완전 이진 트리로 시각화된 배열\n",
    "- 최대 힙 특성 : 노드의 키가 자식 값들의 키보다 크다. (최소 힙도 마찬가지로 동일하게\n",
    "정의된다.)\n",
    "\n",
    "## 트리로서의 힙\n",
    "트리의 루트: 배열의 첫 요소, i = 1 이다.\n",
    "\n",
    "parent(i) =i/2: 노드의 부모의 인덱스를 반환\n",
    "\n",
    "left(i)=2i: 노드의 왼쪽 자식의 인덱스를 반환\n",
    "\n",
    "right(i)=2i+1: 노드의 오른쪽 자식의 인덱스를 반환\n",
    "\n",
    "## 힙에서의 연산\n",
    "\n",
    "build_max_heap : 정렬 되지 않은 배열로부터 최대-힙을 만든다.\n",
    "\n",
    "max_heapify : 그 루트의 서브 트리에서 힙 특성을 위반한 걸 한 가지 고친다.\n",
    "\n",
    "insert, extract_max, heapsort\n",
    "\n",
    "## 최대-힙화\n",
    "\n",
    "- left(i)와 right(i) 서브 트리들이 최대-힙이라고 가정\n",
    "- 만약 요소 A[i]가 최대-힙 특성을 위반한다면, 요소 트리A[i]를 아래로 흘러 내려가도록 하면서 위반을 수정한다 인덱스 i의. 서브 트리들을 최대-힙으로 만든다.\n",
    "\n",
    "## Build_Max_Heap(A)\n",
    "A[1…n]를 최대-힙으로 변환\n",
    "\n",
    "    Build_Max_Heap(A):\n",
    "\n",
    "    for i=n/2 downto 1\n",
    "\n",
    "    do Max_Heapify(A, i)\n",
    "\n",
    "왜 n/2 부터 시작할까?\n",
    "\n",
    "왜냐하면 요소 A[n/2 + 1 … n] 들이 트리의 모든 단말 2i > n, for i > n/2 + 1 노드들이라서이다.\n",
    "\n",
    "시간=? 간단한 분석을 통하면 O(n log n) \n"
   ]
  },
  {
   "cell_type": "code",
   "execution_count": null,
   "metadata": {},
   "outputs": [],
   "source": []
  }
 ],
 "metadata": {
  "interpreter": {
   "hash": "b3ba2566441a7c06988d0923437866b63cedc61552a5af99d1f4fb67d367b25f"
  },
  "kernelspec": {
   "display_name": "Python 3.8.8 64-bit ('base': conda)",
   "language": "python",
   "name": "python3"
  },
  "language_info": {
   "name": "python",
   "version": "3.8.8"
  },
  "orig_nbformat": 4
 },
 "nbformat": 4,
 "nbformat_minor": 2
}
