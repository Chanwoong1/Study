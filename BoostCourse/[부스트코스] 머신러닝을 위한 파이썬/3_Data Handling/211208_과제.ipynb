{
 "cells": [
  {
   "cell_type": "markdown",
   "metadata": {},
   "source": [
    "# n_size_ndarray_creation\n",
    "- 함수목적\n",
    "    - n의 제곱수로 2 dimentional array를 생성하는 ndarray.\n",
    "- Args\n",
    "    - n: 생성하고자 하는 ndarray의 row와 column의 개수\n",
    "    - dtype: 생성하려는 ndarray의 data type (np.int)\n",
    "- Returns\n",
    "    - row와 column의 길이가 n인 two dimentional ndarray로 X[0,0]은 0으로 순차적으로 X[n-1,n-1]은 n^2-1이 할당됨"
   ]
  },
  {
   "cell_type": "code",
   "execution_count": 7,
   "metadata": {},
   "outputs": [
    {
     "data": {
      "text/plain": [
       "array([[0, 1, 2],\n",
       "       [3, 4, 5],\n",
       "       [6, 7, 8]])"
      ]
     },
     "execution_count": 7,
     "metadata": {},
     "output_type": "execute_result"
    }
   ],
   "source": [
    "import numpy as np\n",
    "\n",
    "def n_size_ndarray_creation(n, dtype=np.int):\n",
    "    X = np.arange((n ** 2), dtype = dtype).reshape(n, n)\n",
    "    return X\n",
    "\n",
    "n_size_ndarray_creation(3)"
   ]
  },
  {
   "cell_type": "markdown",
   "metadata": {},
   "source": [
    "# zero_or_one_or_empty_ndarray\n",
    "- 함수목적\n",
    "shape이 지정된 크기의 ndarray를 생성, 이때 행렬의 element는 type에 따라 0, 1 또는 empty로 생성됨.\n",
    "Args\n",
    "shape: 생성할려는 ndarray의 shape\n",
    "type: 생성되는 element들의 값을 지정함0은 0, 1은 1, 99는 empty 타입으로 생성됨\n",
    "dtype: 생성하려는 ndarray의 data type (np.int)\n",
    "Returns\n",
    "shape의 크기로 생성된 ndarray로 type에 따라 element의 내용이 변경됨\n",
    "Examples"
   ]
  },
  {
   "cell_type": "code",
   "execution_count": 9,
   "metadata": {},
   "outputs": [
    {
     "name": "stdout",
     "output_type": "stream",
     "text": [
      "[[1 1]\n",
      " [1 1]]\n",
      "[[         1          0          1]\n",
      " [         0          0          0]\n",
      " [         0          0 1947327091]]\n"
     ]
    }
   ],
   "source": [
    "def zero_or_one_or_empty_ndarray(shape, type=0, dtype=np.int):\n",
    "    if type == 0 :\n",
    "        X = np.zeros(shape = shape, dtype = dtype)\n",
    "    elif type == 1 :\n",
    "        X = np.ones(shape = shape, dtype = dtype)\n",
    "    else :\n",
    "        X = np.empty(shape = shape, dtype = dtype)\n",
    "    return X\n",
    "\n",
    "print(zero_or_one_or_empty_ndarray(shape=(2,2), type=1))\n",
    "print(zero_or_one_or_empty_ndarray(shape=(3,3), type=99))"
   ]
  },
  {
   "cell_type": "code",
   "execution_count": null,
   "metadata": {},
   "outputs": [],
   "source": []
  }
 ],
 "metadata": {
  "interpreter": {
   "hash": "b3ba2566441a7c06988d0923437866b63cedc61552a5af99d1f4fb67d367b25f"
  },
  "kernelspec": {
   "display_name": "Python 3.8.8 64-bit ('base': conda)",
   "language": "python",
   "name": "python3"
  },
  "language_info": {
   "codemirror_mode": {
    "name": "ipython",
    "version": 3
   },
   "file_extension": ".py",
   "mimetype": "text/x-python",
   "name": "python",
   "nbconvert_exporter": "python",
   "pygments_lexer": "ipython3",
   "version": "3.8.8"
  },
  "orig_nbformat": 4
 },
 "nbformat": 4,
 "nbformat_minor": 2
}
