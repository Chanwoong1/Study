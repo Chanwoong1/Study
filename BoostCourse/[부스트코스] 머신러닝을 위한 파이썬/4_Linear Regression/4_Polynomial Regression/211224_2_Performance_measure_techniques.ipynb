{
 "cells": [
  {
   "cell_type": "code",
   "execution_count": 1,
   "metadata": {},
   "outputs": [],
   "source": [
    "from sklearn import datasets\n",
    "boston = datasets.load_boston()"
   ]
  },
  {
   "cell_type": "code",
   "execution_count": 2,
   "metadata": {},
   "outputs": [],
   "source": [
    "X = boston.data\n",
    "y = boston.target"
   ]
  },
  {
   "cell_type": "markdown",
   "metadata": {},
   "source": [
    "# kfold cross validation"
   ]
  },
  {
   "cell_type": "code",
   "execution_count": 3,
   "metadata": {},
   "outputs": [
    {
     "name": "stdout",
     "output_type": "stream",
     "text": [
      "TRAIN -  455\n",
      "TEST -  51\n",
      "TRAIN -  455\n",
      "TEST -  51\n",
      "TRAIN -  455\n",
      "TEST -  51\n",
      "TRAIN -  455\n",
      "TEST -  51\n",
      "TRAIN -  455\n",
      "TEST -  51\n",
      "TRAIN -  455\n",
      "TEST -  51\n",
      "TRAIN -  456\n",
      "TEST -  50\n",
      "TRAIN -  456\n",
      "TEST -  50\n",
      "TRAIN -  456\n",
      "TEST -  50\n",
      "TRAIN -  456\n",
      "TEST -  50\n"
     ]
    }
   ],
   "source": [
    "X = boston.data\n",
    "y = boston.target\n",
    "from sklearn.model_selection import KFold\n",
    "\n",
    "kf = KFold(n_splits=10, shuffle=True)\n",
    "\n",
    "for train_index, test_index in kf.split(X):\n",
    "    print(\"TRAIN - \", len(train_index))\n",
    "    print(\"TEST - \",  len(test_index))    "
   ]
  },
  {
   "cell_type": "code",
   "execution_count": 4,
   "metadata": {},
   "outputs": [
    {
     "data": {
      "text/plain": [
       "(34.46408458830232, 34.07824620925939)"
      ]
     },
     "execution_count": 4,
     "metadata": {},
     "output_type": "execute_result"
    }
   ],
   "source": [
    "from sklearn.linear_model import Lasso, Ridge\n",
    "from sklearn.metrics import mean_squared_error\n",
    "kf = KFold(n_splits=10)\n",
    "lasso_regressor = Lasso()\n",
    "ridge_regressor = Ridge()\n",
    "\n",
    "lasso_mse = []\n",
    "ridge_mse = []\n",
    "\n",
    "for train_index, test_index in kf.split(X):\n",
    "    lasso_regressor.fit(X[train_index], y[train_index])\n",
    "    ridge_regressor.fit(X[train_index], y[train_index])\n",
    "    \n",
    "    lasso_mse.append(mean_squared_error(y[test_index], lasso_regressor.predict(X[test_index])))\n",
    "    ridge_mse.append(mean_squared_error(y[test_index], ridge_regressor.predict(X[test_index])))\n",
    "    \n",
    "sum(lasso_mse) / 10, sum(ridge_mse) / 10"
   ]
  },
  {
   "cell_type": "code",
   "execution_count": 6,
   "metadata": {},
   "outputs": [
    {
     "data": {
      "text/plain": [
       "(-34.46408458830232, -34.0782462092594)"
      ]
     },
     "execution_count": 6,
     "metadata": {},
     "output_type": "execute_result"
    }
   ],
   "source": [
    "from sklearn.model_selection import cross_val_score\n",
    "import numpy as np \n",
    "\n",
    "lasso_regressor = Lasso(warm_start=False)\n",
    "ridge_regressor = Ridge()\n",
    "\n",
    "lasso_scores = cross_val_score(lasso_regressor, X, y, cv=10, scoring='neg_mean_squared_error')\n",
    "ridge_scores = cross_val_score(ridge_regressor, X, y, cv=10, scoring='neg_mean_squared_error')\n",
    "np.mean(lasso_scores), np.mean(ridge_scores)"
   ]
  },
  {
   "cell_type": "code",
   "execution_count": 7,
   "metadata": {},
   "outputs": [
    {
     "data": {
      "text/plain": [
       "{'fit_time': array([0.00097823, 0.0009706 , 0.00097752, 0.00097799, 0.00097656,\n",
       "        0.        , 0.        , 0.        , 0.        , 0.00097847]),\n",
       " 'score_time': array([0.00098205, 0.00097775, 0.        , 0.        , 0.        ,\n",
       "        0.00097656, 0.00097728, 0.00097704, 0.00097728, 0.        ]),\n",
       " 'test_neg_mean_squared_error': array([ -11.75904887,  -17.87218543,  -10.52504673,  -60.79224355,\n",
       "         -46.77806854,  -40.75196077,  -17.30562005, -102.67754279,\n",
       "         -22.8731834 ,  -13.30594575]),\n",
       " 'test_r2': array([ 0.66289033,  0.33452353, -0.50043664,  0.38035161,  0.33638098,\n",
       "         0.4584511 , -0.0816218 ,  0.31138236, -0.21362102,  0.29459703])}"
      ]
     },
     "execution_count": 7,
     "metadata": {},
     "output_type": "execute_result"
    }
   ],
   "source": [
    "from sklearn.model_selection import cross_validate\n",
    "import numpy as np \n",
    "\n",
    "lasso_regressor = Lasso(warm_start=False)\n",
    "ridge_regressor = Ridge()\n",
    "\n",
    "scoring = ['neg_mean_squared_error', 'r2']\n",
    "\n",
    "lasso_scores = cross_validate(lasso_regressor, X, y, cv=10, scoring=scoring)\n",
    "ridge_scores = cross_validate(ridge_regressor, X, y, cv=10, scoring='neg_mean_squared_error')\n",
    "lasso_scores"
   ]
  },
  {
   "cell_type": "code",
   "execution_count": 8,
   "metadata": {},
   "outputs": [
    {
     "data": {
      "text/plain": [
       "(-28.953605461769786, -23.510589773526746)"
      ]
     },
     "execution_count": 8,
     "metadata": {},
     "output_type": "execute_result"
    }
   ],
   "source": [
    "from sklearn.model_selection import cross_val_score\n",
    "import numpy as np \n",
    "\n",
    "lasso_regressor = Lasso(warm_start=False)\n",
    "ridge_regressor = Ridge()\n",
    "\n",
    "kf = KFold(n_splits=10, shuffle=True)\n",
    "\n",
    "lasso_scores = cross_val_score(lasso_regressor, X, y, cv=kf, scoring='neg_mean_squared_error')\n",
    "ridge_scores = cross_val_score(ridge_regressor, X, y, cv=kf, scoring='neg_mean_squared_error')\n",
    "np.mean(lasso_scores), np.mean(ridge_scores)"
   ]
  },
  {
   "cell_type": "markdown",
   "metadata": {},
   "source": [
    "# LOOCV"
   ]
  },
  {
   "cell_type": "code",
   "execution_count": 9,
   "metadata": {},
   "outputs": [
    {
     "name": "stdout",
     "output_type": "stream",
     "text": [
      "[1 2 3] [0]\n",
      "[0 2 3] [1]\n",
      "[0 1 3] [2]\n",
      "[0 1 2] [3]\n"
     ]
    }
   ],
   "source": [
    "from sklearn.model_selection import LeaveOneOut\n",
    "\n",
    "test = [1, 2, 3, 4]\n",
    "loo = LeaveOneOut()\n",
    "for train, test in loo.split(test):\n",
    "    print(\"%s %s\" % (train, test))"
   ]
  },
  {
   "cell_type": "code",
   "execution_count": 10,
   "metadata": {},
   "outputs": [
    {
     "data": {
      "text/plain": [
       "(-28.409266762049334, -23.862836317209958)"
      ]
     },
     "execution_count": 10,
     "metadata": {},
     "output_type": "execute_result"
    }
   ],
   "source": [
    "loo = LeaveOneOut()\n",
    "    \n",
    "lasso_scores = cross_val_score(lasso_regressor, X, y, cv=loo, scoring='neg_mean_squared_error')\n",
    "ridge_scores= cross_val_score(ridge_regressor, X, y, cv=loo, scoring='neg_mean_squared_error')\n",
    "np.mean(lasso_scores), np.mean(ridge_scores)"
   ]
  },
  {
   "cell_type": "code",
   "execution_count": 11,
   "metadata": {},
   "outputs": [],
   "source": [
    "lasso_scores = cross_val_score(\n",
    "    lasso_regressor, X, y, cv=kf, scoring='neg_mean_squared_error')\n",
    "ridge_scores= cross_val_score(\n",
    "    ridge_regressor, X, y, cv=kf, scoring='neg_mean_squared_error')"
   ]
  },
  {
   "cell_type": "code",
   "execution_count": 12,
   "metadata": {},
   "outputs": [
    {
     "data": {
      "image/png": "[encoded data removed]",
      "text/plain": [
       "<Figure size 432x288 with 1 Axes>"
      ]
     },
     "metadata": {
      "needs_background": "light"
     },
     "output_type": "display_data"
    }
   ],
   "source": [
    "import matplotlib.pyplot as plt\n",
    "labels=[\"LASSO\", \"RIDGE\"]\n",
    "plt.boxplot((lasso_scores, ridge_scores), labels=labels)\n",
    "plt.grid(linestyle=\"--\")\n",
    "plt.show()"
   ]
  },
  {
   "cell_type": "code",
   "execution_count": 13,
   "metadata": {},
   "outputs": [],
   "source": [
    "def rmse(predictions, targets):\n",
    "    return np.sqrt(((predictions - targets) ** 2).mean())"
   ]
  },
  {
   "cell_type": "code",
   "execution_count": 28,
   "metadata": {},
   "outputs": [],
   "source": [
    "from sklearn.linear_model import SGDRegressor\n",
    "from sklearn.preprocessing import StandardScaler\n",
    "\n",
    "std = StandardScaler()\n",
    "std.fit(X)\n",
    "X_scaled = std.transform(X)\n",
    "\n",
    "eta0 = 0.0001 \n",
    "max_iter = 100"
   ]
  },
  {
   "cell_type": "code",
   "execution_count": 29,
   "metadata": {},
   "outputs": [
    {
     "name": "stderr",
     "output_type": "stream",
     "text": [
      "C:\\ProgramData\\Anaconda3\\lib\\site-packages\\sklearn\\linear_model\\_stochastic_gradient.py:1220: ConvergenceWarning: Maximum number of iteration reached before convergence. Consider increasing max_iter to improve the fit.\n",
      "  warnings.warn(\"Maximum number of iteration reached before \"\n",
      "C:\\ProgramData\\Anaconda3\\lib\\site-packages\\sklearn\\linear_model\\_stochastic_gradient.py:1220: ConvergenceWarning: Maximum number of iteration reached before convergence. Consider increasing max_iter to improve the fit.\n",
      "  warnings.warn(\"Maximum number of iteration reached before \"\n"
     ]
    }
   ],
   "source": [
    "from sklearn.model_selection import train_test_split\n",
    "\n",
    "\n",
    "X_train_dataset, X_test, y_train_dataset, y_test = train_test_split(\n",
    "            X_scaled,y, test_size=0.2, random_state=42)\n",
    "\n",
    "sgd_regressor = SGDRegressor(\n",
    "    eta0=eta0, max_iter=max_iter, warm_start=True, learning_rate=\"constant\")\n",
    "# warm_start - 초기값이 주어지는 것\n",
    "\n",
    "rmse_val_score = []\n",
    "rmse_train_score = []\n",
    "model_list = []\n",
    "\n",
    "X_train, X_val, y_train, y_val = train_test_split(\n",
    "    X_train_dataset,y_train_dataset, test_size=0.2, random_state=42)\n",
    "sgd_regressor.fit(X_train,y_train)\n",
    "\n",
    "# kf = KFold(n_splits=100, shuffle=True)\n",
    "# for train_index, test_index in kf.split(X_train_dataset):\n",
    "\n",
    "for i in range(300):\n",
    "\n",
    "    y_pred = sgd_regressor.predict(X_train)\n",
    "    y_true = y_train\n",
    "    rmse_train_score.append(rmse(y_pred, y_true))\n",
    "\n",
    "    y_pred = sgd_regressor.predict(X_val)\n",
    "    y_true = y_val\n",
    "    rmse_val_score.append(rmse(y_pred, y_true))\n",
    "    model_list.append(sgd_regressor)\n",
    "\n",
    "    coef = sgd_regressor.coef_.copy()\n",
    "    intercept = sgd_regressor.intercept_.copy()\n",
    "\n",
    "    sgd_regressor = SGDRegressor(\n",
    "        eta0=eta0, max_iter=max_iter, warm_start=True, learning_rate=\"constant\")\n",
    "    \n",
    "    sgd_regressor.fit(X_train,y_train, coef_init=coef, intercept_init=intercept)"
   ]
  },
  {
   "cell_type": "code",
   "execution_count": 30,
   "metadata": {},
   "outputs": [
    {
     "data": {
      "image/png": "[encoded data removed]",
      "text/plain": [
       "<Figure size 432x288 with 1 Axes>"
      ]
     },
     "metadata": {
      "needs_background": "light"
     },
     "output_type": "display_data"
    }
   ],
   "source": [
    "plt.plot(range(len(rmse_val_score)), rmse_val_score,  c=\"g\", label=\"VAL\")\n",
    "plt.plot(range(len(rmse_train_score)), rmse_train_score,  c=\"r\", label=\"TRAINING\")\n",
    "plt.scatter(99, rmse(y_test,sgd_regressor.predict(X_test)), s=1, label=\"TEST\")\n",
    "plt.legend()\n",
    "plt.show()"
   ]
  },
  {
   "cell_type": "code",
   "execution_count": 31,
   "metadata": {},
   "outputs": [
    {
     "data": {
      "text/plain": [
       "array([293, 294, 292, 298, 295, 268, 280, 286, 283, 297, 277, 296, 279,\n",
       "       299, 289, 278, 256, 272, 282, 284, 290, 287, 242, 273, 266, 285,\n",
       "       274, 291, 267, 281, 265, 275, 248, 288, 269, 262, 257, 255, 264,\n",
       "       246, 247, 260, 238, 271, 276, 251, 261, 252, 254, 270, 232, 259,\n",
       "       240, 241, 263, 258, 253, 234, 249, 239, 243, 223, 230, 227, 250,\n",
       "       244, 224, 245, 237, 231, 222, 233, 236, 221, 235, 220, 229, 219,\n",
       "       204, 226, 228, 205, 207, 218, 209, 217, 206, 215, 208, 216, 203,\n",
       "       225, 210, 213, 214, 200, 211, 202, 198, 195, 197, 212, 194, 199,\n",
       "       193, 186, 201, 188, 196, 187, 180, 184, 189, 192, 185, 182, 191,\n",
       "       178, 190, 171, 183, 179, 177, 181, 170, 172, 175, 174, 176, 167,\n",
       "       168, 169, 162, 163, 173, 166, 161, 157, 160, 165, 164, 159, 158,\n",
       "       156, 155, 154, 148, 146, 152, 151, 153, 149, 144, 145, 147, 150,\n",
       "       142, 143, 141, 139, 140, 136, 137, 135, 138, 130, 133, 131, 129,\n",
       "       134, 132, 126, 128, 127, 123, 122, 125, 121, 124, 119, 116, 117,\n",
       "       113, 112, 120, 115, 118, 114, 108, 109, 107, 111, 110, 103, 106,\n",
       "        97, 105, 104,  98,  96, 102,  99, 100, 101,  95,  94,  92,  93,\n",
       "        91,  89,  90,  88,  87,  86,  84,  85,  83,  81,  82,  80,  78,\n",
       "        77,  74,  76,  79,  73,  75,  72,  71,  66,  69,  70,  68,  67,\n",
       "        65,  62,  64,  63,  57,  60,  61,  58,  56,  55,  59,  53,  54,\n",
       "        52,  49,  51,  50,  48,  46,  47,  44,  45,  43,  42,  41,  39,\n",
       "        38,  40,  36,  37,  35,  34,  32,  33,  31,  29,  30,  28,  27,\n",
       "        26,  25,  24,  23,  21,  20,  19,  22,  18,  17,  15,  16,  14,\n",
       "        12,  13,  11,  10,   9,   8,   7,   6,   5,   4,   3,   2,   1,\n",
       "         0], dtype=int64)"
      ]
     },
     "execution_count": 31,
     "metadata": {},
     "output_type": "execute_result"
    }
   ],
   "source": [
    "np.argsort(rmse_val_score)"
   ]
  },
  {
   "cell_type": "code",
   "execution_count": 38,
   "metadata": {},
   "outputs": [
    {
     "data": {
      "text/plain": [
       "5.01138437894543"
      ]
     },
     "execution_count": 38,
     "metadata": {},
     "output_type": "execute_result"
    }
   ],
   "source": [
    "rmse(y_test,sgd_regressor.predict(X_test))"
   ]
  },
  {
   "cell_type": "code",
   "execution_count": 33,
   "metadata": {},
   "outputs": [
    {
     "data": {
      "text/plain": [
       "5.407864024201159"
      ]
     },
     "execution_count": 33,
     "metadata": {},
     "output_type": "execute_result"
    }
   ],
   "source": [
    "rmse(y_test,model_list[0].predict(X_test))"
   ]
  },
  {
   "cell_type": "code",
   "execution_count": 36,
   "metadata": {},
   "outputs": [
    {
     "data": {
      "text/plain": [
       "5.012518923074201"
      ]
     },
     "execution_count": 36,
     "metadata": {},
     "output_type": "execute_result"
    }
   ],
   "source": [
    "rmse(y_test,model_list[293].predict(X_test))"
   ]
  },
  {
   "cell_type": "code",
   "execution_count": 37,
   "metadata": {},
   "outputs": [
    {
     "data": {
      "text/plain": [
       "array([-0.48459133,  0.24731717, -0.22158842,  0.88123055, -0.70049903,\n",
       "        3.88704131, -0.02395742, -1.77983297,  0.1216014 , -0.49115258,\n",
       "       -1.78987263,  0.95672295, -3.06346755])"
      ]
     },
     "execution_count": 37,
     "metadata": {},
     "output_type": "execute_result"
    }
   ],
   "source": [
    "model_list[0].coef_"
   ]
  },
  {
   "cell_type": "code",
   "execution_count": null,
   "metadata": {},
   "outputs": [],
   "source": []
  }
 ],
 "metadata": {
  "interpreter": {
   "hash": "b3ba2566441a7c06988d0923437866b63cedc61552a5af99d1f4fb67d367b25f"
  },
  "kernelspec": {
   "display_name": "Python 3.8.8 64-bit ('base': conda)",
   "language": "python",
   "name": "python3"
  },
  "language_info": {
   "codemirror_mode": {
    "name": "ipython",
    "version": 3
   },
   "file_extension": ".py",
   "mimetype": "text/x-python",
   "name": "python",
   "nbconvert_exporter": "python",
   "pygments_lexer": "ipython3",
   "version": "3.8.8"
  },
  "orig_nbformat": 4
 },
 "nbformat": 4,
 "nbformat_minor": 2
}
