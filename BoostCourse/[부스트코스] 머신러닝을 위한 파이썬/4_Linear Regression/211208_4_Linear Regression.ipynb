{
 "cells": [
  {
   "cell_type": "markdown",
   "metadata": {},
   "source": [
    "# Overview\n",
    "\n",
    "이 과정에서는 예측함수를 가설함수라 칭할 것이다.\n",
    "\n",
    "실제값과 가설함수의 차이\n",
    "\n",
    "![](2021-12-08-23-45-13.png)\n",
    "\n",
    "Cost function이라고 부를 예정\n",
    "\n",
    "![](2021-12-08-23-45-36.png)\n",
    "\n",
    "Cost function을 최소화 할 수 있는 weight 값 세타를 구한다.\n",
    "\n",
    "![](2021-12-08-23-46-12.png)\n",
    "\n",
    "미분을 통해 구할 수 있다."
   ]
  },
  {
   "cell_type": "code",
   "execution_count": null,
   "metadata": {},
   "outputs": [],
   "source": []
  }
 ],
 "metadata": {
  "interpreter": {
   "hash": "b3ba2566441a7c06988d0923437866b63cedc61552a5af99d1f4fb67d367b25f"
  },
  "kernelspec": {
   "display_name": "Python 3.8.8 64-bit ('base': conda)",
   "language": "python",
   "name": "python3"
  },
  "language_info": {
   "name": "python",
   "version": "3.8.8"
  },
  "orig_nbformat": 4
 },
 "nbformat": 4,
 "nbformat_minor": 2
}
