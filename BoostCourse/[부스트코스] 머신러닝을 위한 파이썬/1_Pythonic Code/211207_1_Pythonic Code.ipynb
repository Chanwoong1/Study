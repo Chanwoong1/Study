{
 "cells": [
  {
   "cell_type": "markdown",
   "metadata": {},
   "source": [
    "# Pythonic Code Overview\n",
    "\n",
    "학습 목표\n",
    "\n",
    "- Pythonic Code는 간단하게, 다른 사람의 코드를 잘 이해하기 위해서 파이썬 특유의 문법을 활용하여 효율적으로 코드를 표현하는 기법을 말합니다.\n",
    "\n",
    "이번 챕터에서는 Pythonic Code 를 작성하는 방법과, Matrices와 Vector 의 연산을 Pythonic Code 로 구현하는 방법을 배웁니다."
   ]
  },
  {
   "cell_type": "code",
   "execution_count": 1,
   "metadata": {},
   "outputs": [
    {
     "name": "stdout",
     "output_type": "stream",
     "text": [
      "abcde\n"
     ]
    }
   ],
   "source": [
    "# 일반 코드\n",
    "\n",
    "colors = [\"a\", \"b\", \"c\", \"d\", \"e\"]\n",
    "result = \"\"\n",
    "\n",
    "for s in colors:\n",
    "    result += s\n",
    "\n",
    "print(result)"
   ]
  },
  {
   "cell_type": "code",
   "execution_count": 2,
   "metadata": {},
   "outputs": [
    {
     "name": "stdout",
     "output_type": "stream",
     "text": [
      "redbluegreenyellow\n"
     ]
    }
   ],
   "source": [
    "# pythonic code\n",
    "\n",
    "colors = [\"red\", \"blue\", \"green\", \"yellow\"]\n",
    "result = \"\".join(colors)\n",
    "\n",
    "print(result)"
   ]
  },
  {
   "cell_type": "markdown",
   "metadata": {},
   "source": [
    "# Pythonic Code\n",
    "\n",
    "- Split & Join\n",
    "- List Comprehension\n",
    "- Enumerate & Zip\n",
    "- Lambda & MapReduce\n",
    "- Asterisk"
   ]
  },
  {
   "cell_type": "markdown",
   "metadata": {},
   "source": [
    "## Split & Join\n",
    "\n",
    "### Split\n",
    "- String Type의 값을 나눠서 List 형태로 변환"
   ]
  },
  {
   "cell_type": "code",
   "execution_count": 3,
   "metadata": {},
   "outputs": [
    {
     "name": "stdout",
     "output_type": "stream",
     "text": [
      "['zero', 'one', 'two', 'three']\n"
     ]
    }
   ],
   "source": [
    "# 빈칸을 기준으로 문자열 나누기\n",
    "items = 'zero one two three'.split()\n",
    "\n",
    "print(items)"
   ]
  },
  {
   "cell_type": "code",
   "execution_count": 4,
   "metadata": {},
   "outputs": [
    {
     "name": "stdout",
     "output_type": "stream",
     "text": [
      "['python', 'jquery', 'javascript']\n"
     ]
    }
   ],
   "source": [
    "# ','을 기준으로 문자열 나누기\n",
    "example = 'python,jquery,javascript'\n",
    "\n",
    "print(example.split(','))"
   ]
  },
  {
   "cell_type": "code",
   "execution_count": 6,
   "metadata": {},
   "outputs": [],
   "source": [
    "# 리스트의 각 값을 a, b, c 변수로 unpacking\n",
    "example = 'python,jquery,javascript'\n",
    "\n",
    "a, b, c = example.split(',')"
   ]
  },
  {
   "cell_type": "markdown",
   "metadata": {},
   "source": [
    "### Join\n",
    "- String List를 합쳐 하나의 String으로 반환할 때 사용"
   ]
  },
  {
   "cell_type": "code",
   "execution_count": 8,
   "metadata": {},
   "outputs": [
    {
     "name": "stdout",
     "output_type": "stream",
     "text": [
      "redbluegreenyellow\n",
      "red blue green yellow\n"
     ]
    }
   ],
   "source": [
    "colors = [\"red\", \"blue\", \"green\", \"yellow\"]\n",
    "result = \"\".join(colors)\n",
    "print(result)\n",
    "\n",
    "colors = [\"red\", \"blue\", \"green\", \"yellow\"]\n",
    "result = \" \".join(colors)   # 연결 시 빈칸 1칸으로 연결\n",
    "print(result)"
   ]
  },
  {
   "cell_type": "markdown",
   "metadata": {},
   "source": [
    "## List Comprehensions\n",
    "- 기존 List 사용하여 간단히 다른 List를 만드는 기법\n",
    "- 포괄적인 List, 포함되는 리스트라는 의미로 사용됨\n",
    "- 파이썬에서 가장 많이 사용되는 기법 중 하나\n",
    "- 일반적으로 for + append 보다 속도가 빠름"
   ]
  },
  {
   "cell_type": "code",
   "execution_count": 9,
   "metadata": {},
   "outputs": [
    {
     "name": "stdout",
     "output_type": "stream",
     "text": [
      "[0, 1, 2, 3, 4, 5, 6, 7, 8, 9]\n"
     ]
    }
   ],
   "source": [
    "# for loop + append\n",
    "result = []\n",
    "\n",
    "for i in range(10):\n",
    "    result.append(i)\n",
    "\n",
    "print(result)"
   ]
  },
  {
   "cell_type": "code",
   "execution_count": 10,
   "metadata": {},
   "outputs": [
    {
     "name": "stdout",
     "output_type": "stream",
     "text": [
      "[0, 1, 2, 3, 4, 5, 6, 7, 8, 9]\n",
      "[0, 2, 4, 6, 8]\n"
     ]
    }
   ],
   "source": [
    "# List Comprehension\n",
    "result = [i for i in range(10)]\n",
    "print(result)\n",
    "\n",
    "result = [i for i in range(10) if i % 2 == 0]\n",
    "print(result)"
   ]
  },
  {
   "cell_type": "code",
   "execution_count": 12,
   "metadata": {},
   "outputs": [
    {
     "name": "stdout",
     "output_type": "stream",
     "text": [
      "['HW', 'Ho', 'Hr', 'Hl', 'Hd', 'eW', 'eo', 'er', 'el', 'ed', 'lW', 'lo', 'lr', 'll', 'ld', 'lW', 'lo', 'lr', 'll', 'ld', 'oW', 'oo', 'or', 'ol', 'od']\n"
     ]
    }
   ],
   "source": [
    "# Nested For loop\n",
    "word_1 = \"Hello\"\n",
    "word_2 = \"World\"\n",
    "result = [i + j for i in word_1 for j in word_2]\n",
    "\n",
    "print(result)"
   ]
  },
  {
   "cell_type": "code",
   "execution_count": 13,
   "metadata": {},
   "outputs": [
    {
     "name": "stdout",
     "output_type": "stream",
     "text": [
      "['AD', 'AE', 'AA', 'BD', 'BE', 'BA', 'CD', 'CE', 'CA']\n",
      "['AD', 'AE', 'BA', 'BD', 'BE', 'CA', 'CD', 'CE']\n"
     ]
    }
   ],
   "source": [
    "# Nested For loop + if 문\n",
    "case_1 = [\"A\", \"B\", \"C\"]\n",
    "case_2 = [\"D\", \"E\", \"A\"]\n",
    "\n",
    "result = [i + j for i in case_1 for j in case_2]\n",
    "print(result)\n",
    "\n",
    "# if 문 추가 (i와 j가 같으면 추가하지 않음)\n",
    "result = [i + j for i in case_1 for j in case_2 if not(i == j)]\n",
    "result.sort()\n",
    "\n",
    "print(result)"
   ]
  },
  {
   "cell_type": "code",
   "execution_count": 16,
   "metadata": {},
   "outputs": [
    {
     "name": "stdout",
     "output_type": "stream",
     "text": [
      "['The', 'quick', 'brown', 'fox', 'jumps', 'over', 'the', 'lazy', 'dog']\n",
      "[['THE', 'the', 3], ['QUICK', 'quick', 5], ['BROWN', 'brown', 5], ['FOX', 'fox', 3], ['JUMPS', 'jumps', 5], ['OVER', 'over', 4], ['THE', 'the', 3], ['LAZY', 'lazy', 4], ['DOG', 'dog', 3]]\n"
     ]
    }
   ],
   "source": [
    "# Split + List Comprehension\n",
    "words = 'The quick brown fox jumps over the lazy dog'.split()\n",
    "print(words)    # 문장을 빈칸 기준으로 나눠 List로 반환\n",
    "\n",
    "# List의 각 elements들을 대문자, 소문자, 길이로 변환하여 two dimensional list로 변환\n",
    "stuff = [[w.upper(), w.lower(), len(w)] for w in words]\n",
    "print(stuff)"
   ]
  },
  {
   "cell_type": "code",
   "execution_count": 17,
   "metadata": {},
   "outputs": [
    {
     "name": "stdout",
     "output_type": "stream",
     "text": [
      "['THE', 'the', 3]\n",
      "['QUICK', 'quick', 5]\n",
      "['BROWN', 'brown', 5]\n",
      "['FOX', 'fox', 3]\n",
      "['JUMPS', 'jumps', 5]\n",
      "['OVER', 'over', 4]\n",
      "['THE', 'the', 3]\n",
      "['LAZY', 'lazy', 4]\n",
      "['DOG', 'dog', 3]\n"
     ]
    }
   ],
   "source": [
    "for i in stuff:\n",
    "    print(i)"
   ]
  },
  {
   "cell_type": "markdown",
   "metadata": {},
   "source": [
    "## Enumerate & Zip\n",
    "\n",
    "### Enumerate\n",
    "- List의 element를 추출할 때 번호를 붙여서 추출"
   ]
  },
  {
   "cell_type": "code",
   "execution_count": 19,
   "metadata": {},
   "outputs": [
    {
     "name": "stdout",
     "output_type": "stream",
     "text": [
      "0 tic\n",
      "1 tac\n",
      "2 toe\n"
     ]
    }
   ],
   "source": [
    "for i, v in enumerate(['tic', 'tac', 'toe']) :\n",
    "    # list에 있는 index와 value를 unpacking\n",
    "    print(i, v)"
   ]
  },
  {
   "cell_type": "code",
   "execution_count": 20,
   "metadata": {},
   "outputs": [
    {
     "data": {
      "text/plain": [
       "[(0, 'a'), (1, 'b'), (2, 'c'), (3, 'd')]"
      ]
     },
     "execution_count": 20,
     "metadata": {},
     "output_type": "execute_result"
    }
   ],
   "source": [
    "mylist = ['a', 'b', 'c', 'd']\n",
    "list(enumerate(mylist))"
   ]
  },
  {
   "cell_type": "code",
   "execution_count": 21,
   "metadata": {},
   "outputs": [
    {
     "data": {
      "text/plain": [
       "{0: 'a', 1: 'b', 2: 'c', 3: 'd'}"
      ]
     },
     "execution_count": 21,
     "metadata": {},
     "output_type": "execute_result"
    }
   ],
   "source": [
    "# 리스트의 인덱스와 값을 언패킹하여 딕셔너리로 변환\n",
    "{i : j for i, j in enumerate(mylist)}"
   ]
  },
  {
   "cell_type": "markdown",
   "metadata": {},
   "source": [
    "### Zip\n",
    "- 두 개의 list의 값을 병렬적으로 추출함"
   ]
  },
  {
   "cell_type": "code",
   "execution_count": 22,
   "metadata": {},
   "outputs": [
    {
     "name": "stdout",
     "output_type": "stream",
     "text": [
      "a1 b1\n",
      "a2 b2\n",
      "a3 b3\n"
     ]
    }
   ],
   "source": [
    "alist = ['a1', 'a2', 'a3']\n",
    "blist = ['b1', 'b2', 'b3']\n",
    "\n",
    "for a, b, in zip(alist, blist) :\n",
    "    print(a, b)"
   ]
  },
  {
   "cell_type": "code",
   "execution_count": 23,
   "metadata": {},
   "outputs": [
    {
     "name": "stdout",
     "output_type": "stream",
     "text": [
      "(1, 10, 100) (2, 20, 200) (3, 30, 300)\n",
      "[111, 222, 333]\n"
     ]
    }
   ],
   "source": [
    "# list comprehension + zip\n",
    "a, b, c = zip((1, 2, 3), (10, 20, 30), (100, 200, 300))\n",
    "print(a, b, c)\n",
    "\n",
    "print([sum(x) for x in zip((1, 2, 3), (10, 20, 30), (100, 200, 300))])"
   ]
  },
  {
   "cell_type": "code",
   "execution_count": 24,
   "metadata": {},
   "outputs": [
    {
     "name": "stdout",
     "output_type": "stream",
     "text": [
      "0 a1 b1\n",
      "1 a2 b2\n",
      "2 a3 b3\n"
     ]
    }
   ],
   "source": [
    "# enumerate + zip\n",
    "alist = ['a1', 'a2', 'a3']\n",
    "blist = ['b1', 'b2', 'b3']\n",
    "\n",
    "for i, (a, b) in enumerate(zip(alist, blist)):\n",
    "    print(i, a, b)"
   ]
  },
  {
   "cell_type": "markdown",
   "metadata": {},
   "source": [
    "## Lambda & MapReduce\n",
    "\n",
    "### Lambda\n",
    "- 함수 이름 없이, 함수처럼 쓸 수 있는 익명함수\n",
    "- 수학의 람다 대수에서 유래함"
   ]
  },
  {
   "cell_type": "code",
   "execution_count": 25,
   "metadata": {},
   "outputs": [
    {
     "name": "stdout",
     "output_type": "stream",
     "text": [
      "5\n",
      "5\n"
     ]
    }
   ],
   "source": [
    "# General Function\n",
    "def f(x, y) :\n",
    "    return x + y\n",
    "\n",
    "print(f(1, 4))\n",
    "\n",
    "# Lambda Function\n",
    "f = lambda x, y : x + y\n",
    "print(f(1, 4))"
   ]
  },
  {
   "cell_type": "markdown",
   "metadata": {},
   "source": [
    "### Map & Reduce\n",
    "\n",
    "### Map\n",
    "- Sequence 자료형 각 element에 동일한 function을 적용함"
   ]
  },
  {
   "cell_type": "code",
   "execution_count": 28,
   "metadata": {},
   "outputs": [
    {
     "name": "stdout",
     "output_type": "stream",
     "text": [
      "[1, 4, 9, 16, 25]\n",
      "[2, 4, 6, 8, 10]\n"
     ]
    }
   ],
   "source": [
    "ex = [1, 2, 3, 4, 5]\n",
    "f = lambda x : x ** 2\n",
    "print(list(map(f, ex)))\n",
    "\n",
    "ex = [1, 2, 3, 4, 5]\n",
    "f = lambda x, y : x + y\n",
    "print(list(map(f, ex, ex)))"
   ]
  },
  {
   "cell_type": "markdown",
   "metadata": {},
   "source": [
    "### Reduce\n",
    "- map과 달리 list에 똑같은 함수를 적용해서 통합"
   ]
  },
  {
   "cell_type": "code",
   "execution_count": 29,
   "metadata": {},
   "outputs": [
    {
     "name": "stdout",
     "output_type": "stream",
     "text": [
      "15\n"
     ]
    }
   ],
   "source": [
    "from functools import reduce\n",
    "print(reduce(lambda x, y : x + y, [1, 2, 3, 4, 5]))"
   ]
  },
  {
   "cell_type": "code",
   "execution_count": 31,
   "metadata": {},
   "outputs": [
    {
     "name": "stdout",
     "output_type": "stream",
     "text": [
      "120\n"
     ]
    }
   ],
   "source": [
    "def factorial(n) :\n",
    "    return reduce(lambda x, y : x * y, range(1, n + 1))\n",
    "\n",
    "print(factorial(5))"
   ]
  },
  {
   "cell_type": "markdown",
   "metadata": {},
   "source": [
    "## Asterisk\n",
    "- 흔히 알고 있는 * 를 의미함\n",
    "- 단순 곱셈, 제곱연산, 가변 인자 활용 등 다양하게 사용됨"
   ]
  },
  {
   "cell_type": "code",
   "execution_count": 32,
   "metadata": {},
   "outputs": [
    {
     "name": "stdout",
     "output_type": "stream",
     "text": [
      "1 (2, 3, 4, 5, 6)\n",
      "<class 'tuple'>\n"
     ]
    }
   ],
   "source": [
    "def asterisk_test(a, *args) :\n",
    "    print(a, args)\n",
    "    print(type(args))\n",
    "\n",
    "asterisk_test(1, 2, 3, 4, 5, 6)"
   ]
  },
  {
   "cell_type": "code",
   "execution_count": 35,
   "metadata": {},
   "outputs": [
    {
     "name": "stdout",
     "output_type": "stream",
     "text": [
      "1 {'b': 2, 'c': 3, 'd': 4, 'e': 5, 'f': 6}\n",
      "<class 'dict'>\n"
     ]
    }
   ],
   "source": [
    "def asterisk_test(a, **kargs) :\n",
    "    print(a, kargs)\n",
    "    print(type(kargs))\n",
    "\n",
    "asterisk_test(1, b = 2, c = 3, d = 4, e = 5, f = 6)"
   ]
  },
  {
   "cell_type": "code",
   "execution_count": 36,
   "metadata": {},
   "outputs": [
    {
     "name": "stdout",
     "output_type": "stream",
     "text": [
      "1 (2, 3, 4, 5, 6)\n",
      "<class 'tuple'>\n"
     ]
    }
   ],
   "source": [
    "def asterisk_test(a, *args):\n",
    "    print(a, args[0])\n",
    "    print(type(args))\n",
    "\n",
    "asterisk_test(1, (2, 3, 4, 5, 6))"
   ]
  },
  {
   "cell_type": "code",
   "execution_count": 37,
   "metadata": {},
   "outputs": [
    {
     "name": "stdout",
     "output_type": "stream",
     "text": [
      "1 2 3 4 5 6\n",
      "<class 'tuple'>\n"
     ]
    }
   ],
   "source": [
    "# 함수 내부에서 *를 사용하면 unpacking 된 형태로 출력된다.\n",
    "def asterisk_test(a, args):\n",
    "    print(a, *args)     # unpacking\n",
    "    print(type(args))\n",
    "\n",
    "asterisk_test(1, (2,3,4,5,6))"
   ]
  },
  {
   "cell_type": "code",
   "execution_count": 38,
   "metadata": {},
   "outputs": [
    {
     "name": "stdout",
     "output_type": "stream",
     "text": [
      "[1, 2] [3, 4] [5, 6]\n",
      "[1, 2] [3, 4] [5, 6]\n"
     ]
    }
   ],
   "source": [
    "a, b, c = ([1, 2], [3, 4], [5, 6])\n",
    "print(a, b, c)\n",
    "\n",
    "data = ([1, 2], [3, 4], [5, 6])\n",
    "print(*data)"
   ]
  },
  {
   "cell_type": "code",
   "execution_count": 39,
   "metadata": {},
   "outputs": [
    {
     "name": "stdout",
     "output_type": "stream",
     "text": [
      "9\n",
      "12\n"
     ]
    }
   ],
   "source": [
    "for data in zip(*([1, 2], [3, 4], [5, 6])):\n",
    "    print(sum(data))"
   ]
  },
  {
   "cell_type": "code",
   "execution_count": 46,
   "metadata": {},
   "outputs": [
    {
     "name": "stdout",
     "output_type": "stream",
     "text": [
      "10 3 2 1 0\n"
     ]
    }
   ],
   "source": [
    "def asterisk_test(a, b, c, d, e=0):\n",
    "    print(a, b, c, d, e)\n",
    "    \n",
    "data = {'d' : 1 , 'c' : 2, 'b' : 3} # 키워드 인자에 없는 값을 넣으면 오류난다.\n",
    "asterisk_test(10, **data)"
   ]
  },
  {
   "cell_type": "markdown",
   "metadata": {},
   "source": [
    "# Data Structure - Collections\n",
    "- list, tuple, dict에 대한 python built-in 확장 자료 구조\n",
    "- 편의성, 실행 효율 등을 사용자에게 제공함\n",
    "- 아래의 모듈이 존재함\n",
    "    - from collections import deque, Counter, OrderedDict, defaultdict, namedtuple\n",
    "\n",
    "## deque\n",
    "- Stack과 Queue를 지원하는 모듈\n",
    "- 리스트에 비해 효율적인 자료 저장 방식을 지원함"
   ]
  },
  {
   "cell_type": "code",
   "execution_count": 47,
   "metadata": {},
   "outputs": [
    {
     "name": "stdout",
     "output_type": "stream",
     "text": [
      "deque([0, 1, 2, 3, 4])\n"
     ]
    }
   ],
   "source": [
    "from collections import deque\n",
    "deque_list = deque()\n",
    "for i in range(5) :\n",
    "    deque_list.append(i)\n",
    "print(deque_list)"
   ]
  },
  {
   "cell_type": "code",
   "execution_count": 48,
   "metadata": {},
   "outputs": [
    {
     "name": "stdout",
     "output_type": "stream",
     "text": [
      "deque([10, 0, 1, 2, 3, 4])\n"
     ]
    }
   ],
   "source": [
    "deque_list.appendleft(10)\n",
    "print(deque_list)"
   ]
  },
  {
   "cell_type": "markdown",
   "metadata": {},
   "source": [
    "## OrderedDict\n",
    "- Dict와 달리, 데이터를 입력한 순서대로 dict를 반환함"
   ]
  },
  {
   "cell_type": "code",
   "execution_count": 50,
   "metadata": {},
   "outputs": [
    {
     "name": "stdout",
     "output_type": "stream",
     "text": [
      "x 100\n",
      "y 200\n",
      "z 300\n",
      "l 500\n"
     ]
    }
   ],
   "source": [
    "from collections import OrderedDict\n",
    "d = OrderedDict()\n",
    "d['x'] = 100\n",
    "d['y'] = 200\n",
    "d['z'] = 300\n",
    "d['l'] = 500\n",
    "\n",
    "for k, v in d.items() :\n",
    "    print(k, v)"
   ]
  },
  {
   "cell_type": "code",
   "execution_count": 54,
   "metadata": {},
   "outputs": [
    {
     "name": "stdout",
     "output_type": "stream",
     "text": [
      "l 500\n",
      "x 100\n",
      "y 200\n",
      "z 300\n"
     ]
    }
   ],
   "source": [
    "# Dict type의 값을 value 또는 key 값으로 정렬할 때 사용 가능\n",
    "# key 기준 정렬\n",
    "for k, v in OrderedDict(sorted(d.items(), key = lambda t : t[0])).items() :\n",
    "    print(k, v)"
   ]
  },
  {
   "cell_type": "code",
   "execution_count": 55,
   "metadata": {},
   "outputs": [
    {
     "name": "stdout",
     "output_type": "stream",
     "text": [
      "x 100\n",
      "y 200\n",
      "z 300\n",
      "l 500\n"
     ]
    }
   ],
   "source": [
    "# value 기준 정렬\n",
    "for k, v in OrderedDict(sorted(d.items(), key = lambda t : t[1])).items() :\n",
    "    print(k, v)"
   ]
  },
  {
   "cell_type": "markdown",
   "metadata": {},
   "source": [
    "## defaultdict\n",
    "- dict type의 값에 기본 값을 지정, 신규값 생성시 사용하는 방법"
   ]
  },
  {
   "cell_type": "code",
   "execution_count": 59,
   "metadata": {},
   "outputs": [
    {
     "name": "stdout",
     "output_type": "stream",
     "text": [
      "0\n"
     ]
    }
   ],
   "source": [
    "from collections import defaultdict\n",
    "d = defaultdict(object) # Default dictionary를 생성\n",
    "d = defaultdict(lambda : 0) # Default 값을 0으로 설정함\n",
    "print(d['first'])"
   ]
  },
  {
   "cell_type": "markdown",
   "metadata": {},
   "source": [
    "## Counter\n",
    "- Sequence type의 data element들의 갯수를 dict 형태로 반환"
   ]
  },
  {
   "cell_type": "code",
   "execution_count": 61,
   "metadata": {},
   "outputs": [
    {
     "name": "stdout",
     "output_type": "stream",
     "text": [
      "Counter({'a': 3, 'l': 2, 'g': 1, 'h': 1, 'd': 1})\n",
      "Counter({'red': 4, 'blue': 2})\n",
      "['red', 'red', 'red', 'red', 'blue', 'blue']\n",
      "Counter({'dogs': 8, 'cats': 4})\n",
      "['cats', 'cats', 'cats', 'cats', 'dogs', 'dogs', 'dogs', 'dogs', 'dogs', 'dogs', 'dogs', 'dogs']\n",
      "Counter({'a': 3, 'b': 0, 'c': -3, 'd': -6})\n",
      "Counter({'a': 5, 'b': 4, 'c': 3, 'd': 2})\n",
      "Counter({'b': 2, 'a': 1})\n",
      "Counter({'a': 4, 'd': 4, 'c': 3, 'b': 2})\n"
     ]
    }
   ],
   "source": [
    "from collections import Counter\n",
    "\n",
    "c = Counter()                           # a new, empty counter\n",
    "c = Counter('gallahad')                 # a new counter from an iterable\n",
    "print(c)\n",
    "\n",
    "c = Counter({'red': 4, 'blue': 2})      # a new counter from a mapping\n",
    "print(c)\n",
    "print(list(c.elements()))\n",
    "\n",
    "c = Counter(cats=4, dogs=8)             # a new counter from keyword args\n",
    "print(c)\n",
    "print(list(c.elements()))\n",
    "\n",
    "c = Counter(a=4, b=2, c=0, d=-2)\n",
    "d = Counter(a=1, b=2, c=3, d=4)\n",
    "c.subtract(d)  # c- d\n",
    "print(c)\n",
    "\n",
    "c = Counter(a=4, b=2, c=0, d=-2)\n",
    "d = Counter(a=1, b=2, c=3, d=4)\n",
    "print(c + d)\n",
    "print(c & d)\n",
    "print(c | d)"
   ]
  },
  {
   "cell_type": "markdown",
   "metadata": {},
   "source": [
    "## namedtuple\n",
    "- Tuple 형태로 Data 구조체를 저장하는 방법\n",
    "- 저장되는 data의 variable을 사전에 지정해서 저장함"
   ]
  },
  {
   "cell_type": "code",
   "execution_count": 60,
   "metadata": {},
   "outputs": [
    {
     "name": "stdout",
     "output_type": "stream",
     "text": [
      "33\n",
      "11 22\n",
      "33\n",
      "Point(x=11, y=22)\n"
     ]
    }
   ],
   "source": [
    "from collections import namedtuple\n",
    "\n",
    "# Basic example\n",
    "Point = namedtuple('Point', ['x', 'y'])\n",
    "p = Point(11, y=22)\n",
    "print(p[0] + p[1])\n",
    "\n",
    "x, y = p\n",
    "print(x, y)\n",
    "print(p.x + p.y)\n",
    "print(Point(x=11, y=22))"
   ]
  },
  {
   "cell_type": "markdown",
   "metadata": {},
   "source": [
    "# Linear Algebra\n",
    "\n",
    "## Vector representation of python\n",
    "- Vector를 파이썬으로 표시하는 다양한 방법 존재\n",
    "- 최선의 방법은 없음\n",
    "- 값의 변경 유무, 속성값 유무에 따라 선택할 수 있음\n",
    "- 본 수업에서는 기본적으로 list로 vector 연산 실시\n"
   ]
  },
  {
   "cell_type": "code",
   "execution_count": 62,
   "metadata": {},
   "outputs": [
    {
     "name": "stdout",
     "output_type": "stream",
     "text": [
      "[7, 10]\n"
     ]
    }
   ],
   "source": [
    "# vector의 계산 (기본)\n",
    "u = [2, 2]\n",
    "v = [2, 3]\n",
    "z = [3, 5]\n",
    "result = []\n",
    "for i in range(len(u)):\n",
    "    result.append(u[i] + v[i] + z[i])\n",
    "print(result)"
   ]
  },
  {
   "cell_type": "code",
   "execution_count": 63,
   "metadata": {},
   "outputs": [
    {
     "name": "stdout",
     "output_type": "stream",
     "text": [
      "[7, 10]\n"
     ]
    }
   ],
   "source": [
    "# Pythonic code를 사용한 계산\n",
    "u = [2, 2]\n",
    "v = [2, 3]\n",
    "z = [3, 5]\n",
    "result = [sum(t) for t in zip(u, v, z)]\n",
    "print (result)\n"
   ]
  },
  {
   "cell_type": "code",
   "execution_count": 64,
   "metadata": {},
   "outputs": [
    {
     "name": "stdout",
     "output_type": "stream",
     "text": [
      "[10, 12, 14]\n"
     ]
    }
   ],
   "source": [
    "# Vector의 계산 : Scalar-Vector product\n",
    "u = [1, 2, 3]\n",
    "v = [4, 4, 4]\n",
    "alpha = 2\n",
    "result = [alpha * sum(t) for t in zip(u, v)]\n",
    "print(result)   # 2([1, 2, 3] + [4, 4, 4]) = 2[5, 6, 7] = [10, 12, 14]"
   ]
  },
  {
   "cell_type": "markdown",
   "metadata": {},
   "source": [
    "## Matrix representation of python\n",
    "- Matrix 역시 Python으로 표시하는 다양한 방법이 존재\n",
    "- 특히 dict로 표현할 때는 무궁무진한 방법이 있음\n",
    "- [[1번째row], [2번째row], [3번째row]]\n"
   ]
  },
  {
   "cell_type": "code",
   "execution_count": 65,
   "metadata": {},
   "outputs": [
    {
     "name": "stdout",
     "output_type": "stream",
     "text": [
      "[[8, 14], [10, 12]]\n"
     ]
    }
   ],
   "source": [
    "# Matrix의 계산 : Matrix addition\n",
    "matrix_a = [[3, 6], [4, 5]]\n",
    "matrix_b = [[5, 8], [6, 7]]\n",
    "result = [[sum(row) for row in zip(*t)] for t in zip(matrix_a, matrix_b)]\n",
    "print(result)"
   ]
  },
  {
   "cell_type": "code",
   "execution_count": 66,
   "metadata": {},
   "outputs": [
    {
     "name": "stdout",
     "output_type": "stream",
     "text": [
      "[[12, 24], [16, 20]]\n"
     ]
    }
   ],
   "source": [
    "# Matrix의 계산 : Scalar-Matrix Product\n",
    "matrix_a = [[3, 6], [4, 5]]\n",
    "alpha = 4\n",
    "result = [[alpha * element for element in t] for t in matrix_a]\n",
    "print(result)"
   ]
  },
  {
   "cell_type": "code",
   "execution_count": 67,
   "metadata": {},
   "outputs": [
    {
     "name": "stdout",
     "output_type": "stream",
     "text": [
      "[[1, 4], [2, 5], [3, 6]]\n"
     ]
    }
   ],
   "source": [
    "# Matrix의 계산 : Matrix Transpose\n",
    "matrix_a = [[1, 2, 3], [4, 5, 6]]\n",
    "result = [ [element for element in t] for t in zip(*matrix_a) ]\n",
    "print (result)"
   ]
  },
  {
   "cell_type": "code",
   "execution_count": 68,
   "metadata": {},
   "outputs": [
    {
     "name": "stdout",
     "output_type": "stream",
     "text": [
      "[[5, 8], [5, 6]]\n"
     ]
    }
   ],
   "source": [
    "# Matrix의 계산 : Matrix Product\n",
    "matrix_a = [[1, 1, 2], [2, 1, 1]]\n",
    "matrix_b = [[1, 1], [2, 1], [1, 3]]\n",
    "result = [[sum(a * b for a, b in zip(row_a, column_b)) \\\n",
    "for column_b in zip(*matrix_b)] for row_a in matrix_a]\n",
    "print(result)"
   ]
  },
  {
   "cell_type": "code",
   "execution_count": null,
   "metadata": {},
   "outputs": [],
   "source": []
  }
 ],
 "metadata": {
  "interpreter": {
   "hash": "b3ba2566441a7c06988d0923437866b63cedc61552a5af99d1f4fb67d367b25f"
  },
  "kernelspec": {
   "display_name": "Python 3.8.8 64-bit ('base': conda)",
   "language": "python",
   "name": "python3"
  },
  "language_info": {
   "codemirror_mode": {
    "name": "ipython",
    "version": 3
   },
   "file_extension": ".py",
   "mimetype": "text/x-python",
   "name": "python",
   "nbconvert_exporter": "python",
   "pygments_lexer": "ipython3",
   "version": "3.8.8"
  },
  "orig_nbformat": 4
 },
 "nbformat": 4,
 "nbformat_minor": 2
}
